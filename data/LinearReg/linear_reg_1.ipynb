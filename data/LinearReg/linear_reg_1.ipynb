{
 "cells": [
  {
   "cell_type": "code",
   "execution_count": 1,
   "metadata": {},
   "outputs": [],
   "source": [
    "import pandas as pd\n",
    "import matplotlib.pyplot as plt\n",
    "import seaborn as sns"
   ]
  },
  {
   "cell_type": "code",
   "execution_count": 2,
   "metadata": {},
   "outputs": [],
   "source": [
    "df = pd.read_parquet('fully_combined.parquet')"
   ]
  },
  {
   "cell_type": "code",
   "execution_count": 3,
   "metadata": {},
   "outputs": [
    {
     "data": {
      "text/html": [
       "<div>\n",
       "<style scoped>\n",
       "    .dataframe tbody tr th:only-of-type {\n",
       "        vertical-align: middle;\n",
       "    }\n",
       "\n",
       "    .dataframe tbody tr th {\n",
       "        vertical-align: top;\n",
       "    }\n",
       "\n",
       "    .dataframe thead th {\n",
       "        text-align: right;\n",
       "    }\n",
       "</style>\n",
       "<table border=\"1\" class=\"dataframe\">\n",
       "  <thead>\n",
       "    <tr style=\"text-align: right;\">\n",
       "      <th></th>\n",
       "      <th>locationid</th>\n",
       "      <th>transit_timestamp</th>\n",
       "      <th>ridership</th>\n",
       "    </tr>\n",
       "  </thead>\n",
       "  <tbody>\n",
       "    <tr>\n",
       "      <th>0</th>\n",
       "      <td>2.0</td>\n",
       "      <td>2022-02-06 15:00:00</td>\n",
       "      <td>1.0</td>\n",
       "    </tr>\n",
       "    <tr>\n",
       "      <th>1</th>\n",
       "      <td>2.0</td>\n",
       "      <td>2022-02-16 23:00:00</td>\n",
       "      <td>1.0</td>\n",
       "    </tr>\n",
       "    <tr>\n",
       "      <th>2</th>\n",
       "      <td>2.0</td>\n",
       "      <td>2022-02-23 08:00:00</td>\n",
       "      <td>1.0</td>\n",
       "    </tr>\n",
       "    <tr>\n",
       "      <th>3</th>\n",
       "      <td>2.0</td>\n",
       "      <td>2022-02-23 19:00:00</td>\n",
       "      <td>4.0</td>\n",
       "    </tr>\n",
       "    <tr>\n",
       "      <th>4</th>\n",
       "      <td>2.0</td>\n",
       "      <td>2022-03-22 10:00:00</td>\n",
       "      <td>1.0</td>\n",
       "    </tr>\n",
       "  </tbody>\n",
       "</table>\n",
       "</div>"
      ],
      "text/plain": [
       "   locationid   transit_timestamp  ridership\n",
       "0         2.0 2022-02-06 15:00:00        1.0\n",
       "1         2.0 2022-02-16 23:00:00        1.0\n",
       "2         2.0 2022-02-23 08:00:00        1.0\n",
       "3         2.0 2022-02-23 19:00:00        4.0\n",
       "4         2.0 2022-03-22 10:00:00        1.0"
      ]
     },
     "execution_count": 3,
     "metadata": {},
     "output_type": "execute_result"
    }
   ],
   "source": [
    "df.head()"
   ]
  },
  {
   "cell_type": "code",
   "execution_count": 4,
   "metadata": {},
   "outputs": [
    {
     "data": {
      "text/html": [
       "<div>\n",
       "<style scoped>\n",
       "    .dataframe tbody tr th:only-of-type {\n",
       "        vertical-align: middle;\n",
       "    }\n",
       "\n",
       "    .dataframe tbody tr th {\n",
       "        vertical-align: top;\n",
       "    }\n",
       "\n",
       "    .dataframe thead th {\n",
       "        text-align: right;\n",
       "    }\n",
       "</style>\n",
       "<table border=\"1\" class=\"dataframe\">\n",
       "  <thead>\n",
       "    <tr style=\"text-align: right;\">\n",
       "      <th></th>\n",
       "      <th>locationid</th>\n",
       "      <th>transit_timestamp</th>\n",
       "      <th>ridership</th>\n",
       "    </tr>\n",
       "  </thead>\n",
       "  <tbody>\n",
       "    <tr>\n",
       "      <th>3857551</th>\n",
       "      <td>263.0</td>\n",
       "      <td>2024-05-30 19:00:00</td>\n",
       "      <td>985.0</td>\n",
       "    </tr>\n",
       "    <tr>\n",
       "      <th>3857552</th>\n",
       "      <td>263.0</td>\n",
       "      <td>2024-05-30 20:00:00</td>\n",
       "      <td>573.0</td>\n",
       "    </tr>\n",
       "    <tr>\n",
       "      <th>3857553</th>\n",
       "      <td>263.0</td>\n",
       "      <td>2024-05-30 21:00:00</td>\n",
       "      <td>452.0</td>\n",
       "    </tr>\n",
       "    <tr>\n",
       "      <th>3857554</th>\n",
       "      <td>263.0</td>\n",
       "      <td>2024-05-30 22:00:00</td>\n",
       "      <td>370.0</td>\n",
       "    </tr>\n",
       "    <tr>\n",
       "      <th>3857555</th>\n",
       "      <td>263.0</td>\n",
       "      <td>2024-05-30 23:00:00</td>\n",
       "      <td>226.0</td>\n",
       "    </tr>\n",
       "  </tbody>\n",
       "</table>\n",
       "</div>"
      ],
      "text/plain": [
       "         locationid   transit_timestamp  ridership\n",
       "3857551       263.0 2024-05-30 19:00:00      985.0\n",
       "3857552       263.0 2024-05-30 20:00:00      573.0\n",
       "3857553       263.0 2024-05-30 21:00:00      452.0\n",
       "3857554       263.0 2024-05-30 22:00:00      370.0\n",
       "3857555       263.0 2024-05-30 23:00:00      226.0"
      ]
     },
     "execution_count": 4,
     "metadata": {},
     "output_type": "execute_result"
    }
   ],
   "source": [
    "df.tail()"
   ]
  },
  {
   "cell_type": "code",
   "execution_count": 5,
   "metadata": {},
   "outputs": [
    {
     "name": "stdout",
     "output_type": "stream",
     "text": [
      "number of rows:  3857556\n"
     ]
    }
   ],
   "source": [
    "# Check just how many rows:\n",
    "print(\"number of rows: \", df.shape[0])"
   ]
  },
  {
   "cell_type": "code",
   "execution_count": 6,
   "metadata": {},
   "outputs": [
    {
     "name": "stdout",
     "output_type": "stream",
     "text": [
      "Number of duplicate (excluding first) rows in the table is:  0\n"
     ]
    }
   ],
   "source": [
    "#Print the number of duplicates, without the original rows that were duplicated\n",
    "print('Number of duplicate (excluding first) rows in the table is: ', df.duplicated().sum())"
   ]
  },
  {
   "cell_type": "code",
   "execution_count": 7,
   "metadata": {},
   "outputs": [
    {
     "data": {
      "text/plain": [
       "locationid           0\n",
       "transit_timestamp    0\n",
       "ridership            0\n",
       "dtype: int64"
      ]
     },
     "execution_count": 7,
     "metadata": {},
     "output_type": "execute_result"
    }
   ],
   "source": [
    "df.isnull().sum()"
   ]
  },
  {
   "cell_type": "code",
   "execution_count": 8,
   "metadata": {},
   "outputs": [
    {
     "data": {
      "text/plain": [
       "locationid                  float64\n",
       "transit_timestamp    datetime64[ns]\n",
       "ridership                   float64\n",
       "dtype: object"
      ]
     },
     "execution_count": 8,
     "metadata": {},
     "output_type": "execute_result"
    }
   ],
   "source": [
    "# Check the data types in each column as assigned by default.\n",
    "df.dtypes"
   ]
  },
  {
   "cell_type": "code",
   "execution_count": 9,
   "metadata": {},
   "outputs": [],
   "source": [
    "categorical_columns = df[['locationid']].columns\n",
    "\n",
    "# Convert data type to int for these columns - gets rid of decimal place\n",
    "for column in categorical_columns:\n",
    "    df[column] = df[column].astype('int')\n",
    "    \n",
    "\n",
    "integer_columns = df[['ridership']].columns\n",
    "\n",
    "# Convert data type to object for these columns\n",
    "for column in integer_columns:\n",
    "    df[column] = df[column].astype('int')"
   ]
  },
  {
   "cell_type": "code",
   "execution_count": 10,
   "metadata": {},
   "outputs": [
    {
     "data": {
      "text/plain": [
       "locationid                    int64\n",
       "transit_timestamp    datetime64[ns]\n",
       "ridership                     int64\n",
       "dtype: object"
      ]
     },
     "execution_count": 10,
     "metadata": {},
     "output_type": "execute_result"
    }
   ],
   "source": [
    "# Check the data types in each column as assigned by default.\n",
    "df.dtypes"
   ]
  },
  {
   "cell_type": "code",
   "execution_count": 11,
   "metadata": {},
   "outputs": [],
   "source": [
    "categorical_columns = df[['locationid']].columns\n",
    "\n",
    "# Convert data type to category for these columns\n",
    "for column in categorical_columns:\n",
    "    df[column] = df[column].astype('category')"
   ]
  },
  {
   "cell_type": "code",
   "execution_count": 12,
   "metadata": {},
   "outputs": [
    {
     "data": {
      "text/html": [
       "<div>\n",
       "<style scoped>\n",
       "    .dataframe tbody tr th:only-of-type {\n",
       "        vertical-align: middle;\n",
       "    }\n",
       "\n",
       "    .dataframe tbody tr th {\n",
       "        vertical-align: top;\n",
       "    }\n",
       "\n",
       "    .dataframe thead th {\n",
       "        text-align: right;\n",
       "    }\n",
       "</style>\n",
       "<table border=\"1\" class=\"dataframe\">\n",
       "  <thead>\n",
       "    <tr style=\"text-align: right;\">\n",
       "      <th></th>\n",
       "      <th>locationid</th>\n",
       "      <th>transit_timestamp</th>\n",
       "      <th>ridership</th>\n",
       "    </tr>\n",
       "  </thead>\n",
       "  <tbody>\n",
       "    <tr>\n",
       "      <th>0</th>\n",
       "      <td>2</td>\n",
       "      <td>2022-02-06 15:00:00</td>\n",
       "      <td>1</td>\n",
       "    </tr>\n",
       "    <tr>\n",
       "      <th>1</th>\n",
       "      <td>2</td>\n",
       "      <td>2022-02-16 23:00:00</td>\n",
       "      <td>1</td>\n",
       "    </tr>\n",
       "    <tr>\n",
       "      <th>2</th>\n",
       "      <td>2</td>\n",
       "      <td>2022-02-23 08:00:00</td>\n",
       "      <td>1</td>\n",
       "    </tr>\n",
       "    <tr>\n",
       "      <th>3</th>\n",
       "      <td>2</td>\n",
       "      <td>2022-02-23 19:00:00</td>\n",
       "      <td>4</td>\n",
       "    </tr>\n",
       "    <tr>\n",
       "      <th>4</th>\n",
       "      <td>2</td>\n",
       "      <td>2022-03-22 10:00:00</td>\n",
       "      <td>1</td>\n",
       "    </tr>\n",
       "  </tbody>\n",
       "</table>\n",
       "</div>"
      ],
      "text/plain": [
       "  locationid   transit_timestamp  ridership\n",
       "0          2 2022-02-06 15:00:00          1\n",
       "1          2 2022-02-16 23:00:00          1\n",
       "2          2 2022-02-23 08:00:00          1\n",
       "3          2 2022-02-23 19:00:00          4\n",
       "4          2 2022-03-22 10:00:00          1"
      ]
     },
     "execution_count": 12,
     "metadata": {},
     "output_type": "execute_result"
    }
   ],
   "source": [
    "df.head()"
   ]
  },
  {
   "cell_type": "code",
   "execution_count": 13,
   "metadata": {},
   "outputs": [
    {
     "data": {
      "text/html": [
       "<div>\n",
       "<style scoped>\n",
       "    .dataframe tbody tr th:only-of-type {\n",
       "        vertical-align: middle;\n",
       "    }\n",
       "\n",
       "    .dataframe tbody tr th {\n",
       "        vertical-align: top;\n",
       "    }\n",
       "\n",
       "    .dataframe thead th {\n",
       "        text-align: right;\n",
       "    }\n",
       "</style>\n",
       "<table border=\"1\" class=\"dataframe\">\n",
       "  <thead>\n",
       "    <tr style=\"text-align: right;\">\n",
       "      <th></th>\n",
       "      <th>count</th>\n",
       "      <th>unique</th>\n",
       "      <th>top</th>\n",
       "      <th>freq</th>\n",
       "    </tr>\n",
       "  </thead>\n",
       "  <tbody>\n",
       "    <tr>\n",
       "      <th>locationid</th>\n",
       "      <td>3857556</td>\n",
       "      <td>260</td>\n",
       "      <td>132</td>\n",
       "      <td>20429</td>\n",
       "    </tr>\n",
       "  </tbody>\n",
       "</table>\n",
       "</div>"
      ],
      "text/plain": [
       "              count  unique  top   freq\n",
       "locationid  3857556     260  132  20429"
      ]
     },
     "execution_count": 13,
     "metadata": {},
     "output_type": "execute_result"
    }
   ],
   "source": [
    "# Print table with categorical statistics\n",
    "df.select_dtypes(['category']).describe().T"
   ]
  },
  {
   "cell_type": "code",
   "execution_count": 14,
   "metadata": {},
   "outputs": [
    {
     "data": {
      "text/html": [
       "<div>\n",
       "<style scoped>\n",
       "    .dataframe tbody tr th:only-of-type {\n",
       "        vertical-align: middle;\n",
       "    }\n",
       "\n",
       "    .dataframe tbody tr th {\n",
       "        vertical-align: top;\n",
       "    }\n",
       "\n",
       "    .dataframe thead th {\n",
       "        text-align: right;\n",
       "    }\n",
       "</style>\n",
       "<table border=\"1\" class=\"dataframe\">\n",
       "  <thead>\n",
       "    <tr style=\"text-align: right;\">\n",
       "      <th></th>\n",
       "      <th>count</th>\n",
       "      <th>mean</th>\n",
       "      <th>std</th>\n",
       "      <th>min</th>\n",
       "      <th>25%</th>\n",
       "      <th>50%</th>\n",
       "      <th>75%</th>\n",
       "      <th>max</th>\n",
       "    </tr>\n",
       "  </thead>\n",
       "  <tbody>\n",
       "    <tr>\n",
       "      <th>ridership</th>\n",
       "      <td>3857556.0</td>\n",
       "      <td>1093.939583</td>\n",
       "      <td>2699.192049</td>\n",
       "      <td>0.0</td>\n",
       "      <td>42.0</td>\n",
       "      <td>259.0</td>\n",
       "      <td>968.0</td>\n",
       "      <td>74080.0</td>\n",
       "    </tr>\n",
       "  </tbody>\n",
       "</table>\n",
       "</div>"
      ],
      "text/plain": [
       "               count         mean          std  min   25%    50%    75%  \\\n",
       "ridership  3857556.0  1093.939583  2699.192049  0.0  42.0  259.0  968.0   \n",
       "\n",
       "               max  \n",
       "ridership  74080.0  "
      ]
     },
     "execution_count": 14,
     "metadata": {},
     "output_type": "execute_result"
    }
   ],
   "source": [
    "# Print table with continuous statistics\n",
    "df.select_dtypes(include=['int64']).describe().T"
   ]
  },
  {
   "cell_type": "code",
   "execution_count": 15,
   "metadata": {},
   "outputs": [
    {
     "name": "stdout",
     "output_type": "stream",
     "text": [
      "All datetime values are rounded to the nearest hour.\n"
     ]
    }
   ],
   "source": [
    "# Check if all datetime values are rounded to the nearest hour\n",
    "all_rounded = df['transit_timestamp'].apply(lambda x: x.minute == 0 and x.second == 0)\n",
    "    \n",
    "if all_rounded.all():\n",
    "    print(\"All datetime values are rounded to the nearest hour.\")\n",
    "else:\n",
    "    print(\"All datetime values are not rounded to the nearest hour.\")\n",
    "    "
   ]
  },
  {
   "cell_type": "code",
   "execution_count": 16,
   "metadata": {},
   "outputs": [
    {
     "name": "stdout",
     "output_type": "stream",
     "text": [
      "There are no duplicate rows with the same locationid and transit_timestamp.\n"
     ]
    }
   ],
   "source": [
    "# Identify duplicate combinations of locationid and transit_timestamp\n",
    "duplicates = df.duplicated(subset=['locationid', 'transit_timestamp'], keep=False)\n",
    "    \n",
    "if duplicates.any():\n",
    "    print(\"There are duplicate rows with the same locationid and transit_timestamp.\")\n",
    "        \n",
    "    # Show the duplicate rows\n",
    "    duplicate_rows = df[duplicates].sort_values(by=['locationid', 'transit_timestamp'])\n",
    "    print(\"Duplicate rows:\")\n",
    "    print(duplicate_rows)\n",
    "        \n",
    "    # Number of duplicate rows\n",
    "    duplicate_count = duplicate_rows.shape[0]\n",
    "    print(f\"Number of duplicate rows: {duplicate_count}\")\n",
    "else:\n",
    "    print(\"There are no duplicate rows with the same locationid and transit_timestamp.\")"
   ]
  },
  {
   "cell_type": "code",
   "execution_count": 17,
   "metadata": {},
   "outputs": [
    {
     "name": "stdout",
     "output_type": "stream",
     "text": [
      "Rows with transit_timestamp = 2022-02-23 17:00:00 and locationid = 7:\n",
      "      locationid   transit_timestamp  ridership\n",
      "39154          7 2022-02-23 17:00:00       2101\n"
     ]
    }
   ],
   "source": [
    "# Filter and print rows for a specific transit_timestamp\n",
    "specific_timestamp = pd.Timestamp('2022-02-23 17:00:00')  \n",
    "specific_locationid = 7\n",
    "filtered_rows = df[(df['transit_timestamp'] == specific_timestamp) & (df['locationid'] == specific_locationid)]\n",
    "print(f\"Rows with transit_timestamp = {specific_timestamp} and locationid = {specific_locationid}:\")\n",
    "print(filtered_rows)"
   ]
  },
  {
   "cell_type": "code",
   "execution_count": 18,
   "metadata": {},
   "outputs": [
    {
     "name": "stdout",
     "output_type": "stream",
     "text": [
      "Minimum ridership:  0\n",
      "Maximum ridership:  74080\n"
     ]
    }
   ],
   "source": [
    "# Find the minimum and maximum ridership values\n",
    "print(\"Minimum ridership: \", df['ridership'].min())\n",
    "print(\"Maximum ridership: \", df['ridership'].max())\n",
    "\n",
    "max_ridership = df['ridership'].max()"
   ]
  },
  {
   "cell_type": "code",
   "execution_count": 19,
   "metadata": {},
   "outputs": [
    {
     "name": "stdout",
     "output_type": "stream",
     "text": [
      "Number of entries in each ridership range:\n",
      "Quiet: 766965\n",
      "Not Too Busy: 772710\n",
      "A Little Busy: 774166\n",
      "Busy: 771704\n",
      "Very Busy: 733433\n",
      "Extremely Busy: 38578\n",
      "\n",
      "\n",
      "Ranges used for each category:\n",
      "Quiet: 0 - 22\n",
      "Not Too Busy: 23 - 142\n",
      "A Little Busy: 143 - 444\n",
      "Busy: 445 - 1286\n",
      "Very Busy: 1287 - 13404\n",
      "Extremely Busy: 13405 - 74080\n"
     ]
    }
   ],
   "source": [
    "# Count the number of rows in each specified range\n",
    "#ranges = {\n",
    "    #'Quiet': (0, 999),\n",
    "    #'Not Too Busy': (1000, 4999),\n",
    "    #'A Little Busy': (5000, 9999),\n",
    "    #'Busy': (10000, 19999),\n",
    "    #'Very Busy': (20000, 49999),\n",
    "    #'Extremely Busy': (50000, 74080)\n",
    "    #}\n",
    "\n",
    "# Define ranges using quantiles to get more balanced distribution\n",
    "quantiles = df['ridership'].quantile([0, 0.2, 0.4, 0.6, 0.8, 0.99]).values\n",
    "\n",
    "# Max ridership is an outlier and without the following code was the only value in extremely busy\n",
    "quantiles = list(quantiles) + [max_ridership]\n",
    "    \n",
    "# Convert quantile values to integers to get rid of decimal places\n",
    "quantiles = [int(q) for q in quantiles]\n",
    "\n",
    "# Define ranges based on quantiles\n",
    "# minus 1 at the end of each quantile to avoid overlap, e.g. Quiet was 0-23 and not too busy was 23-143, meaning both contained 23\n",
    "ranges = {\n",
    "    'Quiet': (quantiles[0], quantiles[1]-1),\n",
    "    'Not Too Busy': (quantiles[1], quantiles[2]-1),\n",
    "    'A Little Busy': (quantiles[2], quantiles[3]-1),\n",
    "    'Busy': (quantiles[3], quantiles[4]-1),\n",
    "    'Very Busy': (quantiles[4], quantiles[5]-1),\n",
    "    'Extremely Busy': (quantiles[5], quantiles[6])\n",
    "    }\n",
    "    \n",
    "range_counts = {}\n",
    "for label, (lower, upper) in ranges.items():\n",
    "    count = ((df['ridership'] >= lower) & (df['ridership'] <= upper)).sum()\n",
    "    range_counts[label] = count\n",
    "    \n",
    "print(\"Number of entries in each ridership range:\")\n",
    "for label, count in range_counts.items():\n",
    "    print(f\"{label}: {count}\")\n",
    "    \n",
    "print(\"\\n\")    \n",
    "print(\"Ranges used for each category:\")\n",
    "for label, (lower, upper) in ranges.items():\n",
    "    print(f\"{label}: {lower} - {upper}\")"
   ]
  },
  {
   "cell_type": "code",
   "execution_count": 20,
   "metadata": {},
   "outputs": [
    {
     "name": "stdout",
     "output_type": "stream",
     "text": [
      "Label assignment successful.\n",
      "        locationid   transit_timestamp  ridership       busyness\n",
      "3857526        263 2024-05-29 18:00:00       1456      Very Busy\n",
      "3857527        263 2024-05-29 19:00:00        913           Busy\n",
      "3857528        263 2024-05-29 20:00:00        588           Busy\n",
      "3857529        263 2024-05-29 21:00:00        439  A Little Busy\n",
      "3857530        263 2024-05-29 22:00:00        337  A Little Busy\n",
      "3857531        263 2024-05-29 23:00:00        197  A Little Busy\n",
      "3857532        263 2024-05-30 00:00:00         60   Not Too Busy\n",
      "3857533        263 2024-05-30 01:00:00         12          Quiet\n",
      "3857534        263 2024-05-30 02:00:00          5          Quiet\n",
      "3857535        263 2024-05-30 03:00:00          8          Quiet\n",
      "3857536        263 2024-05-30 04:00:00         18          Quiet\n",
      "3857537        263 2024-05-30 05:00:00         93   Not Too Busy\n",
      "3857538        263 2024-05-30 06:00:00        383  A Little Busy\n",
      "3857539        263 2024-05-30 07:00:00       1419      Very Busy\n",
      "3857540        263 2024-05-30 08:00:00       3418      Very Busy\n",
      "3857541        263 2024-05-30 09:00:00       1847      Very Busy\n",
      "3857542        263 2024-05-30 10:00:00        858           Busy\n",
      "3857543        263 2024-05-30 11:00:00        752           Busy\n",
      "3857544        263 2024-05-30 12:00:00        696           Busy\n",
      "3857545        263 2024-05-30 13:00:00        686           Busy\n",
      "3857546        263 2024-05-30 14:00:00        847           Busy\n",
      "3857547        263 2024-05-30 15:00:00       1182           Busy\n",
      "3857548        263 2024-05-30 16:00:00       1368      Very Busy\n",
      "3857549        263 2024-05-30 17:00:00       1680      Very Busy\n",
      "3857550        263 2024-05-30 18:00:00       1585      Very Busy\n",
      "3857551        263 2024-05-30 19:00:00        985           Busy\n",
      "3857552        263 2024-05-30 20:00:00        573           Busy\n",
      "3857553        263 2024-05-30 21:00:00        452           Busy\n",
      "3857554        263 2024-05-30 22:00:00        370  A Little Busy\n",
      "3857555        263 2024-05-30 23:00:00        226  A Little Busy\n"
     ]
    }
   ],
   "source": [
    "# Assign busyness label based on ridership value\n",
    "def assign_label(ridership):\n",
    "    if 0 <= ridership <= 22:\n",
    "        return 'Quiet'\n",
    "    elif 23 <= ridership <= 142:\n",
    "        return 'Not Too Busy'\n",
    "    elif 143 <= ridership <= 444:\n",
    "        return 'A Little Busy'\n",
    "    elif 445 <= ridership <= 1286:\n",
    "        return 'Busy'\n",
    "    elif 1287 <= ridership <= 13404:\n",
    "        return 'Very Busy'\n",
    "    elif 13405 <= ridership <= 74080:\n",
    "        return 'Extremely Busy'\n",
    "    else:\n",
    "        raise ValueError(f\"Ridership value {ridership} cannot be assigned a category.\")\n",
    "\n",
    "# Create new column 'busyness' assigning label to each ridership value\n",
    "try:\n",
    "    df['busyness'] = df['ridership'].apply(assign_label)\n",
    "    print(\"Label assignment successful.\")\n",
    "except ValueError as e:\n",
    "    print(f\"Error: {str(e)}\")\n",
    "\n",
    "# Display the updated DataFrame with the new column\n",
    "print(df.tail(30))\n"
   ]
  },
  {
   "cell_type": "code",
   "execution_count": 21,
   "metadata": {},
   "outputs": [
    {
     "data": {
      "image/png": "[encoded data removed]",
      "text/plain": [
       "<Figure size 1000x600 with 1 Axes>"
      ]
     },
     "metadata": {},
     "output_type": "display_data"
    }
   ],
   "source": [
    "plt.figure(figsize=(10, 6))\n",
    "\n",
    "# Plot ridership against index\n",
    "plt.scatter(df.index, df['ridership'], s=10, alpha=0.5)\n",
    "plt.title('Scatter Plot of Ridership Values')\n",
    "plt.xlabel('Index')\n",
    "plt.ylabel('Ridership')\n",
    "plt.grid(True)\n",
    "plt.show()"
   ]
  },
  {
   "cell_type": "code",
   "execution_count": 22,
   "metadata": {},
   "outputs": [
    {
     "name": "stdout",
     "output_type": "stream",
     "text": [
      "Unique values for:\n",
      "Locationid: [2, 3, 4, 5, 6, ..., 259, 260, 261, 262, 263]\n",
      "Length: 260\n",
      "Categories (260, int64): [2, 3, 4, 5, ..., 260, 261, 262, 263] \n",
      " \n",
      "\n",
      "Busyness: ['Quiet' 'Not Too Busy' 'A Little Busy' 'Busy' 'Very Busy'\n",
      " 'Extremely Busy']\n"
     ]
    }
   ],
   "source": [
    "# Check for irregular cardinality & permitted values in categorical features.\n",
    "print(\"Unique values for:\\nLocationid:\", pd.unique(df[\"locationid\"].ravel()), \"\\n\", \"\\n\")\n",
    "print(\"Busyness:\", pd.unique(df[\"busyness\"].ravel()))"
   ]
  },
  {
   "cell_type": "code",
   "execution_count": 23,
   "metadata": {},
   "outputs": [],
   "source": [
    "# Write the dataframe to a csv file\n",
    "df.to_csv('combined_indexed.csv', index=False)\n",
    "\n",
    "# Reading from updated csv file, into a data frame\n",
    "df = pd.read_csv('combined_indexed.csv')"
   ]
  },
  {
   "cell_type": "code",
   "execution_count": 33,
   "metadata": {},
   "outputs": [],
   "source": [
    "# Reading from updated csv file, into a data frame\n",
    "df = pd.read_csv('combined_indexed.csv')"
   ]
  },
  {
   "cell_type": "code",
   "execution_count": 34,
   "metadata": {},
   "outputs": [
    {
     "name": "stdout",
     "output_type": "stream",
     "text": [
      "number of rows:  3857556\n",
      "number of features:  4\n"
     ]
    }
   ],
   "source": [
    "# Check just how many rows:\n",
    "print(\"number of rows: \", df.shape[0])\n",
    "\n",
    "# Check just how many columns/features:\n",
    "print(\"number of features: \", df.shape[1])"
   ]
  },
  {
   "cell_type": "code",
   "execution_count": 35,
   "metadata": {},
   "outputs": [
    {
     "data": {
      "text/plain": [
       "locationid            int64\n",
       "transit_timestamp    object\n",
       "ridership             int64\n",
       "busyness             object\n",
       "dtype: object"
      ]
     },
     "execution_count": 35,
     "metadata": {},
     "output_type": "execute_result"
    }
   ],
   "source": [
    "# Check the data types in each column as assigned by default.\n",
    "df.dtypes"
   ]
  },
  {
   "cell_type": "code",
   "execution_count": 36,
   "metadata": {},
   "outputs": [],
   "source": [
    "integer_columns = df[['ridership', 'locationid']].columns\n",
    "\n",
    "# Convert data type to object for these columns\n",
    "for column in integer_columns:\n",
    "    df[column] = df[column].astype('int')"
   ]
  },
  {
   "cell_type": "code",
   "execution_count": 37,
   "metadata": {},
   "outputs": [],
   "source": [
    "categorical_columns = df[['locationid', 'busyness']].columns\n",
    "\n",
    "# Convert data type to category for these columns\n",
    "for column in categorical_columns:\n",
    "    df[column] = df[column].astype('category')\n",
    "    "
   ]
  },
  {
   "cell_type": "code",
   "execution_count": 38,
   "metadata": {},
   "outputs": [],
   "source": [
    "# Convert data type to datetime\n",
    "df['transit_timestamp'] = df['transit_timestamp'].astype('datetime64[ns]')\n",
    "    \n"
   ]
  },
  {
   "cell_type": "code",
   "execution_count": 39,
   "metadata": {},
   "outputs": [
    {
     "data": {
      "text/plain": [
       "locationid                 category\n",
       "transit_timestamp    datetime64[ns]\n",
       "ridership                     int64\n",
       "busyness                   category\n",
       "dtype: object"
      ]
     },
     "execution_count": 39,
     "metadata": {},
     "output_type": "execute_result"
    }
   ],
   "source": [
    "# Check the data types in each column as assigned by default.\n",
    "df.dtypes"
   ]
  },
  {
   "cell_type": "code",
   "execution_count": null,
   "metadata": {},
   "outputs": [],
   "source": [
    "from sklearn.model_selection import train_test_split\n",
    "from sklearn.linear_model import LinearRegression\n",
    "from sklearn.metrics import mean_squared_error, r2_score"
   ]
  },
  {
   "cell_type": "code",
   "execution_count": null,
   "metadata": {},
   "outputs": [],
   "source": [
    "# Define user input features (locationid and transit_timestamp) and target (ridership)\n",
    "X = df[['locationid', 'transit_timestamp']].copy() # Avoid indexing error\n",
    "y = df['ridership']"
   ]
  },
  {
   "cell_type": "code",
   "execution_count": null,
   "metadata": {},
   "outputs": [],
   "source": [
    "# Extract hour from transit_timestamp\n",
    "X['hour'] = X['transit_timestamp'].dt.hour\n",
    "\n",
    "# Drop the original transit_timestamp column\n",
    "X = X.drop('transit_timestamp', axis=1)"
   ]
  },
  {
   "cell_type": "code",
   "execution_count": null,
   "metadata": {},
   "outputs": [],
   "source": [
    "# Split data into training and test sets\n",
    "X_train, X_test, y_train, y_test = train_test_split(X, y, test_size=0.2, random_state=42)"
   ]
  },
  {
   "cell_type": "code",
   "execution_count": null,
   "metadata": {},
   "outputs": [],
   "source": [
    "# Initialize and train a linear regression model\n",
    "model = LinearRegression()\n",
    "model.fit(X_train, y_train)"
   ]
  },
  {
   "cell_type": "code",
   "execution_count": null,
   "metadata": {},
   "outputs": [],
   "source": [
    "y_pred = model.predict(X_test)"
   ]
  },
  {
   "cell_type": "code",
   "execution_count": null,
   "metadata": {},
   "outputs": [],
   "source": [
    "# Evaluate the model\n",
    "mse = mean_squared_error(y_test, y_pred)\n",
    "r2 = r2_score(y_test, y_pred)\n",
    "\n",
    "print(f'Mean Squared Error: {mse}')\n",
    "print(f'R-squared: {r2}')"
   ]
  },
  {
   "cell_type": "code",
   "execution_count": null,
   "metadata": {},
   "outputs": [],
   "source": [
    "# Predict busyness based on input\n",
    "locationid = 150\n",
    "transit_timestamp = pd.to_datetime('2024-07-30 23:00:00')\n",
    "hour = transit_timestamp.hour\n",
    "\n",
    "# Create a DataFrame with the input values\n",
    "input_data = pd.DataFrame({'locationid': [locationid], 'hour': [hour]})\n",
    "\n",
    "predicted_ridership = model.predict(input_data)\n",
    "predicted_ridership = predicted_ridership[0] \n",
    "\n",
    "# Assign busyness label based on predicted ridership\n",
    "predicted_busyness = assign_label(predicted_ridership)\n",
    "print(f'Predicted Busyness: {predicted_busyness}')\n"
   ]
  },
  {
   "cell_type": "code",
   "execution_count": 30,
   "metadata": {},
   "outputs": [],
   "source": [
    "# Classification model code\n",
    "import pandas as pd\n",
    "from sklearn.model_selection import train_test_split\n",
    "from sklearn.linear_model import LogisticRegression\n",
    "from sklearn.preprocessing import LabelEncoder\n",
    "from sklearn.metrics import classification_report, accuracy_score"
   ]
  },
  {
   "cell_type": "code",
   "execution_count": 40,
   "metadata": {},
   "outputs": [],
   "source": [
    "# Load data\n",
    "#df = pd.read_csv('combined_indexed.csv')\n",
    "\n",
    "# Extract hour from transit_timestamp\n",
    "df['hour'] = df['transit_timestamp'].dt.hour"
   ]
  },
  {
   "cell_type": "code",
   "execution_count": 41,
   "metadata": {},
   "outputs": [],
   "source": [
    "# Define features\n",
    "X = df[['locationid', 'hour']].copy()  # Avoid indexing error\n",
    "y = df['busyness']"
   ]
  },
  {
   "cell_type": "code",
   "execution_count": 42,
   "metadata": {},
   "outputs": [],
   "source": [
    "# Make busyness numeric\n",
    "label_encoder = LabelEncoder()\n",
    "y_encoded = label_encoder.fit_transform(y)"
   ]
  },
  {
   "cell_type": "code",
   "execution_count": 43,
   "metadata": {},
   "outputs": [],
   "source": [
    "X_train, X_test, y_train, y_test = train_test_split(X, y_encoded, test_size=0.3, random_state=42)\n"
   ]
  },
  {
   "cell_type": "code",
   "execution_count": 44,
   "metadata": {},
   "outputs": [
    {
     "data": {
      "text/html": [
       "<style>#sk-container-id-1 {color: black;}#sk-container-id-1 pre{padding: 0;}#sk-container-id-1 div.sk-toggleable {background-color: white;}#sk-container-id-1 label.sk-toggleable__label {cursor: pointer;display: block;width: 100%;margin-bottom: 0;padding: 0.3em;box-sizing: border-box;text-align: center;}#sk-container-id-1 label.sk-toggleable__label-arrow:before {content: \"▸\";float: left;margin-right: 0.25em;color: #696969;}#sk-container-id-1 label.sk-toggleable__label-arrow:hover:before {color: black;}#sk-container-id-1 div.sk-estimator:hover label.sk-toggleable__label-arrow:before {color: black;}#sk-container-id-1 div.sk-toggleable__content {max-height: 0;max-width: 0;overflow: hidden;text-align: left;background-color: #f0f8ff;}#sk-container-id-1 div.sk-toggleable__content pre {margin: 0.2em;color: black;border-radius: 0.25em;background-color: #f0f8ff;}#sk-container-id-1 input.sk-toggleable__control:checked~div.sk-toggleable__content {max-height: 200px;max-width: 100%;overflow: auto;}#sk-container-id-1 input.sk-toggleable__control:checked~label.sk-toggleable__label-arrow:before {content: \"▾\";}#sk-container-id-1 div.sk-estimator input.sk-toggleable__control:checked~label.sk-toggleable__label {background-color: #d4ebff;}#sk-container-id-1 div.sk-label input.sk-toggleable__control:checked~label.sk-toggleable__label {background-color: #d4ebff;}#sk-container-id-1 input.sk-hidden--visually {border: 0;clip: rect(1px 1px 1px 1px);clip: rect(1px, 1px, 1px, 1px);height: 1px;margin: -1px;overflow: hidden;padding: 0;position: absolute;width: 1px;}#sk-container-id-1 div.sk-estimator {font-family: monospace;background-color: #f0f8ff;border: 1px dotted black;border-radius: 0.25em;box-sizing: border-box;margin-bottom: 0.5em;}#sk-container-id-1 div.sk-estimator:hover {background-color: #d4ebff;}#sk-container-id-1 div.sk-parallel-item::after {content: \"\";width: 100%;border-bottom: 1px solid gray;flex-grow: 1;}#sk-container-id-1 div.sk-label:hover label.sk-toggleable__label {background-color: #d4ebff;}#sk-container-id-1 div.sk-serial::before {content: \"\";position: absolute;border-left: 1px solid gray;box-sizing: border-box;top: 0;bottom: 0;left: 50%;z-index: 0;}#sk-container-id-1 div.sk-serial {display: flex;flex-direction: column;align-items: center;background-color: white;padding-right: 0.2em;padding-left: 0.2em;position: relative;}#sk-container-id-1 div.sk-item {position: relative;z-index: 1;}#sk-container-id-1 div.sk-parallel {display: flex;align-items: stretch;justify-content: center;background-color: white;position: relative;}#sk-container-id-1 div.sk-item::before, #sk-container-id-1 div.sk-parallel-item::before {content: \"\";position: absolute;border-left: 1px solid gray;box-sizing: border-box;top: 0;bottom: 0;left: 50%;z-index: -1;}#sk-container-id-1 div.sk-parallel-item {display: flex;flex-direction: column;z-index: 1;position: relative;background-color: white;}#sk-container-id-1 div.sk-parallel-item:first-child::after {align-self: flex-end;width: 50%;}#sk-container-id-1 div.sk-parallel-item:last-child::after {align-self: flex-start;width: 50%;}#sk-container-id-1 div.sk-parallel-item:only-child::after {width: 0;}#sk-container-id-1 div.sk-dashed-wrapped {border: 1px dashed gray;margin: 0 0.4em 0.5em 0.4em;box-sizing: border-box;padding-bottom: 0.4em;background-color: white;}#sk-container-id-1 div.sk-label label {font-family: monospace;font-weight: bold;display: inline-block;line-height: 1.2em;}#sk-container-id-1 div.sk-label-container {text-align: center;}#sk-container-id-1 div.sk-container {/* jupyter's `normalize.less` sets `[hidden] { display: none; }` but bootstrap.min.css set `[hidden] { display: none !important; }` so we also need the `!important` here to be able to override the default hidden behavior on the sphinx rendered scikit-learn.org. See: https://github.com/scikit-learn/scikit-learn/issues/21755 */display: inline-block !important;position: relative;}#sk-container-id-1 div.sk-text-repr-fallback {display: none;}</style><div id=\"sk-container-id-1\" class=\"sk-top-container\"><div class=\"sk-text-repr-fallback\"><pre>LogisticRegression(max_iter=1000)</pre><b>In a Jupyter environment, please rerun this cell to show the HTML representation or trust the notebook. <br />On GitHub, the HTML representation is unable to render, please try loading this page with nbviewer.org.</b></div><div class=\"sk-container\" hidden><div class=\"sk-item\"><div class=\"sk-estimator sk-toggleable\"><input class=\"sk-toggleable__control sk-hidden--visually\" id=\"sk-estimator-id-1\" type=\"checkbox\" checked><label for=\"sk-estimator-id-1\" class=\"sk-toggleable__label sk-toggleable__label-arrow\">LogisticRegression</label><div class=\"sk-toggleable__content\"><pre>LogisticRegression(max_iter=1000)</pre></div></div></div></div></div>"
      ],
      "text/plain": [
       "LogisticRegression(max_iter=1000)"
      ]
     },
     "execution_count": 44,
     "metadata": {},
     "output_type": "execute_result"
    }
   ],
   "source": [
    "# Train a logistic regression model\n",
    "model = LogisticRegression(max_iter=1000)\n",
    "model.fit(X_train, y_train)"
   ]
  },
  {
   "cell_type": "code",
   "execution_count": 45,
   "metadata": {},
   "outputs": [
    {
     "name": "stderr",
     "output_type": "stream",
     "text": [
      "/Users/muireannoconnor/anaconda3/lib/python3.11/site-packages/sklearn/metrics/_classification.py:1469: UndefinedMetricWarning: Precision and F-score are ill-defined and being set to 0.0 in labels with no predicted samples. Use `zero_division` parameter to control this behavior.\n",
      "  _warn_prf(average, modifier, msg_start, len(result))\n",
      "/Users/muireannoconnor/anaconda3/lib/python3.11/site-packages/sklearn/metrics/_classification.py:1469: UndefinedMetricWarning: Precision and F-score are ill-defined and being set to 0.0 in labels with no predicted samples. Use `zero_division` parameter to control this behavior.\n",
      "  _warn_prf(average, modifier, msg_start, len(result))\n"
     ]
    },
    {
     "name": "stdout",
     "output_type": "stream",
     "text": [
      "Classification Report:\n",
      "                 precision    recall  f1-score   support\n",
      "\n",
      " A Little Busy       0.24      0.16      0.19    232037\n",
      "          Busy       0.23      0.21      0.22    231319\n",
      "Extremely Busy       0.00      0.00      0.00     11719\n",
      "  Not Too Busy       0.29      0.37      0.33    231646\n",
      "         Quiet       0.23      0.26      0.24    230439\n",
      "     Very Busy       0.21      0.22      0.21    220107\n",
      "\n",
      "      accuracy                           0.24   1157267\n",
      "     macro avg       0.20      0.20      0.20   1157267\n",
      "  weighted avg       0.24      0.24      0.24   1157267\n",
      "\n",
      "Accuracy Score: 0.2419692257707167\n"
     ]
    },
    {
     "name": "stderr",
     "output_type": "stream",
     "text": [
      "/Users/muireannoconnor/anaconda3/lib/python3.11/site-packages/sklearn/metrics/_classification.py:1469: UndefinedMetricWarning: Precision and F-score are ill-defined and being set to 0.0 in labels with no predicted samples. Use `zero_division` parameter to control this behavior.\n",
      "  _warn_prf(average, modifier, msg_start, len(result))\n"
     ]
    }
   ],
   "source": [
    "# Make predictions\n",
    "y_pred = model.predict(X_test)\n",
    "\n",
    "# Evaluate the model\n",
    "print(\"Classification Report:\\n\", classification_report(y_test, y_pred, target_names=label_encoder.classes_))\n",
    "print(\"Accuracy Score:\", accuracy_score(y_test, y_pred))\n"
   ]
  },
  {
   "cell_type": "code",
   "execution_count": 46,
   "metadata": {},
   "outputs": [
    {
     "name": "stdout",
     "output_type": "stream",
     "text": [
      "Predicted Busyness: Very Busy\n"
     ]
    }
   ],
   "source": [
    "# Predict busyness based on frontend input\n",
    "locationid = 150\n",
    "transit_timestamp = pd.to_datetime('2024-07-30 23:00:00')\n",
    "hour = transit_timestamp.hour\n",
    "\n",
    "# Create a DataFrame with the input values\n",
    "input_data = pd.DataFrame({'locationid': [locationid], 'hour': [hour]})\n",
    "\n",
    "# Make prediction\n",
    "predicted_busyness_encoded = model.predict(input_data)\n",
    "predicted_busyness = label_encoder.inverse_transform(predicted_busyness_encoded)\n",
    "\n",
    "print(f'Predicted Busyness: {predicted_busyness[0]}')\n"
   ]
  }
 ],
 "metadata": {
  "kernelspec": {
   "display_name": "Python 3",
   "language": "python",
   "name": "python3"
  },
  "language_info": {
   "codemirror_mode": {
    "name": "ipython",
    "version": 3
   },
   "file_extension": ".py",
   "mimetype": "text/x-python",
   "name": "python",
   "nbconvert_exporter": "python",
   "pygments_lexer": "ipython3",
   "version": "3.11.5"
  },
  "orig_nbformat": 4
 },
 "nbformat": 4,
 "nbformat_minor": 2
}
