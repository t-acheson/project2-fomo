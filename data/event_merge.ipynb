{
 "cells": [
  {
   "cell_type": "code",
   "execution_count": 1,
   "metadata": {},
   "outputs": [],
   "source": [
    "import pandas as pd"
   ]
  },
  {
   "cell_type": "code",
   "execution_count": 3,
   "metadata": {},
   "outputs": [],
   "source": [
    "df = pd.read_parquet('c:/fomo_data/comments_added.parquet')"
   ]
  },
  {
   "cell_type": "code",
   "execution_count": 4,
   "metadata": {},
   "outputs": [],
   "source": [
    "events = pd.read_csv('c:/fomo_data/events.csv')"
   ]
  },
  {
   "cell_type": "code",
   "execution_count": 5,
   "metadata": {},
   "outputs": [
    {
     "data": {
      "text/html": [
       "<div>\n",
       "<style scoped>\n",
       "    .dataframe tbody tr th:only-of-type {\n",
       "        vertical-align: middle;\n",
       "    }\n",
       "\n",
       "    .dataframe tbody tr th {\n",
       "        vertical-align: top;\n",
       "    }\n",
       "\n",
       "    .dataframe thead th {\n",
       "        text-align: right;\n",
       "    }\n",
       "</style>\n",
       "<table border=\"1\" class=\"dataframe\">\n",
       "  <thead>\n",
       "    <tr style=\"text-align: right;\">\n",
       "      <th></th>\n",
       "      <th>Event Type</th>\n",
       "      <th>Organization Name</th>\n",
       "      <th>Facility Name</th>\n",
       "      <th>Direction</th>\n",
       "      <th>City</th>\n",
       "      <th>County</th>\n",
       "      <th>State</th>\n",
       "      <th>Create Time</th>\n",
       "      <th>Close Time</th>\n",
       "      <th>Event Description</th>\n",
       "      <th>Responding Organization Id</th>\n",
       "      <th>Latitude</th>\n",
       "      <th>Longitude</th>\n",
       "    </tr>\n",
       "  </thead>\n",
       "  <tbody>\n",
       "    <tr>\n",
       "      <th>0</th>\n",
       "      <td>football game</td>\n",
       "      <td>Meadowlands Complex</td>\n",
       "      <td>MetLife Stadium</td>\n",
       "      <td>NaN</td>\n",
       "      <td>at East Rutherford</td>\n",
       "      <td>Bergen</td>\n",
       "      <td>NJ</td>\n",
       "      <td>12/13/2025 03:00:00 PM</td>\n",
       "      <td>NaN</td>\n",
       "      <td>NaN</td>\n",
       "      <td>Meadowlands Complex</td>\n",
       "      <td>40.813460</td>\n",
       "      <td>-74.074287</td>\n",
       "    </tr>\n",
       "    <tr>\n",
       "      <th>1</th>\n",
       "      <td>concert</td>\n",
       "      <td>Meadowlands Complex</td>\n",
       "      <td>MetLife Stadium</td>\n",
       "      <td>NaN</td>\n",
       "      <td>at East Rutherford</td>\n",
       "      <td>Bergen</td>\n",
       "      <td>NJ</td>\n",
       "      <td>08/04/2023 18:00</td>\n",
       "      <td>NaN</td>\n",
       "      <td>NaN</td>\n",
       "      <td>Meadowlands Complex</td>\n",
       "      <td>40.813460</td>\n",
       "      <td>-74.074287</td>\n",
       "    </tr>\n",
       "    <tr>\n",
       "      <th>2</th>\n",
       "      <td>concert</td>\n",
       "      <td>Meadowlands Complex</td>\n",
       "      <td>MetLife Stadium</td>\n",
       "      <td>NaN</td>\n",
       "      <td>at East Rutherford</td>\n",
       "      <td>Bergen</td>\n",
       "      <td>NJ</td>\n",
       "      <td>07/29/2023 07:00:00 PM</td>\n",
       "      <td>NaN</td>\n",
       "      <td>NaN</td>\n",
       "      <td>Meadowlands Complex</td>\n",
       "      <td>40.813460</td>\n",
       "      <td>-74.074287</td>\n",
       "    </tr>\n",
       "    <tr>\n",
       "      <th>3</th>\n",
       "      <td>concert</td>\n",
       "      <td>Meadowlands Complex</td>\n",
       "      <td>MetLife Stadium</td>\n",
       "      <td>NaN</td>\n",
       "      <td>at East Rutherford</td>\n",
       "      <td>Bergen</td>\n",
       "      <td>NJ</td>\n",
       "      <td>07/06/2023 19:30</td>\n",
       "      <td>NaN</td>\n",
       "      <td>NaN</td>\n",
       "      <td>Meadowlands Complex</td>\n",
       "      <td>40.813460</td>\n",
       "      <td>-74.074287</td>\n",
       "    </tr>\n",
       "    <tr>\n",
       "      <th>4</th>\n",
       "      <td>fair</td>\n",
       "      <td>Meadowlands Complex</td>\n",
       "      <td>Meadowlands Sports Complex</td>\n",
       "      <td>NaN</td>\n",
       "      <td>East Rutherford</td>\n",
       "      <td>Bergen</td>\n",
       "      <td>NJ</td>\n",
       "      <td>06/22/2023 12:00:00 PM</td>\n",
       "      <td>NaN</td>\n",
       "      <td>NaN</td>\n",
       "      <td>Meadowlands Complex</td>\n",
       "      <td>40.814458</td>\n",
       "      <td>-74.071969</td>\n",
       "    </tr>\n",
       "  </tbody>\n",
       "</table>\n",
       "</div>"
      ],
      "text/plain": [
       "      Event Type    Organization Name               Facility Name Direction  \\\n",
       "0  football game  Meadowlands Complex             MetLife Stadium       NaN   \n",
       "1        concert  Meadowlands Complex             MetLife Stadium       NaN   \n",
       "2        concert  Meadowlands Complex             MetLife Stadium       NaN   \n",
       "3        concert  Meadowlands Complex             MetLife Stadium       NaN   \n",
       "4           fair  Meadowlands Complex  Meadowlands Sports Complex       NaN   \n",
       "\n",
       "                 City  County State             Create Time Close Time  \\\n",
       "0  at East Rutherford  Bergen    NJ  12/13/2025 03:00:00 PM        NaN   \n",
       "1  at East Rutherford  Bergen    NJ        08/04/2023 18:00        NaN   \n",
       "2  at East Rutherford  Bergen    NJ  07/29/2023 07:00:00 PM        NaN   \n",
       "3  at East Rutherford  Bergen    NJ        07/06/2023 19:30        NaN   \n",
       "4     East Rutherford  Bergen    NJ  06/22/2023 12:00:00 PM        NaN   \n",
       "\n",
       "  Event Description Responding Organization Id   Latitude  Longitude  \n",
       "0               NaN        Meadowlands Complex  40.813460 -74.074287  \n",
       "1               NaN        Meadowlands Complex  40.813460 -74.074287  \n",
       "2               NaN        Meadowlands Complex  40.813460 -74.074287  \n",
       "3               NaN        Meadowlands Complex  40.813460 -74.074287  \n",
       "4               NaN        Meadowlands Complex  40.814458 -74.071969  "
      ]
     },
     "execution_count": 5,
     "metadata": {},
     "output_type": "execute_result"
    }
   ],
   "source": [
    "events.head()"
   ]
  },
  {
   "cell_type": "code",
   "execution_count": 7,
   "metadata": {},
   "outputs": [],
   "source": [
    "events.drop(columns=['Organization Name', 'Direction', 'City', 'County', 'State', 'Close Time', 'Event Description', 'Responding Organization Id'], inplace=True)"
   ]
  },
  {
   "cell_type": "code",
   "execution_count": 8,
   "metadata": {},
   "outputs": [
    {
     "data": {
      "text/html": [
       "<div>\n",
       "<style scoped>\n",
       "    .dataframe tbody tr th:only-of-type {\n",
       "        vertical-align: middle;\n",
       "    }\n",
       "\n",
       "    .dataframe tbody tr th {\n",
       "        vertical-align: top;\n",
       "    }\n",
       "\n",
       "    .dataframe thead th {\n",
       "        text-align: right;\n",
       "    }\n",
       "</style>\n",
       "<table border=\"1\" class=\"dataframe\">\n",
       "  <thead>\n",
       "    <tr style=\"text-align: right;\">\n",
       "      <th></th>\n",
       "      <th>Event Type</th>\n",
       "      <th>Facility Name</th>\n",
       "      <th>Create Time</th>\n",
       "      <th>Latitude</th>\n",
       "      <th>Longitude</th>\n",
       "    </tr>\n",
       "  </thead>\n",
       "  <tbody>\n",
       "    <tr>\n",
       "      <th>0</th>\n",
       "      <td>football game</td>\n",
       "      <td>MetLife Stadium</td>\n",
       "      <td>12/13/2025 03:00:00 PM</td>\n",
       "      <td>40.813460</td>\n",
       "      <td>-74.074287</td>\n",
       "    </tr>\n",
       "    <tr>\n",
       "      <th>1</th>\n",
       "      <td>concert</td>\n",
       "      <td>MetLife Stadium</td>\n",
       "      <td>08/04/2023 18:00</td>\n",
       "      <td>40.813460</td>\n",
       "      <td>-74.074287</td>\n",
       "    </tr>\n",
       "    <tr>\n",
       "      <th>2</th>\n",
       "      <td>concert</td>\n",
       "      <td>MetLife Stadium</td>\n",
       "      <td>07/29/2023 07:00:00 PM</td>\n",
       "      <td>40.813460</td>\n",
       "      <td>-74.074287</td>\n",
       "    </tr>\n",
       "    <tr>\n",
       "      <th>3</th>\n",
       "      <td>concert</td>\n",
       "      <td>MetLife Stadium</td>\n",
       "      <td>07/06/2023 19:30</td>\n",
       "      <td>40.813460</td>\n",
       "      <td>-74.074287</td>\n",
       "    </tr>\n",
       "    <tr>\n",
       "      <th>4</th>\n",
       "      <td>fair</td>\n",
       "      <td>Meadowlands Sports Complex</td>\n",
       "      <td>06/22/2023 12:00:00 PM</td>\n",
       "      <td>40.814458</td>\n",
       "      <td>-74.071969</td>\n",
       "    </tr>\n",
       "  </tbody>\n",
       "</table>\n",
       "</div>"
      ],
      "text/plain": [
       "      Event Type               Facility Name             Create Time  \\\n",
       "0  football game             MetLife Stadium  12/13/2025 03:00:00 PM   \n",
       "1        concert             MetLife Stadium        08/04/2023 18:00   \n",
       "2        concert             MetLife Stadium  07/29/2023 07:00:00 PM   \n",
       "3        concert             MetLife Stadium        07/06/2023 19:30   \n",
       "4           fair  Meadowlands Sports Complex  06/22/2023 12:00:00 PM   \n",
       "\n",
       "    Latitude  Longitude  \n",
       "0  40.813460 -74.074287  \n",
       "1  40.813460 -74.074287  \n",
       "2  40.813460 -74.074287  \n",
       "3  40.813460 -74.074287  \n",
       "4  40.814458 -74.071969  "
      ]
     },
     "execution_count": 8,
     "metadata": {},
     "output_type": "execute_result"
    }
   ],
   "source": [
    "events.head()"
   ]
  },
  {
   "cell_type": "code",
   "execution_count": 9,
   "metadata": {},
   "outputs": [
    {
     "name": "stdout",
     "output_type": "stream",
     "text": [
      "<class 'pandas.core.frame.DataFrame'>\n",
      "RangeIndex: 13377 entries, 0 to 13376\n",
      "Data columns (total 5 columns):\n",
      " #   Column         Non-Null Count  Dtype  \n",
      "---  ------         --------------  -----  \n",
      " 0   Event Type     13377 non-null  object \n",
      " 1   Facility Name  13377 non-null  object \n",
      " 2   Create Time    13377 non-null  object \n",
      " 3   Latitude       13377 non-null  float64\n",
      " 4   Longitude      13377 non-null  float64\n",
      "dtypes: float64(2), object(3)\n",
      "memory usage: 522.7+ KB\n"
     ]
    }
   ],
   "source": [
    "events.info()"
   ]
  },
  {
   "cell_type": "code",
   "execution_count": 11,
   "metadata": {},
   "outputs": [],
   "source": [
    "events['Event Type'] = events['Event Type'].astype('category')\n",
    "events['Facility Name'] = events['Facility Name'].astype('category')"
   ]
  },
  {
   "cell_type": "code",
   "execution_count": null,
   "metadata": {},
   "outputs": [],
   "source": []
  }
 ],
 "metadata": {
  "kernelspec": {
   "display_name": "softwareeng",
   "language": "python",
   "name": "python3"
  },
  "language_info": {
   "codemirror_mode": {
    "name": "ipython",
    "version": 3
   },
   "file_extension": ".py",
   "mimetype": "text/x-python",
   "name": "python",
   "nbconvert_exporter": "python",
   "pygments_lexer": "ipython3",
   "version": "3.11.8"
  }
 },
 "nbformat": 4,
 "nbformat_minor": 2
}
