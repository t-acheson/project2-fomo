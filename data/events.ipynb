{
 "cells": [
  {
   "cell_type": "code",
   "execution_count": 1,
   "metadata": {},
   "outputs": [],
   "source": [
    "import pandas as pd"
   ]
  },
  {
   "cell_type": "code",
   "execution_count": 2,
   "metadata": {},
   "outputs": [],
   "source": [
    "df = pd.read_csv('c:/A/DCM.csv')"
   ]
  },
  {
   "cell_type": "code",
   "execution_count": 3,
   "metadata": {},
   "outputs": [
    {
     "data": {
      "text/html": [
       "<div>\n",
       "<style scoped>\n",
       "    .dataframe tbody tr th:only-of-type {\n",
       "        vertical-align: middle;\n",
       "    }\n",
       "\n",
       "    .dataframe tbody tr th {\n",
       "        vertical-align: top;\n",
       "    }\n",
       "\n",
       "    .dataframe thead th {\n",
       "        text-align: right;\n",
       "    }\n",
       "</style>\n",
       "<table border=\"1\" class=\"dataframe\">\n",
       "  <thead>\n",
       "    <tr style=\"text-align: right;\">\n",
       "      <th></th>\n",
       "      <th>the_geom</th>\n",
       "      <th>Borough</th>\n",
       "      <th>Feat_Type</th>\n",
       "      <th>Jurisdicti</th>\n",
       "      <th>Record_ST</th>\n",
       "      <th>Edit_Date</th>\n",
       "    </tr>\n",
       "  </thead>\n",
       "  <tbody>\n",
       "    <tr>\n",
       "      <th>0</th>\n",
       "      <td>MULTILINESTRING ((-73.96461212326037 40.769628...</td>\n",
       "      <td>Manhattan</td>\n",
       "      <td>Mapped_St</td>\n",
       "      <td>NYC</td>\n",
       "      <td>No</td>\n",
       "      <td>07/21/2023 12:00:00 AM</td>\n",
       "    </tr>\n",
       "    <tr>\n",
       "      <th>1</th>\n",
       "      <td>MULTILINESTRING ((-73.9943524810254 40.7143213...</td>\n",
       "      <td>Manhattan</td>\n",
       "      <td>Infrastructure</td>\n",
       "      <td>NYC</td>\n",
       "      <td>NaN</td>\n",
       "      <td>01/27/2023 12:00:00 AM</td>\n",
       "    </tr>\n",
       "    <tr>\n",
       "      <th>2</th>\n",
       "      <td>MULTILINESTRING ((-73.94928915552487 40.790853...</td>\n",
       "      <td>Manhattan</td>\n",
       "      <td>Infrastructure</td>\n",
       "      <td>NYC</td>\n",
       "      <td>NaN</td>\n",
       "      <td>07/09/2021 12:00:00 AM</td>\n",
       "    </tr>\n",
       "    <tr>\n",
       "      <th>3</th>\n",
       "      <td>MULTILINESTRING ((-74.00394539705208 40.729964...</td>\n",
       "      <td>Manhattan</td>\n",
       "      <td>Mapped_St</td>\n",
       "      <td>NYC</td>\n",
       "      <td>No</td>\n",
       "      <td>01/27/2023 12:00:00 AM</td>\n",
       "    </tr>\n",
       "    <tr>\n",
       "      <th>4</th>\n",
       "      <td>MULTILINESTRING ((-73.93803373229198 40.806276...</td>\n",
       "      <td>Manhattan</td>\n",
       "      <td>Infrastructure</td>\n",
       "      <td>NYC</td>\n",
       "      <td>NaN</td>\n",
       "      <td>01/27/2023 12:00:00 AM</td>\n",
       "    </tr>\n",
       "  </tbody>\n",
       "</table>\n",
       "</div>"
      ],
      "text/plain": [
       "                                            the_geom    Borough  \\\n",
       "0  MULTILINESTRING ((-73.96461212326037 40.769628...  Manhattan   \n",
       "1  MULTILINESTRING ((-73.9943524810254 40.7143213...  Manhattan   \n",
       "2  MULTILINESTRING ((-73.94928915552487 40.790853...  Manhattan   \n",
       "3  MULTILINESTRING ((-74.00394539705208 40.729964...  Manhattan   \n",
       "4  MULTILINESTRING ((-73.93803373229198 40.806276...  Manhattan   \n",
       "\n",
       "        Feat_Type Jurisdicti Record_ST               Edit_Date  \n",
       "0       Mapped_St        NYC        No  07/21/2023 12:00:00 AM  \n",
       "1  Infrastructure        NYC       NaN  01/27/2023 12:00:00 AM  \n",
       "2  Infrastructure        NYC       NaN  07/09/2021 12:00:00 AM  \n",
       "3       Mapped_St        NYC        No  01/27/2023 12:00:00 AM  \n",
       "4  Infrastructure        NYC       NaN  01/27/2023 12:00:00 AM  "
      ]
     },
     "execution_count": 3,
     "metadata": {},
     "output_type": "execute_result"
    }
   ],
   "source": [
    "df.head()"
   ]
  }
 ],
 "metadata": {
  "kernelspec": {
   "display_name": "softwareeng",
   "language": "python",
   "name": "python3"
  },
  "language_info": {
   "codemirror_mode": {
    "name": "ipython",
    "version": 3
   },
   "file_extension": ".py",
   "mimetype": "text/x-python",
   "name": "python",
   "nbconvert_exporter": "python",
   "pygments_lexer": "ipython3",
   "version": "3.11.8"
  }
 },
 "nbformat": 4,
 "nbformat_minor": 2
}
