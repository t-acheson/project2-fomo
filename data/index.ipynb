{
 "cells": [
  {
   "cell_type": "code",
   "execution_count": 1,
   "metadata": {},
   "outputs": [],
   "source": [
    "import pandas as pd"
   ]
  },
  {
   "cell_type": "code",
   "execution_count": 2,
   "metadata": {},
   "outputs": [],
   "source": [
    "subway=pd.read_parquet('subway_final3.parquet')"
   ]
  },
  {
   "cell_type": "code",
   "execution_count": 4,
   "metadata": {},
   "outputs": [
    {
     "name": "stdout",
     "output_type": "stream",
     "text": [
      "<class 'pandas.core.frame.DataFrame'>\n",
      "Index: 9728415 entries, 0 to 9769202\n",
      "Data columns (total 4 columns):\n",
      " #   Column             Dtype         \n",
      "---  ------             -----         \n",
      " 0   transit_timestamp  datetime64[ns]\n",
      " 1   ridership          int16         \n",
      " 2   latitude           float64       \n",
      " 3   longitude          float64       \n",
      "dtypes: datetime64[ns](1), float64(2), int16(1)\n",
      "memory usage: 315.4 MB\n"
     ]
    }
   ],
   "source": [
    "subway.head()\n",
    "subway.info()"
   ]
  },
  {
   "cell_type": "code",
   "execution_count": 5,
   "metadata": {},
   "outputs": [],
   "source": [
    "taxi=pd.read_parquet('c:/fomo_data/new_taxi20221.parquet')"
   ]
  },
  {
   "cell_type": "code",
   "execution_count": 10,
   "metadata": {},
   "outputs": [
    {
     "data": {
      "text/html": [
       "<div>\n",
       "<style scoped>\n",
       "    .dataframe tbody tr th:only-of-type {\n",
       "        vertical-align: middle;\n",
       "    }\n",
       "\n",
       "    .dataframe tbody tr th {\n",
       "        vertical-align: top;\n",
       "    }\n",
       "\n",
       "    .dataframe thead th {\n",
       "        text-align: right;\n",
       "    }\n",
       "</style>\n",
       "<table border=\"1\" class=\"dataframe\">\n",
       "  <thead>\n",
       "    <tr style=\"text-align: right;\">\n",
       "      <th></th>\n",
       "      <th>LocationID</th>\n",
       "      <th>datetime_rounded</th>\n",
       "      <th>passenger_count</th>\n",
       "    </tr>\n",
       "  </thead>\n",
       "  <tbody>\n",
       "    <tr>\n",
       "      <th>0</th>\n",
       "      <td>2</td>\n",
       "      <td>2022-02-06 15:00:00</td>\n",
       "      <td>1.0</td>\n",
       "    </tr>\n",
       "    <tr>\n",
       "      <th>1</th>\n",
       "      <td>2</td>\n",
       "      <td>2022-02-16 23:00:00</td>\n",
       "      <td>1.0</td>\n",
       "    </tr>\n",
       "    <tr>\n",
       "      <th>2</th>\n",
       "      <td>2</td>\n",
       "      <td>2022-02-23 08:30:00</td>\n",
       "      <td>1.0</td>\n",
       "    </tr>\n",
       "    <tr>\n",
       "      <th>3</th>\n",
       "      <td>2</td>\n",
       "      <td>2022-02-23 19:30:00</td>\n",
       "      <td>4.0</td>\n",
       "    </tr>\n",
       "    <tr>\n",
       "      <th>4</th>\n",
       "      <td>2</td>\n",
       "      <td>2022-03-22 10:30:00</td>\n",
       "      <td>1.0</td>\n",
       "    </tr>\n",
       "  </tbody>\n",
       "</table>\n",
       "</div>"
      ],
      "text/plain": [
       "   LocationID    datetime_rounded  passenger_count\n",
       "0           2 2022-02-06 15:00:00              1.0\n",
       "1           2 2022-02-16 23:00:00              1.0\n",
       "2           2 2022-02-23 08:30:00              1.0\n",
       "3           2 2022-02-23 19:30:00              4.0\n",
       "4           2 2022-03-22 10:30:00              1.0"
      ]
     },
     "execution_count": 10,
     "metadata": {},
     "output_type": "execute_result"
    }
   ],
   "source": [
    "taxi.head()"
   ]
  },
  {
   "cell_type": "code",
   "execution_count": 8,
   "metadata": {},
   "outputs": [],
   "source": [
    "taxi2=pd.read_parquet('c:/fomo_data/new_taxi20222.parquet')"
   ]
  },
  {
   "cell_type": "code",
   "execution_count": 9,
   "metadata": {},
   "outputs": [
    {
     "data": {
      "text/html": [
       "<div>\n",
       "<style scoped>\n",
       "    .dataframe tbody tr th:only-of-type {\n",
       "        vertical-align: middle;\n",
       "    }\n",
       "\n",
       "    .dataframe tbody tr th {\n",
       "        vertical-align: top;\n",
       "    }\n",
       "\n",
       "    .dataframe thead th {\n",
       "        text-align: right;\n",
       "    }\n",
       "</style>\n",
       "<table border=\"1\" class=\"dataframe\">\n",
       "  <thead>\n",
       "    <tr style=\"text-align: right;\">\n",
       "      <th></th>\n",
       "      <th>LocationID</th>\n",
       "      <th>datetime_rounded</th>\n",
       "      <th>passenger_count</th>\n",
       "    </tr>\n",
       "  </thead>\n",
       "  <tbody>\n",
       "    <tr>\n",
       "      <th>0</th>\n",
       "      <td>2</td>\n",
       "      <td>2022-07-28 15:30:00</td>\n",
       "      <td>1.0</td>\n",
       "    </tr>\n",
       "    <tr>\n",
       "      <th>1</th>\n",
       "      <td>2</td>\n",
       "      <td>2022-08-16 00:00:00</td>\n",
       "      <td>1.0</td>\n",
       "    </tr>\n",
       "    <tr>\n",
       "      <th>2</th>\n",
       "      <td>2</td>\n",
       "      <td>2022-08-17 23:30:00</td>\n",
       "      <td>1.0</td>\n",
       "    </tr>\n",
       "    <tr>\n",
       "      <th>3</th>\n",
       "      <td>2</td>\n",
       "      <td>2022-08-19 15:30:00</td>\n",
       "      <td>2.0</td>\n",
       "    </tr>\n",
       "    <tr>\n",
       "      <th>4</th>\n",
       "      <td>2</td>\n",
       "      <td>2022-08-20 14:00:00</td>\n",
       "      <td>1.0</td>\n",
       "    </tr>\n",
       "  </tbody>\n",
       "</table>\n",
       "</div>"
      ],
      "text/plain": [
       "   LocationID    datetime_rounded  passenger_count\n",
       "0           2 2022-07-28 15:30:00              1.0\n",
       "1           2 2022-08-16 00:00:00              1.0\n",
       "2           2 2022-08-17 23:30:00              1.0\n",
       "3           2 2022-08-19 15:30:00              2.0\n",
       "4           2 2022-08-20 14:00:00              1.0"
      ]
     },
     "execution_count": 9,
     "metadata": {},
     "output_type": "execute_result"
    }
   ],
   "source": [
    "taxi2.head()"
   ]
  },
  {
   "cell_type": "code",
   "execution_count": 11,
   "metadata": {},
   "outputs": [],
   "source": [
    "taxi = pd.concat([taxi,taxi2], ignore_index=True)"
   ]
  },
  {
   "cell_type": "code",
   "execution_count": 12,
   "metadata": {},
   "outputs": [
    {
     "name": "stderr",
     "output_type": "stream",
     "text": [
      "C:\\Users\\Kevin\\AppData\\Local\\Temp\\ipykernel_13792\\588519641.py:1: FutureWarning: 'H' is deprecated and will be removed in a future version, please use 'h' instead.\n",
      "  taxi['datetime_rounded'] = taxi['datetime_rounded'].dt.floor('H')\n"
     ]
    }
   ],
   "source": [
    "taxi['datetime_rounded'] = taxi['datetime_rounded'].dt.floor('H')"
   ]
  },
  {
   "cell_type": "code",
   "execution_count": 14,
   "metadata": {},
   "outputs": [],
   "source": [
    "import geopandas as gpd\n",
    "\n",
    "#sahpe file for the taxi zones\n",
    "taxi_zones = gpd.read_file('c:/fomo_data/taxi.shp')\n",
    "\n",
    "# Convert subway latitude and longitude to a GeoDataFrame\n",
    "geometry = gpd.points_from_xy(subway['longitude'], subway['latitude'])\n",
    "subway_geo = gpd.GeoDataFrame(subway, geometry=geometry, crs=\"EPSG:4326\")\n",
    "\n",
    "# Reproject taxi_zones to the same CRS as subway_geo if needed\n",
    "taxi_zones = taxi_zones.to_crs(subway_geo.crs)\n",
    "\n",
    "# Perform a spatial join to find the taxi zone for each subway station using 'predicate' instead of 'op'\n",
    "subway_geo = gpd.sjoin(subway_geo, taxi_zones, how='left', predicate='intersects')"
   ]
  },
  {
   "cell_type": "code",
   "execution_count": 15,
   "metadata": {},
   "outputs": [
    {
     "data": {
      "text/html": [
       "<div>\n",
       "<style scoped>\n",
       "    .dataframe tbody tr th:only-of-type {\n",
       "        vertical-align: middle;\n",
       "    }\n",
       "\n",
       "    .dataframe tbody tr th {\n",
       "        vertical-align: top;\n",
       "    }\n",
       "\n",
       "    .dataframe thead th {\n",
       "        text-align: right;\n",
       "    }\n",
       "</style>\n",
       "<table border=\"1\" class=\"dataframe\">\n",
       "  <thead>\n",
       "    <tr style=\"text-align: right;\">\n",
       "      <th></th>\n",
       "      <th>transit_timestamp</th>\n",
       "      <th>ridership</th>\n",
       "      <th>latitude</th>\n",
       "      <th>longitude</th>\n",
       "      <th>geometry</th>\n",
       "      <th>index_right</th>\n",
       "      <th>borough</th>\n",
       "      <th>location_i</th>\n",
       "      <th>objectid</th>\n",
       "      <th>shape_area</th>\n",
       "      <th>shape_leng</th>\n",
       "      <th>zone</th>\n",
       "    </tr>\n",
       "  </thead>\n",
       "  <tbody>\n",
       "    <tr>\n",
       "      <th>0</th>\n",
       "      <td>2023-01-01 01:00:00</td>\n",
       "      <td>52</td>\n",
       "      <td>40.775036</td>\n",
       "      <td>-73.912034</td>\n",
       "      <td>POINT (-73.91203 40.77504)</td>\n",
       "      <td>225</td>\n",
       "      <td>Queens</td>\n",
       "      <td>223.0</td>\n",
       "      <td>223.0</td>\n",
       "      <td>0.000764</td>\n",
       "      <td>0.166022</td>\n",
       "      <td>Steinway</td>\n",
       "    </tr>\n",
       "    <tr>\n",
       "      <th>1</th>\n",
       "      <td>2023-01-01 01:00:00</td>\n",
       "      <td>95</td>\n",
       "      <td>40.759901</td>\n",
       "      <td>-73.984139</td>\n",
       "      <td>POINT (-73.98414 40.75990)</td>\n",
       "      <td>229</td>\n",
       "      <td>Manhattan</td>\n",
       "      <td>230.0</td>\n",
       "      <td>230.0</td>\n",
       "      <td>0.000056</td>\n",
       "      <td>0.031028</td>\n",
       "      <td>Times Sq/Theatre District</td>\n",
       "    </tr>\n",
       "    <tr>\n",
       "      <th>2</th>\n",
       "      <td>2023-01-01 01:00:00</td>\n",
       "      <td>52</td>\n",
       "      <td>40.706870</td>\n",
       "      <td>-73.953431</td>\n",
       "      <td>POINT (-73.95343 40.70687)</td>\n",
       "      <td>216</td>\n",
       "      <td>Brooklyn</td>\n",
       "      <td>217.0</td>\n",
       "      <td>217.0</td>\n",
       "      <td>0.000115</td>\n",
       "      <td>0.055391</td>\n",
       "      <td>South Williamsburg</td>\n",
       "    </tr>\n",
       "    <tr>\n",
       "      <th>3</th>\n",
       "      <td>2023-01-01 01:00:00</td>\n",
       "      <td>249</td>\n",
       "      <td>40.708359</td>\n",
       "      <td>-73.957757</td>\n",
       "      <td>POINT (-73.95776 40.70836)</td>\n",
       "      <td>216</td>\n",
       "      <td>Brooklyn</td>\n",
       "      <td>217.0</td>\n",
       "      <td>217.0</td>\n",
       "      <td>0.000115</td>\n",
       "      <td>0.055391</td>\n",
       "      <td>South Williamsburg</td>\n",
       "    </tr>\n",
       "    <tr>\n",
       "      <th>4</th>\n",
       "      <td>2023-01-01 01:00:00</td>\n",
       "      <td>394</td>\n",
       "      <td>40.720280</td>\n",
       "      <td>-73.993915</td>\n",
       "      <td>POINT (-73.99392 40.72028)</td>\n",
       "      <td>151</td>\n",
       "      <td>Manhattan</td>\n",
       "      <td>148.0</td>\n",
       "      <td>148.0</td>\n",
       "      <td>0.000070</td>\n",
       "      <td>0.039131</td>\n",
       "      <td>Lower East Side</td>\n",
       "    </tr>\n",
       "  </tbody>\n",
       "</table>\n",
       "</div>"
      ],
      "text/plain": [
       "    transit_timestamp  ridership   latitude  longitude  \\\n",
       "0 2023-01-01 01:00:00         52  40.775036 -73.912034   \n",
       "1 2023-01-01 01:00:00         95  40.759901 -73.984139   \n",
       "2 2023-01-01 01:00:00         52  40.706870 -73.953431   \n",
       "3 2023-01-01 01:00:00        249  40.708359 -73.957757   \n",
       "4 2023-01-01 01:00:00        394  40.720280 -73.993915   \n",
       "\n",
       "                     geometry  index_right    borough  location_i  objectid  \\\n",
       "0  POINT (-73.91203 40.77504)          225     Queens       223.0     223.0   \n",
       "1  POINT (-73.98414 40.75990)          229  Manhattan       230.0     230.0   \n",
       "2  POINT (-73.95343 40.70687)          216   Brooklyn       217.0     217.0   \n",
       "3  POINT (-73.95776 40.70836)          216   Brooklyn       217.0     217.0   \n",
       "4  POINT (-73.99392 40.72028)          151  Manhattan       148.0     148.0   \n",
       "\n",
       "   shape_area  shape_leng                       zone  \n",
       "0    0.000764    0.166022                   Steinway  \n",
       "1    0.000056    0.031028  Times Sq/Theatre District  \n",
       "2    0.000115    0.055391         South Williamsburg  \n",
       "3    0.000115    0.055391         South Williamsburg  \n",
       "4    0.000070    0.039131            Lower East Side  "
      ]
     },
     "execution_count": 15,
     "metadata": {},
     "output_type": "execute_result"
    }
   ],
   "source": [
    "subway_geo.head()"
   ]
  },
  {
   "cell_type": "code",
   "execution_count": 17,
   "metadata": {},
   "outputs": [],
   "source": [
    "# taxi zone ids for eaahc of the subway stations\n",
    "subway['locationid'] = subway_geo['location_i']"
   ]
  },
  {
   "cell_type": "code",
   "execution_count": 18,
   "metadata": {},
   "outputs": [
    {
     "data": {
      "text/html": [
       "<div>\n",
       "<style scoped>\n",
       "    .dataframe tbody tr th:only-of-type {\n",
       "        vertical-align: middle;\n",
       "    }\n",
       "\n",
       "    .dataframe tbody tr th {\n",
       "        vertical-align: top;\n",
       "    }\n",
       "\n",
       "    .dataframe thead th {\n",
       "        text-align: right;\n",
       "    }\n",
       "</style>\n",
       "<table border=\"1\" class=\"dataframe\">\n",
       "  <thead>\n",
       "    <tr style=\"text-align: right;\">\n",
       "      <th></th>\n",
       "      <th>transit_timestamp</th>\n",
       "      <th>ridership</th>\n",
       "      <th>latitude</th>\n",
       "      <th>longitude</th>\n",
       "      <th>locationid</th>\n",
       "    </tr>\n",
       "  </thead>\n",
       "  <tbody>\n",
       "    <tr>\n",
       "      <th>0</th>\n",
       "      <td>2023-01-01 01:00:00</td>\n",
       "      <td>52</td>\n",
       "      <td>40.775036</td>\n",
       "      <td>-73.912034</td>\n",
       "      <td>223.0</td>\n",
       "    </tr>\n",
       "    <tr>\n",
       "      <th>1</th>\n",
       "      <td>2023-01-01 01:00:00</td>\n",
       "      <td>95</td>\n",
       "      <td>40.759901</td>\n",
       "      <td>-73.984139</td>\n",
       "      <td>230.0</td>\n",
       "    </tr>\n",
       "    <tr>\n",
       "      <th>2</th>\n",
       "      <td>2023-01-01 01:00:00</td>\n",
       "      <td>52</td>\n",
       "      <td>40.706870</td>\n",
       "      <td>-73.953431</td>\n",
       "      <td>217.0</td>\n",
       "    </tr>\n",
       "    <tr>\n",
       "      <th>3</th>\n",
       "      <td>2023-01-01 01:00:00</td>\n",
       "      <td>249</td>\n",
       "      <td>40.708359</td>\n",
       "      <td>-73.957757</td>\n",
       "      <td>217.0</td>\n",
       "    </tr>\n",
       "    <tr>\n",
       "      <th>4</th>\n",
       "      <td>2023-01-01 01:00:00</td>\n",
       "      <td>394</td>\n",
       "      <td>40.720280</td>\n",
       "      <td>-73.993915</td>\n",
       "      <td>148.0</td>\n",
       "    </tr>\n",
       "  </tbody>\n",
       "</table>\n",
       "</div>"
      ],
      "text/plain": [
       "    transit_timestamp  ridership   latitude  longitude  locationid\n",
       "0 2023-01-01 01:00:00         52  40.775036 -73.912034       223.0\n",
       "1 2023-01-01 01:00:00         95  40.759901 -73.984139       230.0\n",
       "2 2023-01-01 01:00:00         52  40.706870 -73.953431       217.0\n",
       "3 2023-01-01 01:00:00        249  40.708359 -73.957757       217.0\n",
       "4 2023-01-01 01:00:00        394  40.720280 -73.993915       148.0"
      ]
     },
     "execution_count": 18,
     "metadata": {},
     "output_type": "execute_result"
    }
   ],
   "source": [
    "subway.head()"
   ]
  },
  {
   "cell_type": "code",
   "execution_count": 19,
   "metadata": {},
   "outputs": [
    {
     "data": {
      "text/html": [
       "<div>\n",
       "<style scoped>\n",
       "    .dataframe tbody tr th:only-of-type {\n",
       "        vertical-align: middle;\n",
       "    }\n",
       "\n",
       "    .dataframe tbody tr th {\n",
       "        vertical-align: top;\n",
       "    }\n",
       "\n",
       "    .dataframe thead th {\n",
       "        text-align: right;\n",
       "    }\n",
       "</style>\n",
       "<table border=\"1\" class=\"dataframe\">\n",
       "  <thead>\n",
       "    <tr style=\"text-align: right;\">\n",
       "      <th></th>\n",
       "      <th>LocationID</th>\n",
       "      <th>datetime_rounded</th>\n",
       "      <th>passenger_count</th>\n",
       "    </tr>\n",
       "  </thead>\n",
       "  <tbody>\n",
       "    <tr>\n",
       "      <th>0</th>\n",
       "      <td>2</td>\n",
       "      <td>2022-02-06 15:00:00</td>\n",
       "      <td>1.0</td>\n",
       "    </tr>\n",
       "    <tr>\n",
       "      <th>1</th>\n",
       "      <td>2</td>\n",
       "      <td>2022-02-16 23:00:00</td>\n",
       "      <td>1.0</td>\n",
       "    </tr>\n",
       "    <tr>\n",
       "      <th>2</th>\n",
       "      <td>2</td>\n",
       "      <td>2022-02-23 08:00:00</td>\n",
       "      <td>1.0</td>\n",
       "    </tr>\n",
       "    <tr>\n",
       "      <th>3</th>\n",
       "      <td>2</td>\n",
       "      <td>2022-02-23 19:00:00</td>\n",
       "      <td>4.0</td>\n",
       "    </tr>\n",
       "    <tr>\n",
       "      <th>4</th>\n",
       "      <td>2</td>\n",
       "      <td>2022-03-22 10:00:00</td>\n",
       "      <td>1.0</td>\n",
       "    </tr>\n",
       "  </tbody>\n",
       "</table>\n",
       "</div>"
      ],
      "text/plain": [
       "   LocationID    datetime_rounded  passenger_count\n",
       "0           2 2022-02-06 15:00:00              1.0\n",
       "1           2 2022-02-16 23:00:00              1.0\n",
       "2           2 2022-02-23 08:00:00              1.0\n",
       "3           2 2022-02-23 19:00:00              4.0\n",
       "4           2 2022-03-22 10:00:00              1.0"
      ]
     },
     "execution_count": 19,
     "metadata": {},
     "output_type": "execute_result"
    }
   ],
   "source": [
    "taxi.head()"
   ]
  },
  {
   "cell_type": "code",
   "execution_count": 20,
   "metadata": {},
   "outputs": [],
   "source": [
    "subway.to_parquet('c:/fomo_data/subway_taxi_id.parquet')"
   ]
  },
  {
   "cell_type": "code",
   "execution_count": 23,
   "metadata": {},
   "outputs": [],
   "source": [
    "subway['locationid'] = subway['locationid'].astype('category')"
   ]
  },
  {
   "cell_type": "code",
   "execution_count": 24,
   "metadata": {},
   "outputs": [
    {
     "name": "stdout",
     "output_type": "stream",
     "text": [
      "<class 'pandas.core.frame.DataFrame'>\n",
      "Index: 9728415 entries, 0 to 9769202\n",
      "Data columns (total 5 columns):\n",
      " #   Column             Dtype         \n",
      "---  ------             -----         \n",
      " 0   transit_timestamp  datetime64[ns]\n",
      " 1   ridership          int16         \n",
      " 2   latitude           float64       \n",
      " 3   longitude          float64       \n",
      " 4   locationid         category      \n",
      "dtypes: category(1), datetime64[ns](1), float64(2), int16(1)\n",
      "memory usage: 334.0 MB\n"
     ]
    }
   ],
   "source": [
    "subway.info()"
   ]
  },
  {
   "cell_type": "code",
   "execution_count": 25,
   "metadata": {},
   "outputs": [],
   "source": [
    "subway.drop(columns=['longitude', 'latitude'], inplace=True)"
   ]
  },
  {
   "cell_type": "code",
   "execution_count": 26,
   "metadata": {},
   "outputs": [
    {
     "name": "stdout",
     "output_type": "stream",
     "text": [
      "<class 'pandas.core.frame.DataFrame'>\n",
      "Index: 9728415 entries, 0 to 9769202\n",
      "Data columns (total 3 columns):\n",
      " #   Column             Dtype         \n",
      "---  ------             -----         \n",
      " 0   transit_timestamp  datetime64[ns]\n",
      " 1   ridership          int16         \n",
      " 2   locationid         category      \n",
      "dtypes: category(1), datetime64[ns](1), int16(1)\n",
      "memory usage: 185.6 MB\n"
     ]
    }
   ],
   "source": [
    "subway.info()"
   ]
  },
  {
   "cell_type": "code",
   "execution_count": 27,
   "metadata": {},
   "outputs": [],
   "source": [
    "taxi.rename(columns={\n",
    "    'LocationID': 'locationid',\n",
    "    'datetime_rounded': 'transit_timestamp',\n",
    "    'passenger_count': 'ridership'\n",
    "}, inplace=True)"
   ]
  },
  {
   "cell_type": "code",
   "execution_count": 28,
   "metadata": {},
   "outputs": [],
   "source": [
    "df = pd.concat([subway, taxi], ignore_index=True)"
   ]
  },
  {
   "cell_type": "code",
   "execution_count": 29,
   "metadata": {},
   "outputs": [],
   "source": [
    "df = df.groupby(['locationid', 'transit_timestamp']).agg({'ridership': 'sum'}).reset_index()"
   ]
  },
  {
   "cell_type": "code",
   "execution_count": 30,
   "metadata": {},
   "outputs": [
    {
     "name": "stdout",
     "output_type": "stream",
     "text": [
      "3527539\n"
     ]
    }
   ],
   "source": [
    "print(len(df))"
   ]
  },
  {
   "cell_type": "code",
   "execution_count": 31,
   "metadata": {},
   "outputs": [],
   "source": [
    "df.to_parquet('c:/fomo_data/sub_taxi_combine.parquet')"
   ]
  },
  {
   "cell_type": "code",
   "execution_count": 33,
   "metadata": {},
   "outputs": [
    {
     "data": {
      "text/plain": [
       "260"
      ]
     },
     "execution_count": 33,
     "metadata": {},
     "output_type": "execute_result"
    }
   ],
   "source": [
    "df['locationid'].nunique()"
   ]
  },
  {
   "cell_type": "code",
   "execution_count": null,
   "metadata": {},
   "outputs": [],
   "source": []
  }
 ],
 "metadata": {
  "kernelspec": {
   "display_name": "softwareeng",
   "language": "python",
   "name": "python3"
  },
  "language_info": {
   "codemirror_mode": {
    "name": "ipython",
    "version": 3
   },
   "file_extension": ".py",
   "mimetype": "text/x-python",
   "name": "python",
   "nbconvert_exporter": "python",
   "pygments_lexer": "ipython3",
   "version": "3.11.8"
  }
 },
 "nbformat": 4,
 "nbformat_minor": 2
}
