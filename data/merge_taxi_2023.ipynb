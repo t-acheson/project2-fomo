{
 "cells": [
  {
   "cell_type": "code",
   "execution_count": 5,
   "metadata": {},
   "outputs": [],
   "source": [
    "import os\n",
    "import pandas as pd\n"
   ]
  },
  {
   "cell_type": "code",
   "execution_count": 6,
   "metadata": {},
   "outputs": [],
   "source": [
    "download_dir = \"c:/A5\"\n",
    "\n",
    "all_dataframes = []\n"
   ]
  },
  {
   "cell_type": "code",
   "execution_count": 7,
   "metadata": {},
   "outputs": [],
   "source": [
    "for file_name in os.listdir(download_dir):\n",
    "    if file_name.endswith(\".parquet\"):\n",
    "        file_path = os.path.join(download_dir, file_name)\n",
    "        \n",
    "        df = pd.read_parquet(file_path)\n",
    "        all_dataframes.append(df)\n"
   ]
  },
  {
   "cell_type": "code",
   "execution_count": 8,
   "metadata": {},
   "outputs": [
    {
     "name": "stdout",
     "output_type": "stream",
     "text": [
      "Merged Parquet file saved to c:/A5\\yellow_tripdata_20222_merged.parquet\n"
     ]
    }
   ],
   "source": [
    "merged_df = pd.concat(all_dataframes, ignore_index=True)\n",
    "\n",
    "merged_file_path = os.path.join(download_dir, \"yellow_tripdata_20222_merged.parquet\")\n",
    "merged_df.to_parquet(merged_file_path, engine='pyarrow')\n",
    "\n",
    "print(f\"Merged Parquet file saved to {merged_file_path}\")\n"
   ]
  }
 ],
 "metadata": {
  "kernelspec": {
   "display_name": "softwareeng",
   "language": "python",
   "name": "python3"
  },
  "language_info": {
   "codemirror_mode": {
    "name": "ipython",
    "version": 3
   },
   "file_extension": ".py",
   "mimetype": "text/x-python",
   "name": "python",
   "nbconvert_exporter": "python",
   "pygments_lexer": "ipython3",
   "version": "3.11.8"
  }
 },
 "nbformat": 4,
 "nbformat_minor": 2
}
