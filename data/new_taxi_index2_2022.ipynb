{
 "cells": [
  {
   "cell_type": "code",
   "execution_count": 1,
   "metadata": {},
   "outputs": [],
   "source": [
    "import pandas as pd"
   ]
  },
  {
   "cell_type": "code",
   "execution_count": 2,
   "metadata": {},
   "outputs": [],
   "source": [
    "file_path = r'c:/A5/cleaned_taxi2_2022.parquet'\n",
    "df = pd.read_parquet(file_path)"
   ]
  },
  {
   "cell_type": "code",
   "execution_count": 3,
   "metadata": {},
   "outputs": [],
   "source": [
    "# Splitting the pickup and dropoff information into separate rows\n",
    "pickup_df = df[['tpep_pickup_datetime', 'PULocationID', 'passenger_count']].rename(columns={'tpep_pickup_datetime': 'datetime', 'PULocationID': 'LocationID'})\n",
    "dropoff_df = df[['tpep_dropoff_datetime', 'DOLocationID', 'passenger_count']].rename(columns={'tpep_dropoff_datetime': 'datetime', 'DOLocationID': 'LocationID'})\n",
    "\n",
    "# Combining the two dataframes\n",
    "combined_df = pd.concat([pickup_df, dropoff_df], ignore_index=True)"
   ]
  },
  {
   "cell_type": "code",
   "execution_count": 4,
   "metadata": {},
   "outputs": [
    {
     "name": "stdout",
     "output_type": "stream",
     "text": [
      "  tpep_pickup_datetime tpep_dropoff_datetime  passenger_count  PULocationID  \\\n",
      "0  2022-07-01 00:20:06   2022-07-01 00:39:13              1.0            70   \n",
      "1  2022-07-01 00:29:11   2022-07-01 00:38:00              1.0           162   \n",
      "2  2022-07-01 00:03:56   2022-07-01 00:11:49              1.0            48   \n",
      "3  2022-07-01 00:15:50   2022-07-01 00:22:21              1.0           161   \n",
      "4  2022-07-01 00:53:53   2022-07-01 01:08:10              1.0           162   \n",
      "\n",
      "   DOLocationID  \n",
      "0            33  \n",
      "1            48  \n",
      "2           142  \n",
      "3           234  \n",
      "4           148  \n"
     ]
    }
   ],
   "source": [
    "print(df.head())"
   ]
  }
 ],
 "metadata": {
  "kernelspec": {
   "display_name": "softwareeng",
   "language": "python",
   "name": "python3"
  },
  "language_info": {
   "codemirror_mode": {
    "name": "ipython",
    "version": 3
   },
   "file_extension": ".py",
   "mimetype": "text/x-python",
   "name": "python",
   "nbconvert_exporter": "python",
   "pygments_lexer": "ipython3",
   "version": "3.11.8"
  }
 },
 "nbformat": 4,
 "nbformat_minor": 2
}
