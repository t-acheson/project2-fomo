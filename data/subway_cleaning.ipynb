{
 "cells": [
  {
   "cell_type": "code",
   "execution_count": 63,
   "metadata": {},
   "outputs": [],
   "source": [
    "import pandas as pd\n",
    "import matplotlib.pyplot as plt\n"
   ]
  },
  {
   "cell_type": "markdown",
   "metadata": {},
   "source": [
    "The subway data for 2022-2024 is too big for pandas to read. Therefore, need to read the file in chunks and clean in chunks before cleaning can occur and then conctonate the dataframes into one paquet file"
   ]
  },
  {
   "cell_type": "code",
   "execution_count": 64,
   "metadata": {},
   "outputs": [
    {
     "name": "stdout",
     "output_type": "stream",
     "text": [
      "        transit_timestamp transit_mode station_complex_id  \\\n",
      "0  06/09/2023 12:00:00 AM       subway                359   \n",
      "1  05/03/2023 12:00:00 PM       subway                359   \n",
      "2  08/20/2023 03:00:00 PM       subway                359   \n",
      "3  06/06/2023 11:00:00 PM       subway                359   \n",
      "4  08/10/2023 11:00:00 AM       subway                359   \n",
      "\n",
      "                      station_complex   borough payment_method  \\\n",
      "0  Flatbush Av-Brooklyn College (2,5)  Brooklyn      metrocard   \n",
      "1  Flatbush Av-Brooklyn College (2,5)  Brooklyn      metrocard   \n",
      "2  Flatbush Av-Brooklyn College (2,5)  Brooklyn      metrocard   \n",
      "3  Flatbush Av-Brooklyn College (2,5)  Brooklyn      metrocard   \n",
      "4  Flatbush Av-Brooklyn College (2,5)  Brooklyn      metrocard   \n",
      "\n",
      "                fare_class_category  ridership  transfers   latitude  \\\n",
      "0      Metrocard - Unlimited 30-Day          4          0  40.632835   \n",
      "1              Metrocard - Students         58          4  40.632835   \n",
      "2  Metrocard - Seniors & Disability         12          1  40.632835   \n",
      "3      Metrocard - Unlimited 30-Day          1          0  40.632835   \n",
      "4              Metrocard - Students         14          2  40.632835   \n",
      "\n",
      "   longitude                                   Georeference  \n",
      "0 -73.947639  POINT (-73.94763946533203 40.632835388183594)  \n",
      "1 -73.947639  POINT (-73.94763946533203 40.632835388183594)  \n",
      "2 -73.947639  POINT (-73.94763946533203 40.632835388183594)  \n",
      "3 -73.947639  POINT (-73.94763946533203 40.632835388183594)  \n",
      "4 -73.947639  POINT (-73.94763946533203 40.632835388183594)  \n"
     ]
    }
   ],
   "source": [
    "# Define the chunk size\n",
    "chunk_size = 10000\n",
    "\n",
    "\n",
    "first_chunk = pd.read_csv('c:/A/MTA_Subway_2022_24.csv', chunksize=chunk_size)\n",
    "\n",
    "first_chunk = next(first_chunk)\n",
    "\n",
    "print(first_chunk.head()) "
   ]
  },
  {
   "cell_type": "code",
   "execution_count": 65,
   "metadata": {},
   "outputs": [
    {
     "name": "stdout",
     "output_type": "stream",
     "text": [
      "<class 'pandas.core.frame.DataFrame'>\n",
      "RangeIndex: 10000 entries, 0 to 9999\n",
      "Data columns (total 12 columns):\n",
      " #   Column               Non-Null Count  Dtype  \n",
      "---  ------               --------------  -----  \n",
      " 0   transit_timestamp    10000 non-null  object \n",
      " 1   transit_mode         10000 non-null  object \n",
      " 2   station_complex_id   10000 non-null  object \n",
      " 3   station_complex      10000 non-null  object \n",
      " 4   borough              10000 non-null  object \n",
      " 5   payment_method       10000 non-null  object \n",
      " 6   fare_class_category  10000 non-null  object \n",
      " 7   ridership            10000 non-null  int64  \n",
      " 8   transfers            10000 non-null  int64  \n",
      " 9   latitude             10000 non-null  float64\n",
      " 10  longitude            10000 non-null  float64\n",
      " 11  Georeference         10000 non-null  object \n",
      "dtypes: float64(2), int64(2), object(8)\n",
      "memory usage: 937.6+ KB\n"
     ]
    }
   ],
   "source": [
    "first_chunk.info()"
   ]
  },
  {
   "cell_type": "code",
   "execution_count": 66,
   "metadata": {},
   "outputs": [
    {
     "data": {
      "text/plain": [
       "transit_timestamp      5369\n",
       "transit_mode              3\n",
       "station_complex_id      404\n",
       "station_complex         404\n",
       "borough                   5\n",
       "payment_method            2\n",
       "fare_class_category      10\n",
       "ridership               382\n",
       "transfers               147\n",
       "latitude                410\n",
       "longitude               410\n",
       "Georeference            414\n",
       "dtype: int64"
      ]
     },
     "execution_count": 66,
     "metadata": {},
     "output_type": "execute_result"
    }
   ],
   "source": [
    "first_chunk.nunique()"
   ]
  },
  {
   "cell_type": "code",
   "execution_count": 67,
   "metadata": {},
   "outputs": [
    {
     "data": {
      "text/html": [
       "<div>\n",
       "<style scoped>\n",
       "    .dataframe tbody tr th:only-of-type {\n",
       "        vertical-align: middle;\n",
       "    }\n",
       "\n",
       "    .dataframe tbody tr th {\n",
       "        vertical-align: top;\n",
       "    }\n",
       "\n",
       "    .dataframe thead th {\n",
       "        text-align: right;\n",
       "    }\n",
       "</style>\n",
       "<table border=\"1\" class=\"dataframe\">\n",
       "  <thead>\n",
       "    <tr style=\"text-align: right;\">\n",
       "      <th></th>\n",
       "      <th>transit_timestamp</th>\n",
       "      <th>transit_mode</th>\n",
       "      <th>station_complex_id</th>\n",
       "      <th>station_complex</th>\n",
       "      <th>borough</th>\n",
       "      <th>payment_method</th>\n",
       "      <th>fare_class_category</th>\n",
       "      <th>ridership</th>\n",
       "      <th>transfers</th>\n",
       "      <th>latitude</th>\n",
       "      <th>longitude</th>\n",
       "      <th>Georeference</th>\n",
       "    </tr>\n",
       "  </thead>\n",
       "  <tbody>\n",
       "    <tr>\n",
       "      <th>0</th>\n",
       "      <td>False</td>\n",
       "      <td>False</td>\n",
       "      <td>False</td>\n",
       "      <td>False</td>\n",
       "      <td>False</td>\n",
       "      <td>False</td>\n",
       "      <td>False</td>\n",
       "      <td>False</td>\n",
       "      <td>False</td>\n",
       "      <td>False</td>\n",
       "      <td>False</td>\n",
       "      <td>False</td>\n",
       "    </tr>\n",
       "    <tr>\n",
       "      <th>1</th>\n",
       "      <td>False</td>\n",
       "      <td>False</td>\n",
       "      <td>False</td>\n",
       "      <td>False</td>\n",
       "      <td>False</td>\n",
       "      <td>False</td>\n",
       "      <td>False</td>\n",
       "      <td>False</td>\n",
       "      <td>False</td>\n",
       "      <td>False</td>\n",
       "      <td>False</td>\n",
       "      <td>False</td>\n",
       "    </tr>\n",
       "    <tr>\n",
       "      <th>2</th>\n",
       "      <td>False</td>\n",
       "      <td>False</td>\n",
       "      <td>False</td>\n",
       "      <td>False</td>\n",
       "      <td>False</td>\n",
       "      <td>False</td>\n",
       "      <td>False</td>\n",
       "      <td>False</td>\n",
       "      <td>False</td>\n",
       "      <td>False</td>\n",
       "      <td>False</td>\n",
       "      <td>False</td>\n",
       "    </tr>\n",
       "    <tr>\n",
       "      <th>3</th>\n",
       "      <td>False</td>\n",
       "      <td>False</td>\n",
       "      <td>False</td>\n",
       "      <td>False</td>\n",
       "      <td>False</td>\n",
       "      <td>False</td>\n",
       "      <td>False</td>\n",
       "      <td>False</td>\n",
       "      <td>False</td>\n",
       "      <td>False</td>\n",
       "      <td>False</td>\n",
       "      <td>False</td>\n",
       "    </tr>\n",
       "    <tr>\n",
       "      <th>4</th>\n",
       "      <td>False</td>\n",
       "      <td>False</td>\n",
       "      <td>False</td>\n",
       "      <td>False</td>\n",
       "      <td>False</td>\n",
       "      <td>False</td>\n",
       "      <td>False</td>\n",
       "      <td>False</td>\n",
       "      <td>False</td>\n",
       "      <td>False</td>\n",
       "      <td>False</td>\n",
       "      <td>False</td>\n",
       "    </tr>\n",
       "    <tr>\n",
       "      <th>...</th>\n",
       "      <td>...</td>\n",
       "      <td>...</td>\n",
       "      <td>...</td>\n",
       "      <td>...</td>\n",
       "      <td>...</td>\n",
       "      <td>...</td>\n",
       "      <td>...</td>\n",
       "      <td>...</td>\n",
       "      <td>...</td>\n",
       "      <td>...</td>\n",
       "      <td>...</td>\n",
       "      <td>...</td>\n",
       "    </tr>\n",
       "    <tr>\n",
       "      <th>9995</th>\n",
       "      <td>False</td>\n",
       "      <td>False</td>\n",
       "      <td>False</td>\n",
       "      <td>False</td>\n",
       "      <td>False</td>\n",
       "      <td>False</td>\n",
       "      <td>False</td>\n",
       "      <td>False</td>\n",
       "      <td>False</td>\n",
       "      <td>False</td>\n",
       "      <td>False</td>\n",
       "      <td>False</td>\n",
       "    </tr>\n",
       "    <tr>\n",
       "      <th>9996</th>\n",
       "      <td>False</td>\n",
       "      <td>False</td>\n",
       "      <td>False</td>\n",
       "      <td>False</td>\n",
       "      <td>False</td>\n",
       "      <td>False</td>\n",
       "      <td>False</td>\n",
       "      <td>False</td>\n",
       "      <td>False</td>\n",
       "      <td>False</td>\n",
       "      <td>False</td>\n",
       "      <td>False</td>\n",
       "    </tr>\n",
       "    <tr>\n",
       "      <th>9997</th>\n",
       "      <td>False</td>\n",
       "      <td>False</td>\n",
       "      <td>False</td>\n",
       "      <td>False</td>\n",
       "      <td>False</td>\n",
       "      <td>False</td>\n",
       "      <td>False</td>\n",
       "      <td>False</td>\n",
       "      <td>False</td>\n",
       "      <td>False</td>\n",
       "      <td>False</td>\n",
       "      <td>False</td>\n",
       "    </tr>\n",
       "    <tr>\n",
       "      <th>9998</th>\n",
       "      <td>False</td>\n",
       "      <td>False</td>\n",
       "      <td>False</td>\n",
       "      <td>False</td>\n",
       "      <td>False</td>\n",
       "      <td>False</td>\n",
       "      <td>False</td>\n",
       "      <td>False</td>\n",
       "      <td>False</td>\n",
       "      <td>False</td>\n",
       "      <td>False</td>\n",
       "      <td>False</td>\n",
       "    </tr>\n",
       "    <tr>\n",
       "      <th>9999</th>\n",
       "      <td>False</td>\n",
       "      <td>False</td>\n",
       "      <td>False</td>\n",
       "      <td>False</td>\n",
       "      <td>False</td>\n",
       "      <td>False</td>\n",
       "      <td>False</td>\n",
       "      <td>False</td>\n",
       "      <td>False</td>\n",
       "      <td>False</td>\n",
       "      <td>False</td>\n",
       "      <td>False</td>\n",
       "    </tr>\n",
       "  </tbody>\n",
       "</table>\n",
       "<p>10000 rows × 12 columns</p>\n",
       "</div>"
      ],
      "text/plain": [
       "      transit_timestamp  transit_mode  station_complex_id  station_complex  \\\n",
       "0                 False         False               False            False   \n",
       "1                 False         False               False            False   \n",
       "2                 False         False               False            False   \n",
       "3                 False         False               False            False   \n",
       "4                 False         False               False            False   \n",
       "...                 ...           ...                 ...              ...   \n",
       "9995              False         False               False            False   \n",
       "9996              False         False               False            False   \n",
       "9997              False         False               False            False   \n",
       "9998              False         False               False            False   \n",
       "9999              False         False               False            False   \n",
       "\n",
       "      borough  payment_method  fare_class_category  ridership  transfers  \\\n",
       "0       False           False                False      False      False   \n",
       "1       False           False                False      False      False   \n",
       "2       False           False                False      False      False   \n",
       "3       False           False                False      False      False   \n",
       "4       False           False                False      False      False   \n",
       "...       ...             ...                  ...        ...        ...   \n",
       "9995    False           False                False      False      False   \n",
       "9996    False           False                False      False      False   \n",
       "9997    False           False                False      False      False   \n",
       "9998    False           False                False      False      False   \n",
       "9999    False           False                False      False      False   \n",
       "\n",
       "      latitude  longitude  Georeference  \n",
       "0        False      False         False  \n",
       "1        False      False         False  \n",
       "2        False      False         False  \n",
       "3        False      False         False  \n",
       "4        False      False         False  \n",
       "...        ...        ...           ...  \n",
       "9995     False      False         False  \n",
       "9996     False      False         False  \n",
       "9997     False      False         False  \n",
       "9998     False      False         False  \n",
       "9999     False      False         False  \n",
       "\n",
       "[10000 rows x 12 columns]"
      ]
     },
     "execution_count": 67,
     "metadata": {},
     "output_type": "execute_result"
    }
   ],
   "source": [
    "first_chunk.isnull()"
   ]
  },
  {
   "cell_type": "code",
   "execution_count": 68,
   "metadata": {},
   "outputs": [
    {
     "name": "stdout",
     "output_type": "stream",
     "text": [
      "<class 'pandas.core.frame.DataFrame'>\n",
      "RangeIndex: 10000 entries, 0 to 9999\n",
      "Data columns (total 12 columns):\n",
      " #   Column               Non-Null Count  Dtype   \n",
      "---  ------               --------------  -----   \n",
      " 0   transit_timestamp    10000 non-null  category\n",
      " 1   transit_mode         10000 non-null  category\n",
      " 2   station_complex_id   10000 non-null  category\n",
      " 3   station_complex      10000 non-null  category\n",
      " 4   borough              10000 non-null  category\n",
      " 5   payment_method       10000 non-null  category\n",
      " 6   fare_class_category  10000 non-null  category\n",
      " 7   ridership            10000 non-null  int64   \n",
      " 8   transfers            10000 non-null  int64   \n",
      " 9   latitude             10000 non-null  float64 \n",
      " 10  longitude            10000 non-null  float64 \n",
      " 11  Georeference         10000 non-null  object  \n",
      "dtypes: category(7), float64(2), int64(2), object(1)\n",
      "memory usage: 698.9+ KB\n"
     ]
    }
   ],
   "source": [
    "df = first_chunk\n",
    "# Change data types of all object columns to category except for 'Georeference'\n",
    "for col in df.select_dtypes(include='object').columns:\n",
    "    if col != 'Georeference':\n",
    "        df[col] = df[col].astype('category')\n",
    "\n",
    "# Display the data types to verify the changes\n",
    "df.info()"
   ]
  },
  {
   "cell_type": "code",
   "execution_count": 69,
   "metadata": {},
   "outputs": [
    {
     "name": "stderr",
     "output_type": "stream",
     "text": [
      "C:\\Users\\Kevin\\AppData\\Local\\Temp\\ipykernel_5328\\1517558219.py:1: UserWarning: Could not infer format, so each element will be parsed individually, falling back to `dateutil`. To ensure parsing is consistent and as-expected, please specify a format.\n",
      "  df['transit_timestamp'] = pd.to_datetime(df['transit_timestamp'])\n"
     ]
    }
   ],
   "source": [
    "df['transit_timestamp'] = pd.to_datetime(df['transit_timestamp'])\n",
    "\n",
    "# Extract date from 'transit_timestamp'\n",
    "df['date'] = df['transit_timestamp'].dt.date\n"
   ]
  },
  {
   "cell_type": "code",
   "execution_count": 70,
   "metadata": {},
   "outputs": [
    {
     "name": "stdout",
     "output_type": "stream",
     "text": [
      "    transit_timestamp transit_mode station_complex_id  \\\n",
      "0 2023-06-09 00:00:00       subway                359   \n",
      "1 2023-05-03 12:00:00       subway                359   \n",
      "2 2023-08-20 15:00:00       subway                359   \n",
      "3 2023-06-06 23:00:00       subway                359   \n",
      "4 2023-08-10 11:00:00       subway                359   \n",
      "\n",
      "                      station_complex   borough payment_method  \\\n",
      "0  Flatbush Av-Brooklyn College (2,5)  Brooklyn      metrocard   \n",
      "1  Flatbush Av-Brooklyn College (2,5)  Brooklyn      metrocard   \n",
      "2  Flatbush Av-Brooklyn College (2,5)  Brooklyn      metrocard   \n",
      "3  Flatbush Av-Brooklyn College (2,5)  Brooklyn      metrocard   \n",
      "4  Flatbush Av-Brooklyn College (2,5)  Brooklyn      metrocard   \n",
      "\n",
      "                fare_class_category  ridership  transfers   latitude  \\\n",
      "0      Metrocard - Unlimited 30-Day          4          0  40.632835   \n",
      "1              Metrocard - Students         58          4  40.632835   \n",
      "2  Metrocard - Seniors & Disability         12          1  40.632835   \n",
      "3      Metrocard - Unlimited 30-Day          1          0  40.632835   \n",
      "4              Metrocard - Students         14          2  40.632835   \n",
      "\n",
      "   longitude                                   Georeference        date  \n",
      "0 -73.947639  POINT (-73.94763946533203 40.632835388183594)  2023-06-09  \n",
      "1 -73.947639  POINT (-73.94763946533203 40.632835388183594)  2023-05-03  \n",
      "2 -73.947639  POINT (-73.94763946533203 40.632835388183594)  2023-08-20  \n",
      "3 -73.947639  POINT (-73.94763946533203 40.632835388183594)  2023-06-06  \n",
      "4 -73.947639  POINT (-73.94763946533203 40.632835388183594)  2023-08-10  \n"
     ]
    }
   ],
   "source": [
    "print(df.head())"
   ]
  },
  {
   "cell_type": "code",
   "execution_count": 71,
   "metadata": {},
   "outputs": [
    {
     "name": "stdout",
     "output_type": "stream",
     "text": [
      "['Metrocard - Unlimited 30-Day', 'Metrocard - Students', 'Metrocard - Seniors & Disability', 'Metrocard - Other', 'Metrocard - Full Fare', 'OMNY - Full Fare', 'Metrocard - Unlimited 7-Day', 'OMNY - Seniors & Disability', 'Metrocard - Fair Fare', 'OMNY - Other']\n",
      "Categories (10, object): ['Metrocard - Fair Fare', 'Metrocard - Full Fare', 'Metrocard - Other', 'Metrocard - Seniors & Disability', ..., 'Metrocard - Unlimited 7-Day', 'OMNY - Full Fare', 'OMNY - Other', 'OMNY - Seniors & Disability']\n"
     ]
    }
   ],
   "source": [
    "# List all unique entries in the fare_class_category column\n",
    "unique_fare_classes = df['fare_class_category'].unique()\n",
    "\n",
    "# Display the unique fare classes\n",
    "print(unique_fare_classes)"
   ]
  },
  {
   "cell_type": "code",
   "execution_count": 72,
   "metadata": {},
   "outputs": [
    {
     "data": {
      "text/plain": [
       "['subway', 'staten_island_railway', 'tram']\n",
       "Categories (3, object): ['staten_island_railway', 'subway', 'tram']"
      ]
     },
     "execution_count": 72,
     "metadata": {},
     "output_type": "execute_result"
    }
   ],
   "source": [
    "df['transit_mode'].unique()"
   ]
  },
  {
   "cell_type": "code",
   "execution_count": 73,
   "metadata": {},
   "outputs": [
    {
     "data": {
      "text/plain": [
       "['Brooklyn', 'Queens', 'Bronx', 'Manhattan', 'Staten Island']\n",
       "Categories (5, object): ['Bronx', 'Brooklyn', 'Manhattan', 'Queens', 'Staten Island']"
      ]
     },
     "execution_count": 73,
     "metadata": {},
     "output_type": "execute_result"
    }
   ],
   "source": [
    "df['borough'].unique()"
   ]
  },
  {
   "cell_type": "code",
   "execution_count": 74,
   "metadata": {},
   "outputs": [
    {
     "data": {
      "text/plain": [
       "['metrocard', 'omny']\n",
       "Categories (2, object): ['metrocard', 'omny']"
      ]
     },
     "execution_count": 74,
     "metadata": {},
     "output_type": "execute_result"
    }
   ],
   "source": [
    "df['payment_method'].unique()"
   ]
  },
  {
   "cell_type": "markdown",
   "metadata": {},
   "source": [
    "# Identify categorical columns\n",
    "categorical_columns = df.select_dtypes(include=['object', 'category']).columns\n",
    "\n",
    "# Plot the frequency of values for each categorical column\n",
    "plt.figure(figsize=(15, 10))\n",
    "\n",
    "for i, col in enumerate(categorical_columns, 1):\n",
    "    plt.subplot(3, 3, i)  # Adjust subplot grid size as needed\n",
    "    df[col].value_counts().plot(kind='bar', color='skyblue')\n",
    "    plt.title(f'Frequency of {col}')\n",
    "    plt.xlabel(col)\n",
    "    plt.ylabel('Count')\n",
    "    plt.xticks(rotation=45)\n",
    "\n",
    "plt.tight_layout()\n",
    "plt.show()"
   ]
  },
  {
   "cell_type": "code",
   "execution_count": 75,
   "metadata": {},
   "outputs": [
    {
     "name": "stdout",
     "output_type": "stream",
     "text": [
      "<class 'pandas.core.frame.DataFrame'>\n",
      "RangeIndex: 10000 entries, 0 to 9999\n",
      "Data columns (total 8 columns):\n",
      " #   Column              Non-Null Count  Dtype         \n",
      "---  ------              --------------  -----         \n",
      " 0   transit_timestamp   10000 non-null  datetime64[ns]\n",
      " 1   station_complex_id  10000 non-null  category      \n",
      " 2   station_complex     10000 non-null  category      \n",
      " 3   borough             10000 non-null  category      \n",
      " 4   ridership           10000 non-null  int64         \n",
      " 5   latitude            10000 non-null  float64       \n",
      " 6   longitude           10000 non-null  float64       \n",
      " 7   date                10000 non-null  object        \n",
      "dtypes: category(3), datetime64[ns](1), float64(2), int64(1), object(1)\n",
      "memory usage: 478.4+ KB\n"
     ]
    }
   ],
   "source": [
    "df = df.drop(columns=[  'payment_method', 'Georeference', 'transfers', 'transit_mode', 'fare_class_category', 'station_complex', 'borough', 'transit_timestamp'])\n",
    "df.info()"
   ]
  },
  {
   "cell_type": "code",
   "execution_count": 76,
   "metadata": {},
   "outputs": [
    {
     "name": "stdout",
     "output_type": "stream",
     "text": [
      "<class 'pandas.core.frame.DataFrame'>\n",
      "RangeIndex: 10000 entries, 0 to 9999\n",
      "Data columns (total 8 columns):\n",
      " #   Column              Non-Null Count  Dtype         \n",
      "---  ------              --------------  -----         \n",
      " 0   transit_timestamp   10000 non-null  datetime64[ns]\n",
      " 1   station_complex_id  10000 non-null  category      \n",
      " 2   station_complex     10000 non-null  category      \n",
      " 3   borough             10000 non-null  category      \n",
      " 4   ridership           10000 non-null  int64         \n",
      " 5   latitude            10000 non-null  float64       \n",
      " 6   longitude           10000 non-null  float64       \n",
      " 7   date                10000 non-null  object        \n",
      "dtypes: category(3), datetime64[ns](1), float64(2), int64(1), object(1)\n",
      "memory usage: 478.4+ KB\n"
     ]
    }
   ],
   "source": [
    "df.info()"
   ]
  },
  {
   "cell_type": "code",
   "execution_count": 77,
   "metadata": {},
   "outputs": [
    {
     "data": {
      "text/html": [
       "<div>\n",
       "<style scoped>\n",
       "    .dataframe tbody tr th:only-of-type {\n",
       "        vertical-align: middle;\n",
       "    }\n",
       "\n",
       "    .dataframe tbody tr th {\n",
       "        vertical-align: top;\n",
       "    }\n",
       "\n",
       "    .dataframe thead th {\n",
       "        text-align: right;\n",
       "    }\n",
       "</style>\n",
       "<table border=\"1\" class=\"dataframe\">\n",
       "  <thead>\n",
       "    <tr style=\"text-align: right;\">\n",
       "      <th></th>\n",
       "      <th>transit_timestamp</th>\n",
       "      <th>station_complex_id</th>\n",
       "      <th>station_complex</th>\n",
       "      <th>borough</th>\n",
       "      <th>ridership</th>\n",
       "      <th>latitude</th>\n",
       "      <th>longitude</th>\n",
       "      <th>date</th>\n",
       "    </tr>\n",
       "  </thead>\n",
       "  <tbody>\n",
       "    <tr>\n",
       "      <th>0</th>\n",
       "      <td>2023-06-09 00:00:00</td>\n",
       "      <td>359</td>\n",
       "      <td>Flatbush Av-Brooklyn College (2,5)</td>\n",
       "      <td>Brooklyn</td>\n",
       "      <td>4</td>\n",
       "      <td>40.632835</td>\n",
       "      <td>-73.947639</td>\n",
       "      <td>2023-06-09</td>\n",
       "    </tr>\n",
       "    <tr>\n",
       "      <th>1</th>\n",
       "      <td>2023-05-03 12:00:00</td>\n",
       "      <td>359</td>\n",
       "      <td>Flatbush Av-Brooklyn College (2,5)</td>\n",
       "      <td>Brooklyn</td>\n",
       "      <td>58</td>\n",
       "      <td>40.632835</td>\n",
       "      <td>-73.947639</td>\n",
       "      <td>2023-05-03</td>\n",
       "    </tr>\n",
       "    <tr>\n",
       "      <th>2</th>\n",
       "      <td>2023-08-20 15:00:00</td>\n",
       "      <td>359</td>\n",
       "      <td>Flatbush Av-Brooklyn College (2,5)</td>\n",
       "      <td>Brooklyn</td>\n",
       "      <td>12</td>\n",
       "      <td>40.632835</td>\n",
       "      <td>-73.947639</td>\n",
       "      <td>2023-08-20</td>\n",
       "    </tr>\n",
       "    <tr>\n",
       "      <th>3</th>\n",
       "      <td>2023-06-06 23:00:00</td>\n",
       "      <td>359</td>\n",
       "      <td>Flatbush Av-Brooklyn College (2,5)</td>\n",
       "      <td>Brooklyn</td>\n",
       "      <td>1</td>\n",
       "      <td>40.632835</td>\n",
       "      <td>-73.947639</td>\n",
       "      <td>2023-06-06</td>\n",
       "    </tr>\n",
       "    <tr>\n",
       "      <th>4</th>\n",
       "      <td>2023-08-10 11:00:00</td>\n",
       "      <td>359</td>\n",
       "      <td>Flatbush Av-Brooklyn College (2,5)</td>\n",
       "      <td>Brooklyn</td>\n",
       "      <td>14</td>\n",
       "      <td>40.632835</td>\n",
       "      <td>-73.947639</td>\n",
       "      <td>2023-08-10</td>\n",
       "    </tr>\n",
       "  </tbody>\n",
       "</table>\n",
       "</div>"
      ],
      "text/plain": [
       "    transit_timestamp station_complex_id                     station_complex  \\\n",
       "0 2023-06-09 00:00:00                359  Flatbush Av-Brooklyn College (2,5)   \n",
       "1 2023-05-03 12:00:00                359  Flatbush Av-Brooklyn College (2,5)   \n",
       "2 2023-08-20 15:00:00                359  Flatbush Av-Brooklyn College (2,5)   \n",
       "3 2023-06-06 23:00:00                359  Flatbush Av-Brooklyn College (2,5)   \n",
       "4 2023-08-10 11:00:00                359  Flatbush Av-Brooklyn College (2,5)   \n",
       "\n",
       "    borough  ridership   latitude  longitude        date  \n",
       "0  Brooklyn          4  40.632835 -73.947639  2023-06-09  \n",
       "1  Brooklyn         58  40.632835 -73.947639  2023-05-03  \n",
       "2  Brooklyn         12  40.632835 -73.947639  2023-08-20  \n",
       "3  Brooklyn          1  40.632835 -73.947639  2023-06-06  \n",
       "4  Brooklyn         14  40.632835 -73.947639  2023-08-10  "
      ]
     },
     "execution_count": 77,
     "metadata": {},
     "output_type": "execute_result"
    }
   ],
   "source": [
    "df.head()"
   ]
  },
  {
   "cell_type": "code",
   "execution_count": 78,
   "metadata": {},
   "outputs": [
    {
     "name": "stdout",
     "output_type": "stream",
     "text": [
      "       transit_timestamp station_complex_id  \\\n",
      "8354 2022-11-30 17:00:00                 86   \n",
      "8355 2022-12-01 04:00:00                 86   \n",
      "8356 2022-12-01 09:00:00                 86   \n",
      "8357 2022-12-02 05:00:00                 86   \n",
      "8337 2023-01-01 00:00:00                359   \n",
      "\n",
      "                         station_complex   borough  ridership   latitude  \\\n",
      "8354                   Cypress Hills (J)  Brooklyn          2  40.689941   \n",
      "8355                   Cypress Hills (J)  Brooklyn          1  40.689941   \n",
      "8356                   Cypress Hills (J)  Brooklyn          2  40.689941   \n",
      "8357                   Cypress Hills (J)  Brooklyn          3  40.689941   \n",
      "8337  Flatbush Av-Brooklyn College (2,5)  Brooklyn          3  40.632835   \n",
      "\n",
      "      longitude        date  \n",
      "8354 -73.872551  2022-11-30  \n",
      "8355 -73.872551  2022-12-01  \n",
      "8356 -73.872551  2022-12-01  \n",
      "8357 -73.872551  2022-12-02  \n",
      "8337 -73.947639  2023-01-01  \n"
     ]
    }
   ],
   "source": [
    "# Sort by the 'date' column\n",
    "sorted_df = df.sort_values(by='date')\n",
    "\n",
    "# Display the top rows\n",
    "print(sorted_df.head())"
   ]
  },
  {
   "cell_type": "code",
   "execution_count": 79,
   "metadata": {},
   "outputs": [
    {
     "data": {
      "text/html": [
       "<div>\n",
       "<style scoped>\n",
       "    .dataframe tbody tr th:only-of-type {\n",
       "        vertical-align: middle;\n",
       "    }\n",
       "\n",
       "    .dataframe tbody tr th {\n",
       "        vertical-align: top;\n",
       "    }\n",
       "\n",
       "    .dataframe thead th {\n",
       "        text-align: right;\n",
       "    }\n",
       "</style>\n",
       "<table border=\"1\" class=\"dataframe\">\n",
       "  <thead>\n",
       "    <tr style=\"text-align: right;\">\n",
       "      <th></th>\n",
       "      <th>station_complex_id</th>\n",
       "      <th>ridership</th>\n",
       "      <th>date</th>\n",
       "    </tr>\n",
       "  </thead>\n",
       "  <tbody>\n",
       "    <tr>\n",
       "      <th>0</th>\n",
       "      <td>359</td>\n",
       "      <td>4</td>\n",
       "      <td>2023-06-09</td>\n",
       "    </tr>\n",
       "    <tr>\n",
       "      <th>1</th>\n",
       "      <td>359</td>\n",
       "      <td>58</td>\n",
       "      <td>2023-05-03</td>\n",
       "    </tr>\n",
       "    <tr>\n",
       "      <th>2</th>\n",
       "      <td>359</td>\n",
       "      <td>12</td>\n",
       "      <td>2023-08-20</td>\n",
       "    </tr>\n",
       "    <tr>\n",
       "      <th>3</th>\n",
       "      <td>359</td>\n",
       "      <td>1</td>\n",
       "      <td>2023-06-06</td>\n",
       "    </tr>\n",
       "    <tr>\n",
       "      <th>4</th>\n",
       "      <td>359</td>\n",
       "      <td>14</td>\n",
       "      <td>2023-08-10</td>\n",
       "    </tr>\n",
       "    <tr>\n",
       "      <th>...</th>\n",
       "      <td>...</td>\n",
       "      <td>...</td>\n",
       "      <td>...</td>\n",
       "    </tr>\n",
       "    <tr>\n",
       "      <th>9995</th>\n",
       "      <td>359</td>\n",
       "      <td>52</td>\n",
       "      <td>2023-11-30</td>\n",
       "    </tr>\n",
       "    <tr>\n",
       "      <th>9996</th>\n",
       "      <td>359</td>\n",
       "      <td>72</td>\n",
       "      <td>2023-11-02</td>\n",
       "    </tr>\n",
       "    <tr>\n",
       "      <th>9997</th>\n",
       "      <td>108</td>\n",
       "      <td>2</td>\n",
       "      <td>2024-01-12</td>\n",
       "    </tr>\n",
       "    <tr>\n",
       "      <th>9998</th>\n",
       "      <td>359</td>\n",
       "      <td>57</td>\n",
       "      <td>2023-07-11</td>\n",
       "    </tr>\n",
       "    <tr>\n",
       "      <th>9999</th>\n",
       "      <td>49</td>\n",
       "      <td>6</td>\n",
       "      <td>2024-01-12</td>\n",
       "    </tr>\n",
       "  </tbody>\n",
       "</table>\n",
       "<p>10000 rows × 3 columns</p>\n",
       "</div>"
      ],
      "text/plain": [
       "     station_complex_id  ridership        date\n",
       "0                   359          4  2023-06-09\n",
       "1                   359         58  2023-05-03\n",
       "2                   359         12  2023-08-20\n",
       "3                   359          1  2023-06-06\n",
       "4                   359         14  2023-08-10\n",
       "...                 ...        ...         ...\n",
       "9995                359         52  2023-11-30\n",
       "9996                359         72  2023-11-02\n",
       "9997                108          2  2024-01-12\n",
       "9998                359         57  2023-07-11\n",
       "9999                 49          6  2024-01-12\n",
       "\n",
       "[10000 rows x 3 columns]"
      ]
     },
     "execution_count": 79,
     "metadata": {},
     "output_type": "execute_result"
    }
   ],
   "source": [
    "df['longitude'] = df['longitude'].astype('float32')\n",
    "df['latitude'] = df['latitude'].astype('float32')\n",
    "df['ridership'] = df['ridership'].astype('int16')\n",
    "df.drop(columns=['station_complex', 'borough', 'transit_timestamp', 'longitude','latitude'])"
   ]
  },
  {
   "cell_type": "code",
   "execution_count": null,
   "metadata": {},
   "outputs": [],
   "source": [
    "\n",
    "# Sort the DataFrame by all columns except 'ridership'\n",
    "df = df.sort_values(by=['date', 'station_complex_id'])\n",
    "# Group by 'date', 'station_complex_id' and other relevant columns, then sum 'ridership'\n",
    "grouped_df = df.groupby(['date', 'station_complex_id'], as_index=False)['ridership'].agg()\n",
    "print(grouped_df.head())"
   ]
  },
  {
   "cell_type": "code",
   "execution_count": 81,
   "metadata": {},
   "outputs": [
    {
     "name": "stdout",
     "output_type": "stream",
     "text": [
      "144632\n"
     ]
    }
   ],
   "source": [
    "print(len(grouped_df))"
   ]
  }
 ],
 "metadata": {
  "kernelspec": {
   "display_name": "softwareeng",
   "language": "python",
   "name": "python3"
  },
  "language_info": {
   "codemirror_mode": {
    "name": "ipython",
    "version": 3
   },
   "file_extension": ".py",
   "mimetype": "text/x-python",
   "name": "python",
   "nbconvert_exporter": "python",
   "pygments_lexer": "ipython3",
   "version": "3.11.8"
  }
 },
 "nbformat": 4,
 "nbformat_minor": 2
}
