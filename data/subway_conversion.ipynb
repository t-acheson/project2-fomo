{
 "cells": [
  {
   "cell_type": "code",
   "execution_count": 1,
   "metadata": {},
   "outputs": [
    {
     "name": "stderr",
     "output_type": "stream",
     "text": [
      "C:\\Users\\Kevin\\AppData\\Local\\Temp\\ipykernel_10688\\3249109315.py:16: DtypeWarning: Columns (2) have mixed types. Specify dtype option on import or set low_memory=False.\n",
      "  for chunk in pd.read_csv(csv_file_path, chunksize=chunk_size):\n"
     ]
    }
   ],
   "source": [
    "import pandas as pd\n",
    "import pyarrow as pa\n",
    "import pyarrow.parquet as pq\n",
    "\n",
    "# Specify the path to your CSV file\n",
    "csv_file_path = 'c:/A/MTA_Subway_2022_24.csv'\n",
    "parquet_file_path = 'c:/A1/new_subway1.parquet'\n",
    "\n",
    "# Define the chunk size\n",
    "chunk_size = 100000  # Adjust the chunk size as needed\n",
    "\n",
    "# Initialize an empty list to hold the chunks\n",
    "chunks = []\n",
    "\n",
    "# Read the CSV file in chunks and perform some simple cleaning\n",
    "for chunk in pd.read_csv(csv_file_path, chunksize=chunk_size):\n",
    "    chunk = chunk.drop(columns=['payment_method', 'Georeference', 'transfers', 'transit_mode', 'fare_class_category',])\n",
    "    chunk['longitude'] = chunk['longitude'].astype('float32')\n",
    "    chunk['latitude'] = chunk['latitude'].astype('float32')\n",
    "    chunk['ridership'] = chunk['ridership'].astype('int16')\n",
    "    chunk['station_complex_id'] = chunk['station_complex_id'].astype(str).astype('category')\n",
    "    chunks.append(chunk)\n",
    "\n",
    "\n",
    "df = pd.concat(chunks, ignore_index=True)\n",
    "\n",
    "# Convert the DataFrame to a Parquet file\n",
    "df.to_parquet(parquet_file_path, engine='pyarrow', index=False)\n",
    "\n",
    "\n"
   ]
  }
 ],
 "metadata": {
  "kernelspec": {
   "display_name": "softwareeng",
   "language": "python",
   "name": "python3"
  },
  "language_info": {
   "codemirror_mode": {
    "name": "ipython",
    "version": 3
   },
   "file_extension": ".py",
   "mimetype": "text/x-python",
   "name": "python",
   "nbconvert_exporter": "python",
   "pygments_lexer": "ipython3",
   "version": "3.11.8"
  }
 },
 "nbformat": 4,
 "nbformat_minor": 2
}
