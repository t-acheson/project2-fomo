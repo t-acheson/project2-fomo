{
 "cells": [
  {
   "cell_type": "code",
   "execution_count": 1,
   "metadata": {},
   "outputs": [
    {
     "name": "stdout",
     "output_type": "stream",
     "text": [
      "<class 'pandas.core.frame.DataFrame'>\n",
      "RangeIndex: 58799739 entries, 0 to 58799738\n",
      "Data columns (total 7 columns):\n",
      " #   Column              Dtype  \n",
      "---  ------              -----  \n",
      " 0   transit_timestamp   object \n",
      " 1   station_complex_id  object \n",
      " 2   station_complex     object \n",
      " 3   borough             object \n",
      " 4   ridership           int16  \n",
      " 5   latitude            float32\n",
      " 6   longitude           float32\n",
      "dtypes: float32(2), int16(1), object(4)\n",
      "memory usage: 2.3+ GB\n"
     ]
    },
    {
     "data": {
      "text/html": [
       "<div>\n",
       "<style scoped>\n",
       "    .dataframe tbody tr th:only-of-type {\n",
       "        vertical-align: middle;\n",
       "    }\n",
       "\n",
       "    .dataframe tbody tr th {\n",
       "        vertical-align: top;\n",
       "    }\n",
       "\n",
       "    .dataframe thead th {\n",
       "        text-align: right;\n",
       "    }\n",
       "</style>\n",
       "<table border=\"1\" class=\"dataframe\">\n",
       "  <thead>\n",
       "    <tr style=\"text-align: right;\">\n",
       "      <th></th>\n",
       "      <th>transit_timestamp</th>\n",
       "      <th>station_complex_id</th>\n",
       "      <th>station_complex</th>\n",
       "      <th>borough</th>\n",
       "      <th>ridership</th>\n",
       "      <th>latitude</th>\n",
       "      <th>longitude</th>\n",
       "    </tr>\n",
       "  </thead>\n",
       "  <tbody>\n",
       "    <tr>\n",
       "      <th>0</th>\n",
       "      <td>06/09/2023 12:00:00 AM</td>\n",
       "      <td>359</td>\n",
       "      <td>Flatbush Av-Brooklyn College (2,5)</td>\n",
       "      <td>Brooklyn</td>\n",
       "      <td>4</td>\n",
       "      <td>40.632835</td>\n",
       "      <td>-73.947639</td>\n",
       "    </tr>\n",
       "    <tr>\n",
       "      <th>1</th>\n",
       "      <td>05/03/2023 12:00:00 PM</td>\n",
       "      <td>359</td>\n",
       "      <td>Flatbush Av-Brooklyn College (2,5)</td>\n",
       "      <td>Brooklyn</td>\n",
       "      <td>58</td>\n",
       "      <td>40.632835</td>\n",
       "      <td>-73.947639</td>\n",
       "    </tr>\n",
       "    <tr>\n",
       "      <th>2</th>\n",
       "      <td>08/20/2023 03:00:00 PM</td>\n",
       "      <td>359</td>\n",
       "      <td>Flatbush Av-Brooklyn College (2,5)</td>\n",
       "      <td>Brooklyn</td>\n",
       "      <td>12</td>\n",
       "      <td>40.632835</td>\n",
       "      <td>-73.947639</td>\n",
       "    </tr>\n",
       "    <tr>\n",
       "      <th>3</th>\n",
       "      <td>06/06/2023 11:00:00 PM</td>\n",
       "      <td>359</td>\n",
       "      <td>Flatbush Av-Brooklyn College (2,5)</td>\n",
       "      <td>Brooklyn</td>\n",
       "      <td>1</td>\n",
       "      <td>40.632835</td>\n",
       "      <td>-73.947639</td>\n",
       "    </tr>\n",
       "    <tr>\n",
       "      <th>4</th>\n",
       "      <td>08/10/2023 11:00:00 AM</td>\n",
       "      <td>359</td>\n",
       "      <td>Flatbush Av-Brooklyn College (2,5)</td>\n",
       "      <td>Brooklyn</td>\n",
       "      <td>14</td>\n",
       "      <td>40.632835</td>\n",
       "      <td>-73.947639</td>\n",
       "    </tr>\n",
       "  </tbody>\n",
       "</table>\n",
       "</div>"
      ],
      "text/plain": [
       "        transit_timestamp station_complex_id  \\\n",
       "0  06/09/2023 12:00:00 AM                359   \n",
       "1  05/03/2023 12:00:00 PM                359   \n",
       "2  08/20/2023 03:00:00 PM                359   \n",
       "3  06/06/2023 11:00:00 PM                359   \n",
       "4  08/10/2023 11:00:00 AM                359   \n",
       "\n",
       "                      station_complex   borough  ridership   latitude  \\\n",
       "0  Flatbush Av-Brooklyn College (2,5)  Brooklyn          4  40.632835   \n",
       "1  Flatbush Av-Brooklyn College (2,5)  Brooklyn         58  40.632835   \n",
       "2  Flatbush Av-Brooklyn College (2,5)  Brooklyn         12  40.632835   \n",
       "3  Flatbush Av-Brooklyn College (2,5)  Brooklyn          1  40.632835   \n",
       "4  Flatbush Av-Brooklyn College (2,5)  Brooklyn         14  40.632835   \n",
       "\n",
       "   longitude  \n",
       "0 -73.947639  \n",
       "1 -73.947639  \n",
       "2 -73.947639  \n",
       "3 -73.947639  \n",
       "4 -73.947639  "
      ]
     },
     "execution_count": 1,
     "metadata": {},
     "output_type": "execute_result"
    }
   ],
   "source": [
    "import pandas as pd\n",
    "\n",
    "df = pd.read_parquet('c:/A1/new_subway1.parquet')\n",
    "df.info()\n",
    "df.head()"
   ]
  },
  {
   "cell_type": "code",
   "execution_count": 2,
   "metadata": {},
   "outputs": [
    {
     "name": "stdout",
     "output_type": "stream",
     "text": [
      "transit_timestamp       object\n",
      "station_complex_id    category\n",
      "station_complex       category\n",
      "borough               category\n",
      "ridership                int16\n",
      "latitude               float32\n",
      "longitude              float32\n",
      "dtype: object\n"
     ]
    }
   ],
   "source": [
    "# Convert object types to category\n",
    "for col in df.select_dtypes(include=['object']).columns:\n",
    "    if col!='transit_timestamp':\n",
    "        df[col] = df[col].astype('category')\n",
    "\n",
    "# Check the data types to confirm changes\n",
    "print(df.dtypes)"
   ]
  },
  {
   "cell_type": "code",
   "execution_count": 3,
   "metadata": {},
   "outputs": [
    {
     "name": "stdout",
     "output_type": "stream",
     "text": [
      "<class 'pandas.core.frame.DataFrame'>\n",
      "RangeIndex: 58799739 entries, 0 to 58799738\n",
      "Data columns (total 5 columns):\n",
      " #   Column              Dtype   \n",
      "---  ------              -----   \n",
      " 0   transit_timestamp   category\n",
      " 1   station_complex_id  category\n",
      " 2   ridership           int16   \n",
      " 3   latitude            float32 \n",
      " 4   longitude           float32 \n",
      "dtypes: category(2), float32(2), int16(1)\n",
      "memory usage: 785.7 MB\n"
     ]
    }
   ],
   "source": [
    "df['transit_timestamp'] = df['transit_timestamp'].astype('category')\n",
    "df.drop(columns=['borough', 'station_complex'], inplace=True)\n",
    "df.head()\n",
    "df.info()"
   ]
  },
  {
   "cell_type": "code",
   "execution_count": 5,
   "metadata": {},
   "outputs": [
    {
     "name": "stdout",
     "output_type": "stream",
     "text": [
      "58799739\n"
     ]
    }
   ],
   "source": [
    "print(len(df))"
   ]
  },
  {
   "cell_type": "code",
   "execution_count": 4,
   "metadata": {},
   "outputs": [
    {
     "name": "stdout",
     "output_type": "stream",
     "text": [
      "transit_timestamp\n",
      "05/29/2024 08:00:00 AM    3705\n",
      "05/15/2024 08:00:00 AM    3704\n",
      "03/20/2024 08:00:00 AM    3696\n",
      "05/28/2024 08:00:00 AM    3696\n",
      "05/01/2024 08:00:00 AM    3695\n",
      "                          ... \n",
      "12/31/2022 11:00:00 PM       9\n",
      "12/31/2022 01:00:00 AM       8\n",
      "12/31/2022 07:00:00 AM       8\n",
      "12/31/2022 05:00:00 AM       4\n",
      "12/31/2022 02:00:00 AM       2\n",
      "Name: count, Length: 20395, dtype: int64\n"
     ]
    }
   ],
   "source": [
    "df.head()\n",
    "print(df['transit_timestamp'].value_counts())"
   ]
  },
  {
   "cell_type": "code",
   "execution_count": 5,
   "metadata": {},
   "outputs": [
    {
     "data": {
      "text/html": [
       "<div>\n",
       "<style scoped>\n",
       "    .dataframe tbody tr th:only-of-type {\n",
       "        vertical-align: middle;\n",
       "    }\n",
       "\n",
       "    .dataframe tbody tr th {\n",
       "        vertical-align: top;\n",
       "    }\n",
       "\n",
       "    .dataframe thead th {\n",
       "        text-align: right;\n",
       "    }\n",
       "</style>\n",
       "<table border=\"1\" class=\"dataframe\">\n",
       "  <thead>\n",
       "    <tr style=\"text-align: right;\">\n",
       "      <th></th>\n",
       "      <th>transit_timestamp</th>\n",
       "      <th>station_complex_id</th>\n",
       "      <th>ridership</th>\n",
       "      <th>latitude</th>\n",
       "      <th>longitude</th>\n",
       "    </tr>\n",
       "  </thead>\n",
       "  <tbody>\n",
       "    <tr>\n",
       "      <th>58799734</th>\n",
       "      <td>05/13/2023 04:00:00 PM</td>\n",
       "      <td>359</td>\n",
       "      <td>3</td>\n",
       "      <td>40.632835</td>\n",
       "      <td>-73.947639</td>\n",
       "    </tr>\n",
       "    <tr>\n",
       "      <th>58799735</th>\n",
       "      <td>03/27/2023 03:00:00 AM</td>\n",
       "      <td>359</td>\n",
       "      <td>1</td>\n",
       "      <td>40.632835</td>\n",
       "      <td>-73.947639</td>\n",
       "    </tr>\n",
       "    <tr>\n",
       "      <th>58799736</th>\n",
       "      <td>01/27/2023 01:00:00 AM</td>\n",
       "      <td>359</td>\n",
       "      <td>1</td>\n",
       "      <td>40.632835</td>\n",
       "      <td>-73.947639</td>\n",
       "    </tr>\n",
       "    <tr>\n",
       "      <th>58799737</th>\n",
       "      <td>05/29/2023 07:00:00 PM</td>\n",
       "      <td>359</td>\n",
       "      <td>7</td>\n",
       "      <td>40.632835</td>\n",
       "      <td>-73.947639</td>\n",
       "    </tr>\n",
       "    <tr>\n",
       "      <th>58799738</th>\n",
       "      <td>01/17/2023 06:00:00 AM</td>\n",
       "      <td>359</td>\n",
       "      <td>65</td>\n",
       "      <td>40.632835</td>\n",
       "      <td>-73.947639</td>\n",
       "    </tr>\n",
       "  </tbody>\n",
       "</table>\n",
       "</div>"
      ],
      "text/plain": [
       "               transit_timestamp station_complex_id  ridership   latitude  \\\n",
       "58799734  05/13/2023 04:00:00 PM                359          3  40.632835   \n",
       "58799735  03/27/2023 03:00:00 AM                359          1  40.632835   \n",
       "58799736  01/27/2023 01:00:00 AM                359          1  40.632835   \n",
       "58799737  05/29/2023 07:00:00 PM                359          7  40.632835   \n",
       "58799738  01/17/2023 06:00:00 AM                359         65  40.632835   \n",
       "\n",
       "          longitude  \n",
       "58799734 -73.947639  \n",
       "58799735 -73.947639  \n",
       "58799736 -73.947639  \n",
       "58799737 -73.947639  \n",
       "58799738 -73.947639  "
      ]
     },
     "execution_count": 5,
     "metadata": {},
     "output_type": "execute_result"
    }
   ],
   "source": [
    "df.tail()"
   ]
  },
  {
   "cell_type": "code",
   "execution_count": 6,
   "metadata": {},
   "outputs": [],
   "source": [
    "df.drop(columns=['latitude', 'longitude'], inplace=True)"
   ]
  },
  {
   "cell_type": "code",
   "execution_count": 7,
   "metadata": {},
   "outputs": [
    {
     "name": "stderr",
     "output_type": "stream",
     "text": [
      "C:\\Users\\Kevin\\AppData\\Local\\Temp\\ipykernel_15544\\2793718700.py:1: FutureWarning: The default of observed=False is deprecated and will be changed to True in a future version of pandas. Pass observed=False to retain current behavior or observed=True to adopt the future default and silence this warning.\n",
      "  new = df.groupby(['transit_timestamp', 'station_complex_id'], as_index=False)['ridership'].sum()\n"
     ]
    }
   ],
   "source": [
    "new = df.groupby(['transit_timestamp', 'station_complex_id'], as_index=False)['ridership'].sum()"
   ]
  },
  {
   "cell_type": "code",
   "execution_count": 8,
   "metadata": {},
   "outputs": [
    {
     "name": "stdout",
     "output_type": "stream",
     "text": [
      "<class 'pandas.core.frame.DataFrame'>\n",
      "RangeIndex: 58799739 entries, 0 to 58799738\n",
      "Data columns (total 3 columns):\n",
      " #   Column              Dtype   \n",
      "---  ------              -----   \n",
      " 0   transit_timestamp   category\n",
      " 1   station_complex_id  category\n",
      " 2   ridership           int16   \n",
      "dtypes: category(2), int16(1)\n",
      "memory usage: 337.1 MB\n",
      "8729060\n"
     ]
    }
   ],
   "source": [
    "df.head(\n",
    ")\n",
    "df.info()\n",
    "print(len(new))"
   ]
  },
  {
   "cell_type": "code",
   "execution_count": 9,
   "metadata": {},
   "outputs": [
    {
     "data": {
      "text/html": [
       "<div>\n",
       "<style scoped>\n",
       "    .dataframe tbody tr th:only-of-type {\n",
       "        vertical-align: middle;\n",
       "    }\n",
       "\n",
       "    .dataframe tbody tr th {\n",
       "        vertical-align: top;\n",
       "    }\n",
       "\n",
       "    .dataframe thead th {\n",
       "        text-align: right;\n",
       "    }\n",
       "</style>\n",
       "<table border=\"1\" class=\"dataframe\">\n",
       "  <thead>\n",
       "    <tr style=\"text-align: right;\">\n",
       "      <th></th>\n",
       "      <th>transit_timestamp</th>\n",
       "      <th>station_complex_id</th>\n",
       "      <th>ridership</th>\n",
       "    </tr>\n",
       "  </thead>\n",
       "  <tbody>\n",
       "    <tr>\n",
       "      <th>0</th>\n",
       "      <td>01/01/2023 01:00:00 AM</td>\n",
       "      <td>1</td>\n",
       "      <td>52</td>\n",
       "    </tr>\n",
       "    <tr>\n",
       "      <th>1</th>\n",
       "      <td>01/01/2023 01:00:00 AM</td>\n",
       "      <td>10</td>\n",
       "      <td>95</td>\n",
       "    </tr>\n",
       "    <tr>\n",
       "      <th>2</th>\n",
       "      <td>01/01/2023 01:00:00 AM</td>\n",
       "      <td>100</td>\n",
       "      <td>52</td>\n",
       "    </tr>\n",
       "    <tr>\n",
       "      <th>3</th>\n",
       "      <td>01/01/2023 01:00:00 AM</td>\n",
       "      <td>101</td>\n",
       "      <td>249</td>\n",
       "    </tr>\n",
       "    <tr>\n",
       "      <th>4</th>\n",
       "      <td>01/01/2023 01:00:00 AM</td>\n",
       "      <td>103</td>\n",
       "      <td>394</td>\n",
       "    </tr>\n",
       "  </tbody>\n",
       "</table>\n",
       "</div>"
      ],
      "text/plain": [
       "        transit_timestamp station_complex_id  ridership\n",
       "0  01/01/2023 01:00:00 AM                  1         52\n",
       "1  01/01/2023 01:00:00 AM                 10         95\n",
       "2  01/01/2023 01:00:00 AM                100         52\n",
       "3  01/01/2023 01:00:00 AM                101        249\n",
       "4  01/01/2023 01:00:00 AM                103        394"
      ]
     },
     "execution_count": 9,
     "metadata": {},
     "output_type": "execute_result"
    }
   ],
   "source": [
    "new.head()"
   ]
  },
  {
   "cell_type": "code",
   "execution_count": 1,
   "metadata": {},
   "outputs": [],
   "source": [
    "import pandas as pd\n",
    "df = pd.read_parquet('c:/A1/ready_subway.parquet')"
   ]
  },
  {
   "cell_type": "code",
   "execution_count": 10,
   "metadata": {},
   "outputs": [
    {
     "data": {
      "text/html": [
       "<div>\n",
       "<style scoped>\n",
       "    .dataframe tbody tr th:only-of-type {\n",
       "        vertical-align: middle;\n",
       "    }\n",
       "\n",
       "    .dataframe tbody tr th {\n",
       "        vertical-align: top;\n",
       "    }\n",
       "\n",
       "    .dataframe thead th {\n",
       "        text-align: right;\n",
       "    }\n",
       "</style>\n",
       "<table border=\"1\" class=\"dataframe\">\n",
       "  <thead>\n",
       "    <tr style=\"text-align: right;\">\n",
       "      <th></th>\n",
       "      <th>transit_timestamp</th>\n",
       "      <th>station_complex_id</th>\n",
       "      <th>ridership</th>\n",
       "    </tr>\n",
       "  </thead>\n",
       "  <tbody>\n",
       "    <tr>\n",
       "      <th>8729055</th>\n",
       "      <td>12/31/2023 12:00:00 PM</td>\n",
       "      <td>97</td>\n",
       "      <td>304</td>\n",
       "    </tr>\n",
       "    <tr>\n",
       "      <th>8729056</th>\n",
       "      <td>12/31/2023 12:00:00 PM</td>\n",
       "      <td>98</td>\n",
       "      <td>127</td>\n",
       "    </tr>\n",
       "    <tr>\n",
       "      <th>8729057</th>\n",
       "      <td>12/31/2023 12:00:00 PM</td>\n",
       "      <td>99</td>\n",
       "      <td>92</td>\n",
       "    </tr>\n",
       "    <tr>\n",
       "      <th>8729058</th>\n",
       "      <td>12/31/2023 12:00:00 PM</td>\n",
       "      <td>TRAM1</td>\n",
       "      <td>536</td>\n",
       "    </tr>\n",
       "    <tr>\n",
       "      <th>8729059</th>\n",
       "      <td>12/31/2023 12:00:00 PM</td>\n",
       "      <td>TRAM2</td>\n",
       "      <td>477</td>\n",
       "    </tr>\n",
       "  </tbody>\n",
       "</table>\n",
       "</div>"
      ],
      "text/plain": [
       "              transit_timestamp station_complex_id  ridership\n",
       "8729055  12/31/2023 12:00:00 PM                 97        304\n",
       "8729056  12/31/2023 12:00:00 PM                 98        127\n",
       "8729057  12/31/2023 12:00:00 PM                 99         92\n",
       "8729058  12/31/2023 12:00:00 PM              TRAM1        536\n",
       "8729059  12/31/2023 12:00:00 PM              TRAM2        477"
      ]
     },
     "execution_count": 10,
     "metadata": {},
     "output_type": "execute_result"
    }
   ],
   "source": [
    "new.tail()"
   ]
  },
  {
   "cell_type": "code",
   "execution_count": 17,
   "metadata": {},
   "outputs": [],
   "source": [
    "subway = pd.read_csv('c:/A3/MTA_Subway_Stations.csv', usecols=['Complex ID', 'GTFS Longitude', 'GTFS Latitude'])\n",
    "subway = subway.rename(columns={\n",
    "    'Complex ID': 'station_complex_id',\n",
    "    'GTFS Longitude': 'longitude',\n",
    "    'GTFS Latitude': 'latitude'\n",
    "})\n",
    "subway['station_complex_id'] = subway['station_complex_id'].astype(str)"
   ]
  },
  {
   "cell_type": "code",
   "execution_count": 34,
   "metadata": {},
   "outputs": [
    {
     "data": {
      "text/plain": [
       "transit_timestamp     20395\n",
       "station_complex_id      426\n",
       "ridership             11800\n",
       "latitude                473\n",
       "longitude               473\n",
       "dtype: int64"
      ]
     },
     "execution_count": 34,
     "metadata": {},
     "output_type": "execute_result"
    }
   ],
   "source": [
    "new.nunique()"
   ]
  },
  {
   "cell_type": "code",
   "execution_count": 18,
   "metadata": {},
   "outputs": [
    {
     "data": {
      "text/html": [
       "<div>\n",
       "<style scoped>\n",
       "    .dataframe tbody tr th:only-of-type {\n",
       "        vertical-align: middle;\n",
       "    }\n",
       "\n",
       "    .dataframe tbody tr th {\n",
       "        vertical-align: top;\n",
       "    }\n",
       "\n",
       "    .dataframe thead th {\n",
       "        text-align: right;\n",
       "    }\n",
       "</style>\n",
       "<table border=\"1\" class=\"dataframe\">\n",
       "  <thead>\n",
       "    <tr style=\"text-align: right;\">\n",
       "      <th></th>\n",
       "      <th>transit_timestamp</th>\n",
       "      <th>station_complex_id</th>\n",
       "      <th>ridership</th>\n",
       "    </tr>\n",
       "  </thead>\n",
       "  <tbody>\n",
       "    <tr>\n",
       "      <th>0</th>\n",
       "      <td>06/09/2023 12:00:00 AM</td>\n",
       "      <td>359</td>\n",
       "      <td>4</td>\n",
       "    </tr>\n",
       "    <tr>\n",
       "      <th>1</th>\n",
       "      <td>05/03/2023 12:00:00 PM</td>\n",
       "      <td>359</td>\n",
       "      <td>58</td>\n",
       "    </tr>\n",
       "    <tr>\n",
       "      <th>2</th>\n",
       "      <td>08/20/2023 03:00:00 PM</td>\n",
       "      <td>359</td>\n",
       "      <td>12</td>\n",
       "    </tr>\n",
       "    <tr>\n",
       "      <th>3</th>\n",
       "      <td>06/06/2023 11:00:00 PM</td>\n",
       "      <td>359</td>\n",
       "      <td>1</td>\n",
       "    </tr>\n",
       "    <tr>\n",
       "      <th>4</th>\n",
       "      <td>08/10/2023 11:00:00 AM</td>\n",
       "      <td>359</td>\n",
       "      <td>14</td>\n",
       "    </tr>\n",
       "  </tbody>\n",
       "</table>\n",
       "</div>"
      ],
      "text/plain": [
       "        transit_timestamp station_complex_id  ridership\n",
       "0  06/09/2023 12:00:00 AM                359          4\n",
       "1  05/03/2023 12:00:00 PM                359         58\n",
       "2  08/20/2023 03:00:00 PM                359         12\n",
       "3  06/06/2023 11:00:00 PM                359          1\n",
       "4  08/10/2023 11:00:00 AM                359         14"
      ]
     },
     "execution_count": 18,
     "metadata": {},
     "output_type": "execute_result"
    }
   ],
   "source": [
    "new = new.merge(subway, on='station_complex_id', how='left')"
   ]
  },
  {
   "cell_type": "code",
   "execution_count": 29,
   "metadata": {},
   "outputs": [
    {
     "name": "stdout",
     "output_type": "stream",
     "text": [
      "              transit_timestamp station_complex_id  ridership   latitude  \\\n",
      "9769175  12/31/2023 12:00:00 PM                 72        188  40.631386   \n",
      "9769176  12/31/2023 12:00:00 PM                 74        161  40.620671   \n",
      "9769177  12/31/2023 12:00:00 PM                 75         84  40.617410   \n",
      "9769178  12/31/2023 12:00:00 PM                 76        217  40.611815   \n",
      "9769179  12/31/2023 12:00:00 PM                 77        125  40.603923   \n",
      "9769180  12/31/2023 12:00:00 PM                 78        124  40.597473   \n",
      "9769181  12/31/2023 12:00:00 PM                 79         49  40.592721   \n",
      "9769182  12/31/2023 12:00:00 PM                  8        506  40.764811   \n",
      "9769183  12/31/2023 12:00:00 PM                 80         30  40.700492   \n",
      "9769184  12/31/2023 12:00:00 PM                 81         51  40.697418   \n",
      "9769185  12/31/2023 12:00:00 PM                 82         59  40.695178   \n",
      "9769186  12/31/2023 12:00:00 PM                 83         44  40.693879   \n",
      "9769187  12/31/2023 12:00:00 PM                 84         80  40.692435   \n",
      "9769188  12/31/2023 12:00:00 PM                 85         34  40.691324   \n",
      "9769189  12/31/2023 12:00:00 PM                 86         35  40.689941   \n",
      "9769190  12/31/2023 12:00:00 PM                 87         85  40.683194   \n",
      "9769191  12/31/2023 12:00:00 PM                 88         51  40.681410   \n",
      "9769192  12/31/2023 12:00:00 PM                 89         39  40.679947   \n",
      "9769193  12/31/2023 12:00:00 PM                  9        889  40.764664   \n",
      "9769194  12/31/2023 12:00:00 PM                 90         62  40.678024   \n",
      "9769195  12/31/2023 12:00:00 PM                 91         26  40.676992   \n",
      "9769196  12/31/2023 12:00:00 PM                 93         63  40.682893   \n",
      "9769197  12/31/2023 12:00:00 PM                 94        181  40.686370   \n",
      "9769198  12/31/2023 12:00:00 PM                 95        184  40.689630   \n",
      "9769199  12/31/2023 12:00:00 PM                 96        158  40.693342   \n",
      "9769200  12/31/2023 12:00:00 PM                 97        304  40.697207   \n",
      "9769201  12/31/2023 12:00:00 PM                 98        127  40.700260   \n",
      "9769202  12/31/2023 12:00:00 PM                 99         92  40.703869   \n",
      "9769203  12/31/2023 12:00:00 PM              TRAM1        536        NaN   \n",
      "9769204  12/31/2023 12:00:00 PM              TRAM2        477        NaN   \n",
      "\n",
      "         longitude  \n",
      "9769175 -74.005351  \n",
      "9769176 -73.990414  \n",
      "9769177 -73.985026  \n",
      "9769178 -73.981848  \n",
      "9769179 -73.980353  \n",
      "9769180 -73.979137  \n",
      "9769181 -73.978230  \n",
      "9769182 -73.973347  \n",
      "9769183 -73.828294  \n",
      "9769184 -73.836345  \n",
      "9769185 -73.844330  \n",
      "9769186 -73.851576  \n",
      "9769187 -73.860010  \n",
      "9769188 -73.867139  \n",
      "9769189 -73.872550  \n",
      "9769190 -73.873785  \n",
      "9769191 -73.880039  \n",
      "9769192 -73.884639  \n",
      "9769193 -73.980658  \n",
      "9769194 -73.891688  \n",
      "9769195 -73.898654  \n",
      "9769196 -73.910456  \n",
      "9769197 -73.916559  \n",
      "9769198 -73.922270  \n",
      "9769199 -73.928814  \n",
      "9769200 -73.935657  \n",
      "9769201 -73.941126  \n",
      "9769202 -73.947408  \n",
      "9769203        NaN  \n",
      "9769204        NaN  \n"
     ]
    }
   ],
   "source": [
    "\n",
    "print(new.tail(30))"
   ]
  },
  {
   "cell_type": "code",
   "execution_count": 36,
   "metadata": {},
   "outputs": [],
   "source": [
    "new.drop(columns=['station_complex_id'], inplace=True)"
   ]
  },
  {
   "cell_type": "code",
   "execution_count": 37,
   "metadata": {},
   "outputs": [],
   "source": [
    "datetime_format = '%m/%d/%Y %I:%M:%S %p'\n",
    "new['transit_timestamp'] = pd.to_datetime(new['transit_timestamp'], format=datetime_format)"
   ]
  },
  {
   "cell_type": "code",
   "execution_count": 40,
   "metadata": {},
   "outputs": [],
   "source": [
    "new['transit_timestamp'] = pd.to_datetime(new['transit_timestamp'])"
   ]
  },
  {
   "cell_type": "code",
   "execution_count": 45,
   "metadata": {},
   "outputs": [
    {
     "name": "stdout",
     "output_type": "stream",
     "text": [
      "<class 'pandas.core.frame.DataFrame'>\n",
      "Index: 9728415 entries, 0 to 9769202\n",
      "Data columns (total 4 columns):\n",
      " #   Column             Dtype   \n",
      "---  ------             -----   \n",
      " 0   transit_timestamp  category\n",
      " 1   ridership          int16   \n",
      " 2   latitude           float64 \n",
      " 3   longitude          float64 \n",
      "dtypes: category(1), float64(2), int16(1)\n",
      "memory usage: 260.4 MB\n"
     ]
    }
   ],
   "source": [
    "new.info()"
   ]
  },
  {
   "cell_type": "code",
   "execution_count": 47,
   "metadata": {},
   "outputs": [
    {
     "data": {
      "text/html": [
       "<div>\n",
       "<style scoped>\n",
       "    .dataframe tbody tr th:only-of-type {\n",
       "        vertical-align: middle;\n",
       "    }\n",
       "\n",
       "    .dataframe tbody tr th {\n",
       "        vertical-align: top;\n",
       "    }\n",
       "\n",
       "    .dataframe thead th {\n",
       "        text-align: right;\n",
       "    }\n",
       "</style>\n",
       "<table border=\"1\" class=\"dataframe\">\n",
       "  <thead>\n",
       "    <tr style=\"text-align: right;\">\n",
       "      <th></th>\n",
       "      <th>transit_timestamp</th>\n",
       "      <th>ridership</th>\n",
       "      <th>latitude</th>\n",
       "      <th>longitude</th>\n",
       "    </tr>\n",
       "  </thead>\n",
       "  <tbody>\n",
       "    <tr>\n",
       "      <th>0</th>\n",
       "      <td>2023-01-01 01:00:00</td>\n",
       "      <td>52</td>\n",
       "      <td>40.775036</td>\n",
       "      <td>-73.912034</td>\n",
       "    </tr>\n",
       "    <tr>\n",
       "      <th>1</th>\n",
       "      <td>2023-01-01 01:00:00</td>\n",
       "      <td>95</td>\n",
       "      <td>40.759901</td>\n",
       "      <td>-73.984139</td>\n",
       "    </tr>\n",
       "    <tr>\n",
       "      <th>2</th>\n",
       "      <td>2023-01-01 01:00:00</td>\n",
       "      <td>52</td>\n",
       "      <td>40.706870</td>\n",
       "      <td>-73.953431</td>\n",
       "    </tr>\n",
       "    <tr>\n",
       "      <th>3</th>\n",
       "      <td>2023-01-01 01:00:00</td>\n",
       "      <td>249</td>\n",
       "      <td>40.708359</td>\n",
       "      <td>-73.957757</td>\n",
       "    </tr>\n",
       "    <tr>\n",
       "      <th>4</th>\n",
       "      <td>2023-01-01 01:00:00</td>\n",
       "      <td>394</td>\n",
       "      <td>40.720280</td>\n",
       "      <td>-73.993915</td>\n",
       "    </tr>\n",
       "  </tbody>\n",
       "</table>\n",
       "</div>"
      ],
      "text/plain": [
       "    transit_timestamp  ridership   latitude  longitude\n",
       "0 2023-01-01 01:00:00         52  40.775036 -73.912034\n",
       "1 2023-01-01 01:00:00         95  40.759901 -73.984139\n",
       "2 2023-01-01 01:00:00         52  40.706870 -73.953431\n",
       "3 2023-01-01 01:00:00        249  40.708359 -73.957757\n",
       "4 2023-01-01 01:00:00        394  40.720280 -73.993915"
      ]
     },
     "execution_count": 47,
     "metadata": {},
     "output_type": "execute_result"
    }
   ],
   "source": [
    "new.head()"
   ]
  },
  {
   "cell_type": "code",
   "execution_count": 48,
   "metadata": {},
   "outputs": [],
   "source": [
    "new.to_parquet('c:/fomo_data/subway_final3.parquet')"
   ]
  },
  {
   "cell_type": "code",
   "execution_count": 30,
   "metadata": {},
   "outputs": [
    {
     "name": "stdout",
     "output_type": "stream",
     "text": [
      "9728415\n"
     ]
    }
   ],
   "source": [
    "new = new.dropna()\n",
    "print(len(new))"
   ]
  },
  {
   "cell_type": "code",
   "execution_count": 10,
   "metadata": {},
   "outputs": [
    {
     "name": "stdout",
     "output_type": "stream",
     "text": [
      "          id name  objectid rt_symbol    shape_len  \\\n",
      "0  2000393.0    G     753.0         G  2438.200249   \n",
      "1  2000394.0    G     754.0         G  3872.834411   \n",
      "2  2000469.0    Q     755.0         N  1843.366331   \n",
      "3  2000294.0    M     756.0         B  1919.559203   \n",
      "4  2000296.0    M     757.0         B  2385.698536   \n",
      "\n",
      "                                 url  \\\n",
      "0  http://web.mta.info/nyct/service/   \n",
      "1  http://web.mta.info/nyct/service/   \n",
      "2  http://web.mta.info/nyct/service/   \n",
      "3  http://web.mta.info/nyct/service/   \n",
      "4  http://web.mta.info/nyct/service/   \n",
      "\n",
      "                                            geometry  \n",
      "0  LINESTRING (-73.99488 40.68020, -73.99427 40.6...  \n",
      "1  LINESTRING (-73.97958 40.65993, -73.97966 40.6...  \n",
      "2  LINESTRING (-73.97586 40.57597, -73.97654 40.5...  \n",
      "3  LINESTRING (-73.92414 40.75229, -73.92405 40.7...  \n",
      "4  LINESTRING (-73.91345 40.75617, -73.90905 40.7...  \n"
     ]
    },
    {
     "ename": "KeyError",
     "evalue": "\"None of [Index(['', 'longitude', 'latitude'], dtype='object')] are in the [columns]\"",
     "output_type": "error",
     "traceback": [
      "\u001b[1;31m---------------------------------------------------------------------------\u001b[0m",
      "\u001b[1;31mKeyError\u001b[0m                                  Traceback (most recent call last)",
      "Cell \u001b[1;32mIn[10], line 7\u001b[0m\n\u001b[0;32m      5\u001b[0m location_coords_gdf \u001b[38;5;241m=\u001b[39m gpd\u001b[38;5;241m.\u001b[39mread_file(\u001b[38;5;124m'\u001b[39m\u001b[38;5;124mc:/A3/subway.shp\u001b[39m\u001b[38;5;124m'\u001b[39m)\n\u001b[0;32m      6\u001b[0m \u001b[38;5;28mprint\u001b[39m(location_coords_gdf\u001b[38;5;241m.\u001b[39mhead())\n\u001b[1;32m----> 7\u001b[0m subway \u001b[38;5;241m=\u001b[39m \u001b[43mlocation_coords_gdf\u001b[49m\u001b[43m[\u001b[49m\u001b[43m[\u001b[49m\u001b[38;5;124;43m'\u001b[39;49m\u001b[38;5;124;43m'\u001b[39;49m\u001b[43m,\u001b[49m\u001b[43m \u001b[49m\u001b[38;5;124;43m'\u001b[39;49m\u001b[38;5;124;43mlongitude\u001b[39;49m\u001b[38;5;124;43m'\u001b[39;49m\u001b[43m,\u001b[49m\u001b[43m \u001b[49m\u001b[38;5;124;43m'\u001b[39;49m\u001b[38;5;124;43mlatitude\u001b[39;49m\u001b[38;5;124;43m'\u001b[39;49m\u001b[43m]\u001b[49m\u001b[43m]\u001b[49m\n\u001b[0;32m      9\u001b[0m grouped_with_coords \u001b[38;5;241m=\u001b[39m pd\u001b[38;5;241m.\u001b[39mmerge(df, subway, on\u001b[38;5;241m=\u001b[39m\u001b[38;5;124m'\u001b[39m\u001b[38;5;124mstation_complex_id\u001b[39m\u001b[38;5;124m'\u001b[39m, how\u001b[38;5;241m=\u001b[39m\u001b[38;5;124m'\u001b[39m\u001b[38;5;124mleft\u001b[39m\u001b[38;5;124m'\u001b[39m)\n\u001b[0;32m     11\u001b[0m grouped_with_coords[\u001b[38;5;124m'\u001b[39m\u001b[38;5;124mgeometry\u001b[39m\u001b[38;5;124m'\u001b[39m] \u001b[38;5;241m=\u001b[39m grouped_with_coords\u001b[38;5;241m.\u001b[39mapply(\u001b[38;5;28;01mlambda\u001b[39;00m row: Point(row[\u001b[38;5;124m'\u001b[39m\u001b[38;5;124mlongitude\u001b[39m\u001b[38;5;124m'\u001b[39m], row[\u001b[38;5;124m'\u001b[39m\u001b[38;5;124mlatitude\u001b[39m\u001b[38;5;124m'\u001b[39m]), axis\u001b[38;5;241m=\u001b[39m\u001b[38;5;241m1\u001b[39m)\n",
      "File \u001b[1;32mc:\\Users\\Kevin\\anaconda3\\envs\\softwareeng\\Lib\\site-packages\\geopandas\\geodataframe.py:1459\u001b[0m, in \u001b[0;36mGeoDataFrame.__getitem__\u001b[1;34m(self, key)\u001b[0m\n\u001b[0;32m   1453\u001b[0m \u001b[38;5;28;01mdef\u001b[39;00m \u001b[38;5;21m__getitem__\u001b[39m(\u001b[38;5;28mself\u001b[39m, key):\n\u001b[0;32m   1454\u001b[0m \u001b[38;5;250m    \u001b[39m\u001b[38;5;124;03m\"\"\"\u001b[39;00m\n\u001b[0;32m   1455\u001b[0m \u001b[38;5;124;03m    If the result is a column containing only 'geometry', return a\u001b[39;00m\n\u001b[0;32m   1456\u001b[0m \u001b[38;5;124;03m    GeoSeries. If it's a DataFrame with any columns of GeometryDtype,\u001b[39;00m\n\u001b[0;32m   1457\u001b[0m \u001b[38;5;124;03m    return a GeoDataFrame.\u001b[39;00m\n\u001b[0;32m   1458\u001b[0m \u001b[38;5;124;03m    \"\"\"\u001b[39;00m\n\u001b[1;32m-> 1459\u001b[0m     result \u001b[38;5;241m=\u001b[39m \u001b[38;5;28;43msuper\u001b[39;49m\u001b[43m(\u001b[49m\u001b[43m)\u001b[49m\u001b[38;5;241;43m.\u001b[39;49m\u001b[38;5;21;43m__getitem__\u001b[39;49m\u001b[43m(\u001b[49m\u001b[43mkey\u001b[49m\u001b[43m)\u001b[49m\n\u001b[0;32m   1460\u001b[0m     \u001b[38;5;66;03m# Custom logic to avoid waiting for pandas GH51895\u001b[39;00m\n\u001b[0;32m   1461\u001b[0m     \u001b[38;5;66;03m# result is not geometry dtype for multi-indexes\u001b[39;00m\n\u001b[0;32m   1462\u001b[0m     \u001b[38;5;28;01mif\u001b[39;00m (\n\u001b[0;32m   1463\u001b[0m         pd\u001b[38;5;241m.\u001b[39mapi\u001b[38;5;241m.\u001b[39mtypes\u001b[38;5;241m.\u001b[39mis_scalar(key)\n\u001b[0;32m   1464\u001b[0m         \u001b[38;5;129;01mand\u001b[39;00m key \u001b[38;5;241m==\u001b[39m \u001b[38;5;124m\"\u001b[39m\u001b[38;5;124m\"\u001b[39m\n\u001b[1;32m   (...)\u001b[0m\n\u001b[0;32m   1467\u001b[0m         \u001b[38;5;129;01mand\u001b[39;00m \u001b[38;5;129;01mnot\u001b[39;00m is_geometry_type(result)\n\u001b[0;32m   1468\u001b[0m     ):\n",
      "File \u001b[1;32mc:\\Users\\Kevin\\anaconda3\\envs\\softwareeng\\Lib\\site-packages\\pandas\\core\\frame.py:4096\u001b[0m, in \u001b[0;36mDataFrame.__getitem__\u001b[1;34m(self, key)\u001b[0m\n\u001b[0;32m   4094\u001b[0m     \u001b[38;5;28;01mif\u001b[39;00m is_iterator(key):\n\u001b[0;32m   4095\u001b[0m         key \u001b[38;5;241m=\u001b[39m \u001b[38;5;28mlist\u001b[39m(key)\n\u001b[1;32m-> 4096\u001b[0m     indexer \u001b[38;5;241m=\u001b[39m \u001b[38;5;28;43mself\u001b[39;49m\u001b[38;5;241;43m.\u001b[39;49m\u001b[43mcolumns\u001b[49m\u001b[38;5;241;43m.\u001b[39;49m\u001b[43m_get_indexer_strict\u001b[49m\u001b[43m(\u001b[49m\u001b[43mkey\u001b[49m\u001b[43m,\u001b[49m\u001b[43m \u001b[49m\u001b[38;5;124;43m\"\u001b[39;49m\u001b[38;5;124;43mcolumns\u001b[39;49m\u001b[38;5;124;43m\"\u001b[39;49m\u001b[43m)\u001b[49m[\u001b[38;5;241m1\u001b[39m]\n\u001b[0;32m   4098\u001b[0m \u001b[38;5;66;03m# take() does not accept boolean indexers\u001b[39;00m\n\u001b[0;32m   4099\u001b[0m \u001b[38;5;28;01mif\u001b[39;00m \u001b[38;5;28mgetattr\u001b[39m(indexer, \u001b[38;5;124m\"\u001b[39m\u001b[38;5;124mdtype\u001b[39m\u001b[38;5;124m\"\u001b[39m, \u001b[38;5;28;01mNone\u001b[39;00m) \u001b[38;5;241m==\u001b[39m \u001b[38;5;28mbool\u001b[39m:\n",
      "File \u001b[1;32mc:\\Users\\Kevin\\anaconda3\\envs\\softwareeng\\Lib\\site-packages\\pandas\\core\\indexes\\base.py:6200\u001b[0m, in \u001b[0;36mIndex._get_indexer_strict\u001b[1;34m(self, key, axis_name)\u001b[0m\n\u001b[0;32m   6197\u001b[0m \u001b[38;5;28;01melse\u001b[39;00m:\n\u001b[0;32m   6198\u001b[0m     keyarr, indexer, new_indexer \u001b[38;5;241m=\u001b[39m \u001b[38;5;28mself\u001b[39m\u001b[38;5;241m.\u001b[39m_reindex_non_unique(keyarr)\n\u001b[1;32m-> 6200\u001b[0m \u001b[38;5;28;43mself\u001b[39;49m\u001b[38;5;241;43m.\u001b[39;49m\u001b[43m_raise_if_missing\u001b[49m\u001b[43m(\u001b[49m\u001b[43mkeyarr\u001b[49m\u001b[43m,\u001b[49m\u001b[43m \u001b[49m\u001b[43mindexer\u001b[49m\u001b[43m,\u001b[49m\u001b[43m \u001b[49m\u001b[43maxis_name\u001b[49m\u001b[43m)\u001b[49m\n\u001b[0;32m   6202\u001b[0m keyarr \u001b[38;5;241m=\u001b[39m \u001b[38;5;28mself\u001b[39m\u001b[38;5;241m.\u001b[39mtake(indexer)\n\u001b[0;32m   6203\u001b[0m \u001b[38;5;28;01mif\u001b[39;00m \u001b[38;5;28misinstance\u001b[39m(key, Index):\n\u001b[0;32m   6204\u001b[0m     \u001b[38;5;66;03m# GH 42790 - Preserve name from an Index\u001b[39;00m\n",
      "File \u001b[1;32mc:\\Users\\Kevin\\anaconda3\\envs\\softwareeng\\Lib\\site-packages\\pandas\\core\\indexes\\base.py:6249\u001b[0m, in \u001b[0;36mIndex._raise_if_missing\u001b[1;34m(self, key, indexer, axis_name)\u001b[0m\n\u001b[0;32m   6247\u001b[0m \u001b[38;5;28;01mif\u001b[39;00m nmissing:\n\u001b[0;32m   6248\u001b[0m     \u001b[38;5;28;01mif\u001b[39;00m nmissing \u001b[38;5;241m==\u001b[39m \u001b[38;5;28mlen\u001b[39m(indexer):\n\u001b[1;32m-> 6249\u001b[0m         \u001b[38;5;28;01mraise\u001b[39;00m \u001b[38;5;167;01mKeyError\u001b[39;00m(\u001b[38;5;124mf\u001b[39m\u001b[38;5;124m\"\u001b[39m\u001b[38;5;124mNone of [\u001b[39m\u001b[38;5;132;01m{\u001b[39;00mkey\u001b[38;5;132;01m}\u001b[39;00m\u001b[38;5;124m] are in the [\u001b[39m\u001b[38;5;132;01m{\u001b[39;00maxis_name\u001b[38;5;132;01m}\u001b[39;00m\u001b[38;5;124m]\u001b[39m\u001b[38;5;124m\"\u001b[39m)\n\u001b[0;32m   6251\u001b[0m     not_found \u001b[38;5;241m=\u001b[39m \u001b[38;5;28mlist\u001b[39m(ensure_index(key)[missing_mask\u001b[38;5;241m.\u001b[39mnonzero()[\u001b[38;5;241m0\u001b[39m]]\u001b[38;5;241m.\u001b[39munique())\n\u001b[0;32m   6252\u001b[0m     \u001b[38;5;28;01mraise\u001b[39;00m \u001b[38;5;167;01mKeyError\u001b[39;00m(\u001b[38;5;124mf\u001b[39m\u001b[38;5;124m\"\u001b[39m\u001b[38;5;132;01m{\u001b[39;00mnot_found\u001b[38;5;132;01m}\u001b[39;00m\u001b[38;5;124m not in index\u001b[39m\u001b[38;5;124m\"\u001b[39m)\n",
      "\u001b[1;31mKeyError\u001b[0m: \"None of [Index(['', 'longitude', 'latitude'], dtype='object')] are in the [columns]\""
     ]
    }
   ],
   "source": [
    "import geopandas as gpd\n",
    "from shapely.geometry import Point\n",
    "\n",
    "# Load the location coordinates file as GeoDataFrame\n",
    "location_coords_gdf = gpd.read_file('c:/A3/subway.shp')\n",
    "print(location_coords_gdf.head())\n",
    "subway = location_coords_gdf[['', 'longitude', 'latitude']]\n",
    "\n",
    "grouped_with_coords = pd.merge(df, subway, on='station_complex_id', how='left')\n",
    "\n",
    "grouped_with_coords['geometry'] = grouped_with_coords.apply(lambda row: Point(row['longitude'], row['latitude']), axis=1)\n",
    "df = gpd.GeoDataFrame(grouped_with_coords, geometry='geometry')\n",
    "df.set_crs(epsg=4326, inplace=True)\n",
    "\n",
    "\n",
    "nta_gdf = gpd.read_file('c:/A/nyct2020_24b/nyct2020_24b/nyct2020.shp')\n",
    "\n",
    "# Perform spatial join to find the corresponding NTA for each pickup location\n",
    "result_gdf = gpd.sjoin(df, nta_gdf, how='left', op='intersects')\n",
    "\n",
    "# Now your result_gdf contains the NTA information\n",
    "print(result_gdf.head())"
   ]
  }
 ],
 "metadata": {
  "kernelspec": {
   "display_name": "softwareeng",
   "language": "python",
   "name": "python3"
  },
  "language_info": {
   "codemirror_mode": {
    "name": "ipython",
    "version": 3
   },
   "file_extension": ".py",
   "mimetype": "text/x-python",
   "name": "python",
   "nbconvert_exporter": "python",
   "pygments_lexer": "ipython3",
   "version": "3.11.8"
  }
 },
 "nbformat": 4,
 "nbformat_minor": 2
}
