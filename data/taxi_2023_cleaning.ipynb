{
 "cells": [
  {
   "cell_type": "code",
   "execution_count": 1,
   "metadata": {},
   "outputs": [
    {
     "name": "stdout",
     "output_type": "stream",
     "text": [
      "2.3.0+cpu\n"
     ]
    }
   ],
   "source": [
    "import pandas as pd\n",
    "import torch\n",
    "print(torch.__version__)\n",
    "import dask.dataframe as dd\n",
    "import matplotlib.pyplot as plt"
   ]
  },
  {
   "cell_type": "markdown",
   "metadata": {},
   "source": [
    "Reading the parquet file into a pandas dataframe"
   ]
  },
  {
   "cell_type": "code",
   "execution_count": 2,
   "metadata": {},
   "outputs": [
    {
     "name": "stdout",
     "output_type": "stream",
     "text": [
      "   VendorID tpep_pickup_datetime tpep_dropoff_datetime  passenger_count  \\\n",
      "0         1  2022-07-01 00:20:06   2022-07-01 00:39:13              1.0   \n",
      "1         2  2022-07-01 00:29:11   2022-07-01 00:38:00              1.0   \n",
      "2         1  2022-07-01 00:03:56   2022-07-01 00:11:49              1.0   \n",
      "3         1  2022-07-01 00:18:36   2022-07-01 00:52:44              1.0   \n",
      "4         1  2022-07-01 00:15:50   2022-07-01 00:22:21              1.0   \n",
      "\n",
      "   trip_distance  RatecodeID store_and_fwd_flag  PULocationID  DOLocationID  \\\n",
      "0          10.10         1.0                  N            70            33   \n",
      "1           1.67         1.0                  N           162            48   \n",
      "2           0.90         1.0                  N            48           142   \n",
      "3          14.80         1.0                  N            70           265   \n",
      "4           1.20         1.0                  N           161           234   \n",
      "\n",
      "   payment_type  fare_amount  extra  mta_tax  tip_amount  tolls_amount  \\\n",
      "0             1         28.5    0.5      0.5         8.9           0.0   \n",
      "1             1          8.0    0.5      0.5         1.0           0.0   \n",
      "2             1          6.0    3.0      0.5         2.0           0.0   \n",
      "3             1         44.0    0.5      0.5        20.0           0.0   \n",
      "4             2          6.5    3.0      0.5         0.0           0.0   \n",
      "\n",
      "   improvement_surcharge  total_amount  congestion_surcharge  airport_fee  \n",
      "0                    0.3          38.7                   0.0          0.0  \n",
      "1                    0.3          12.8                   2.5          0.0  \n",
      "2                    0.3          11.8                   2.5          0.0  \n",
      "3                    0.3          65.3                   0.0          0.0  \n",
      "4                    0.3          10.3                   2.5          0.0  \n"
     ]
    }
   ],
   "source": [
    "file_path = r'c:/A5/yellow_tripdata_20222_merged.parquet'\n",
    "df = pd.read_parquet(file_path)\n",
    "\n",
    "print(df.head())"
   ]
  },
  {
   "cell_type": "markdown",
   "metadata": {},
   "source": [
    "Looking at the info inside the datframe and looking at some entries"
   ]
  },
  {
   "cell_type": "code",
   "execution_count": 3,
   "metadata": {},
   "outputs": [
    {
     "name": "stdout",
     "output_type": "stream",
     "text": [
      "<class 'pandas.core.frame.DataFrame'>\n",
      "RangeIndex: 19838515 entries, 0 to 19838514\n",
      "Data columns (total 19 columns):\n",
      " #   Column                 Dtype         \n",
      "---  ------                 -----         \n",
      " 0   VendorID               int64         \n",
      " 1   tpep_pickup_datetime   datetime64[us]\n",
      " 2   tpep_dropoff_datetime  datetime64[us]\n",
      " 3   passenger_count        float64       \n",
      " 4   trip_distance          float64       \n",
      " 5   RatecodeID             float64       \n",
      " 6   store_and_fwd_flag     object        \n",
      " 7   PULocationID           int64         \n",
      " 8   DOLocationID           int64         \n",
      " 9   payment_type           int64         \n",
      " 10  fare_amount            float64       \n",
      " 11  extra                  float64       \n",
      " 12  mta_tax                float64       \n",
      " 13  tip_amount             float64       \n",
      " 14  tolls_amount           float64       \n",
      " 15  improvement_surcharge  float64       \n",
      " 16  total_amount           float64       \n",
      " 17  congestion_surcharge   float64       \n",
      " 18  airport_fee            float64       \n",
      "dtypes: datetime64[us](2), float64(12), int64(4), object(1)\n",
      "memory usage: 2.8+ GB\n",
      "          VendorID tpep_pickup_datetime tpep_dropoff_datetime  \\\n",
      "19838510         2  2022-12-31 23:46:00   2023-01-01 00:11:00   \n",
      "19838511         2  2022-12-31 23:13:24   2022-12-31 23:29:08   \n",
      "19838512         2  2022-12-31 23:00:49   2022-12-31 23:26:57   \n",
      "19838513         1  2022-12-31 23:02:50   2022-12-31 23:16:05   \n",
      "19838514         2  2022-12-31 23:00:15   2022-12-31 23:22:56   \n",
      "\n",
      "          passenger_count  trip_distance  RatecodeID store_and_fwd_flag  \\\n",
      "19838510              NaN          11.56         NaN               None   \n",
      "19838511              NaN           5.06         NaN               None   \n",
      "19838512              NaN          13.35         NaN               None   \n",
      "19838513              NaN           0.00         NaN               None   \n",
      "19838514              NaN           4.24         NaN               None   \n",
      "\n",
      "          PULocationID  DOLocationID  payment_type  fare_amount  extra  \\\n",
      "19838510            16            36             0        39.55    0.0   \n",
      "19838511            75            50             0        26.23    0.0   \n",
      "19838512           168           197             0        47.73    0.0   \n",
      "19838513           238           116             0        12.74    0.0   \n",
      "19838514            85            37             0        19.60    0.0   \n",
      "\n",
      "          mta_tax  tip_amount  tolls_amount  improvement_surcharge  \\\n",
      "19838510      0.5        8.21           0.0                    1.0   \n",
      "19838511      0.5        0.00           0.0                    1.0   \n",
      "19838512      0.5        9.85           0.0                    1.0   \n",
      "19838513      0.5        0.00           0.0                    1.0   \n",
      "19838514      0.5        4.00           0.0                    1.0   \n",
      "\n",
      "          total_amount  congestion_surcharge  airport_fee  \n",
      "19838510         49.26                   NaN          NaN  \n",
      "19838511         30.23                   NaN          NaN  \n",
      "19838512         59.08                   NaN          NaN  \n",
      "19838513         16.74                   NaN          NaN  \n",
      "19838514         25.10                   NaN          NaN  \n"
     ]
    }
   ],
   "source": [
    "df.info()\n",
    "print(df.tail(5))"
   ]
  },
  {
   "cell_type": "markdown",
   "metadata": {},
   "source": [
    "Checking for duplicates in the dataset"
   ]
  },
  {
   "cell_type": "markdown",
   "metadata": {},
   "source": [
    "duplicate_rows = df[df.duplicated()]\n",
    "print(duplicate_rows)"
   ]
  },
  {
   "cell_type": "markdown",
   "metadata": {},
   "source": [
    "Dropping the dupicates"
   ]
  },
  {
   "cell_type": "markdown",
   "metadata": {},
   "source": [
    "df = df.drop_duplicates()\n",
    "print(len(df))"
   ]
  },
  {
   "cell_type": "code",
   "execution_count": 4,
   "metadata": {},
   "outputs": [
    {
     "name": "stdout",
     "output_type": "stream",
     "text": [
      "Cardinality of Columns:\n",
      "VendorID                        4\n",
      "tpep_pickup_datetime     10010406\n",
      "tpep_dropoff_datetime    10006217\n",
      "passenger_count                10\n",
      "trip_distance                7219\n",
      "RatecodeID                      7\n",
      "store_and_fwd_flag              2\n",
      "PULocationID                  262\n",
      "DOLocationID                  262\n",
      "payment_type                    6\n",
      "fare_amount                 11787\n",
      "extra                         134\n",
      "mta_tax                        31\n",
      "tip_amount                   5873\n",
      "tolls_amount                 1722\n",
      "improvement_surcharge           5\n",
      "total_amount                22600\n",
      "congestion_surcharge            9\n",
      "airport_fee                     4\n",
      "dtype: int64\n"
     ]
    }
   ],
   "source": [
    "cardinality = df.nunique()\n",
    "print(\"Cardinality of Columns:\")\n",
    "print(cardinality)"
   ]
  },
  {
   "cell_type": "markdown",
   "metadata": {},
   "source": [
    "Checking to see where the fare amount is more than the total amount and drop them."
   ]
  },
  {
   "cell_type": "code",
   "execution_count": 5,
   "metadata": {},
   "outputs": [
    {
     "name": "stdout",
     "output_type": "stream",
     "text": [
      "142931\n",
      "19695584\n"
     ]
    }
   ],
   "source": [
    "print(len(df[df['fare_amount'] > df['total_amount']]))\n",
    "\n",
    "df = df[df['fare_amount'] <= df['total_amount']]\n",
    "\n",
    "print(len(df))\n"
   ]
  },
  {
   "cell_type": "markdown",
   "metadata": {},
   "source": [
    "Checking to see if there are pickup times that are after the drop off times"
   ]
  },
  {
   "cell_type": "code",
   "execution_count": 6,
   "metadata": {},
   "outputs": [
    {
     "name": "stdout",
     "output_type": "stream",
     "text": [
      "4773\n",
      "9676\n",
      "19681135\n"
     ]
    }
   ],
   "source": [
    "invalidtimes_rows = df[df['tpep_pickup_datetime'] > df['tpep_dropoff_datetime']]\n",
    "print(len(invalidtimes_rows))\n",
    "\n",
    "\n",
    "same_times_rows = df[df['tpep_pickup_datetime'] == df['tpep_dropoff_datetime']]\n",
    "print(len(same_times_rows))\n",
    "\n",
    "df = df[df['tpep_pickup_datetime'] <= df['tpep_dropoff_datetime']]\n",
    "df = df[df['tpep_pickup_datetime'] != df['tpep_dropoff_datetime']]\n",
    "print(len(df))\n"
   ]
  },
  {
   "cell_type": "markdown",
   "metadata": {},
   "source": [
    "Checking columns for negative values "
   ]
  },
  {
   "cell_type": "code",
   "execution_count": 7,
   "metadata": {},
   "outputs": [
    {
     "name": "stdout",
     "output_type": "stream",
     "text": [
      "Number of negative values in passenger_count: 0\n",
      "Number of negative values in trip_distance: 0\n",
      "Number of negative values in fare_amount: 1347\n",
      "Number of negative values in extra: 271\n",
      "Number of negative values in mta_tax: 667\n",
      "Number of negative values in tip_amount: 0\n",
      "Number of negative values in tolls_amount: 200\n",
      "Number of negative values in improvement_surcharge: 914\n",
      "Number of negative values in total_amount: 1299\n",
      "Number of negative values in congestion_surcharge: 657\n"
     ]
    }
   ],
   "source": [
    "\n",
    "columns_to_check = [\n",
    "    'passenger_count', 'trip_distance', 'fare_amount', 'extra', \n",
    "    'mta_tax', 'tip_amount', 'tolls_amount', 'improvement_surcharge', \n",
    "    'total_amount', 'congestion_surcharge'\n",
    "]\n",
    "\n",
    "negative_counts = {}\n",
    "\n",
    "for column in columns_to_check:\n",
    "    negative_counts[column] = len(df[df[column] < 0])\n",
    "\n",
    "for column, count in negative_counts.items():\n",
    "    print(f\"Number of negative values in {column}: {count}\")"
   ]
  },
  {
   "cell_type": "markdown",
   "metadata": {},
   "source": [
    "dropping the negative avlues from the dataset"
   ]
  },
  {
   "cell_type": "code",
   "execution_count": 8,
   "metadata": {},
   "outputs": [],
   "source": [
    "for column in columns_to_check:\n",
    "    df = df[df[column] >= 0]"
   ]
  },
  {
   "cell_type": "markdown",
   "metadata": {},
   "source": [
    "Trip distances that are zero and drop them"
   ]
  },
  {
   "cell_type": "code",
   "execution_count": 9,
   "metadata": {},
   "outputs": [
    {
     "name": "stdout",
     "output_type": "stream",
     "text": [
      "244740\n",
      "18743665\n"
     ]
    }
   ],
   "source": [
    "print(len(df[df['trip_distance']==0]))\n",
    "df = df[df['trip_distance'] != 0]\n",
    "print(len(df))"
   ]
  },
  {
   "cell_type": "markdown",
   "metadata": {},
   "source": [
    "Checking for missing values, missing values count gone to zero after dropping negative value columns\n",
    "Airport Fee still has negatives but considering it is logical such a fee may not be recorded not need to drop the rows as the column will be dropped"
   ]
  },
  {
   "cell_type": "code",
   "execution_count": 10,
   "metadata": {},
   "outputs": [
    {
     "name": "stdout",
     "output_type": "stream",
     "text": [
      "VendorID                 0\n",
      "tpep_pickup_datetime     0\n",
      "tpep_dropoff_datetime    0\n",
      "passenger_count          0\n",
      "trip_distance            0\n",
      "RatecodeID               0\n",
      "store_and_fwd_flag       0\n",
      "PULocationID             0\n",
      "DOLocationID             0\n",
      "payment_type             0\n",
      "fare_amount              0\n",
      "extra                    0\n",
      "mta_tax                  0\n",
      "tip_amount               0\n",
      "tolls_amount             0\n",
      "improvement_surcharge    0\n",
      "total_amount             0\n",
      "congestion_surcharge     0\n",
      "airport_fee              0\n",
      "dtype: int64\n"
     ]
    }
   ],
   "source": [
    "\n",
    "missing_values = df.isnull().sum()\n",
    "\n",
    "print(missing_values)"
   ]
  },
  {
   "cell_type": "markdown",
   "metadata": {},
   "source": [
    "Passenger count more than the stated maximum yellow taxi count on website"
   ]
  },
  {
   "cell_type": "code",
   "execution_count": 11,
   "metadata": {},
   "outputs": [
    {
     "name": "stdout",
     "output_type": "stream",
     "text": [
      "211317\n"
     ]
    }
   ],
   "source": [
    "print(len(df[df['passenger_count']>5]))\n",
    "df = df[df['passenger_count'] < 6]"
   ]
  },
  {
   "cell_type": "markdown",
   "metadata": {},
   "source": [
    "Checking where there is no passengers on the journey"
   ]
  },
  {
   "cell_type": "code",
   "execution_count": 12,
   "metadata": {},
   "outputs": [
    {
     "name": "stdout",
     "output_type": "stream",
     "text": [
      "351620\n",
      "18180728\n"
     ]
    }
   ],
   "source": [
    "print(len(df[df['passenger_count']==0]))\n",
    "df = df[df['passenger_count'] != 0]\n",
    "print(len(df))"
   ]
  },
  {
   "cell_type": "markdown",
   "metadata": {},
   "source": [
    "In the taxi zone lookup table there are two codes that are not in the specified borughs we need which are 264 and 265"
   ]
  },
  {
   "cell_type": "code",
   "execution_count": 13,
   "metadata": {},
   "outputs": [
    {
     "name": "stdout",
     "output_type": "stream",
     "text": [
      "252432\n",
      "4259\n",
      "1244\n"
     ]
    }
   ],
   "source": [
    "print(len(df[df['PULocationID'] == 264]))\n",
    "print(len(df[df['PULocationID'] == 265]))\n",
    "print(len(df[df['PULocationID'] == 1]))\n",
    "#dropping the rows\n",
    "df = df[~df['PULocationID'].isin([264, 265, 1])]"
   ]
  },
  {
   "cell_type": "code",
   "execution_count": 14,
   "metadata": {},
   "outputs": [
    {
     "name": "stdout",
     "output_type": "stream",
     "text": [
      "21171\n",
      "58574\n",
      "48753\n"
     ]
    }
   ],
   "source": [
    "print(len(df[df['DOLocationID'] == 264]))\n",
    "print(len(df[df['DOLocationID'] == 265]))\n",
    "print(len(df[df['DOLocationID'] == 1]))\n",
    "#dropping the rows\n",
    "df = df[~df['DOLocationID'].isin([264, 265, 1])]"
   ]
  },
  {
   "cell_type": "markdown",
   "metadata": {},
   "source": [
    "Finding the rows where the payment was disputed which is rate code 99"
   ]
  },
  {
   "cell_type": "code",
   "execution_count": 15,
   "metadata": {},
   "outputs": [
    {
     "name": "stdout",
     "output_type": "stream",
     "text": [
      "57046\n",
      "17737249\n"
     ]
    }
   ],
   "source": [
    "print(len(df[df['RatecodeID'] == 99]))\n",
    "df = df[df['RatecodeID'] != 99]\n",
    "print(len(df))"
   ]
  },
  {
   "cell_type": "markdown",
   "metadata": {},
   "source": [
    "Dropping all columns that are not needed as per data quality plan."
   ]
  },
  {
   "cell_type": "code",
   "execution_count": 16,
   "metadata": {},
   "outputs": [
    {
     "name": "stdout",
     "output_type": "stream",
     "text": [
      "17737249\n",
      "  tpep_pickup_datetime tpep_dropoff_datetime  passenger_count  PULocationID  \\\n",
      "0  2022-07-01 00:20:06   2022-07-01 00:39:13              1.0            70   \n",
      "1  2022-07-01 00:29:11   2022-07-01 00:38:00              1.0           162   \n",
      "2  2022-07-01 00:03:56   2022-07-01 00:11:49              1.0            48   \n",
      "4  2022-07-01 00:15:50   2022-07-01 00:22:21              1.0           161   \n",
      "6  2022-07-01 00:53:53   2022-07-01 01:08:10              1.0           162   \n",
      "\n",
      "   DOLocationID  \n",
      "0            33  \n",
      "1            48  \n",
      "2           142  \n",
      "4           234  \n",
      "6           148  \n"
     ]
    }
   ],
   "source": [
    "columns_to_keep = ['tpep_pickup_datetime', 'tpep_dropoff_datetime', 'passenger_count', 'PULocationID', 'DOLocationID']\n",
    "\n",
    "df = df[columns_to_keep]\n",
    "print(len(df))\n",
    "print(df.head())"
   ]
  },
  {
   "cell_type": "markdown",
   "metadata": {},
   "source": [
    "Checking the current memory use of the dataframe"
   ]
  },
  {
   "cell_type": "code",
   "execution_count": 17,
   "metadata": {},
   "outputs": [
    {
     "name": "stdout",
     "output_type": "stream",
     "text": [
      "Memory usage: 811.95 MB\n"
     ]
    }
   ],
   "source": [
    "memory_usage = df.memory_usage(deep=True).sum()\n",
    "memory_usage_MB = memory_usage / (1024 ** 2)\n",
    "\n",
    "print(f\"Memory usage: {memory_usage_MB:.2f} MB\")"
   ]
  },
  {
   "cell_type": "markdown",
   "metadata": {},
   "source": [
    "Changing to category types for Locations and passenger counts"
   ]
  },
  {
   "cell_type": "code",
   "execution_count": 18,
   "metadata": {},
   "outputs": [
    {
     "name": "stdout",
     "output_type": "stream",
     "text": [
      "<class 'pandas.core.frame.DataFrame'>\n",
      "Index: 17737249 entries, 0 to 19712051\n",
      "Data columns (total 5 columns):\n",
      " #   Column                 Dtype         \n",
      "---  ------                 -----         \n",
      " 0   tpep_pickup_datetime   datetime64[us]\n",
      " 1   tpep_dropoff_datetime  datetime64[us]\n",
      " 2   passenger_count        category      \n",
      " 3   PULocationID           category      \n",
      " 4   DOLocationID           category      \n",
      "dtypes: category(3), datetime64[us](2)\n",
      "memory usage: 490.6 MB\n",
      "None\n"
     ]
    }
   ],
   "source": [
    "df['passenger_count'] = df['passenger_count'].astype('category')\n",
    "df['PULocationID'] = df['PULocationID'].astype('category')\n",
    "df['DOLocationID'] = df['DOLocationID'].astype('category')\n",
    "\n",
    "print(df.info())"
   ]
  },
  {
   "cell_type": "code",
   "execution_count": 19,
   "metadata": {},
   "outputs": [
    {
     "name": "stdout",
     "output_type": "stream",
     "text": [
      "DataFrame saved\n"
     ]
    }
   ],
   "source": [
    "df.to_parquet('cleaned_taxi2_2022.parquet', index=False)\n",
    "\n",
    "print(\"DataFrame saved\")\n"
   ]
  }
 ],
 "metadata": {
  "kernelspec": {
   "display_name": "softwareeng",
   "language": "python",
   "name": "python3"
  },
  "language_info": {
   "codemirror_mode": {
    "name": "ipython",
    "version": 3
   },
   "file_extension": ".py",
   "mimetype": "text/x-python",
   "name": "python",
   "nbconvert_exporter": "python",
   "pygments_lexer": "ipython3",
   "version": "3.11.8"
  }
 },
 "nbformat": 4,
 "nbformat_minor": 2
}
