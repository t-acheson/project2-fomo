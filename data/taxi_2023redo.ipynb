{
 "cells": [
  {
   "cell_type": "code",
   "execution_count": 27,
   "metadata": {},
   "outputs": [],
   "source": [
    "import pandas as pd"
   ]
  },
  {
   "cell_type": "code",
   "execution_count": 28,
   "metadata": {},
   "outputs": [],
   "source": [
    "df = pd.read_parquet('c:/A1/cleaned_taxi2_2023.parquet')"
   ]
  },
  {
   "cell_type": "code",
   "execution_count": 29,
   "metadata": {},
   "outputs": [
    {
     "data": {
      "text/html": [
       "<div>\n",
       "<style scoped>\n",
       "    .dataframe tbody tr th:only-of-type {\n",
       "        vertical-align: middle;\n",
       "    }\n",
       "\n",
       "    .dataframe tbody tr th {\n",
       "        vertical-align: top;\n",
       "    }\n",
       "\n",
       "    .dataframe thead th {\n",
       "        text-align: right;\n",
       "    }\n",
       "</style>\n",
       "<table border=\"1\" class=\"dataframe\">\n",
       "  <thead>\n",
       "    <tr style=\"text-align: right;\">\n",
       "      <th></th>\n",
       "      <th>tpep_pickup_datetime</th>\n",
       "      <th>tpep_dropoff_datetime</th>\n",
       "      <th>passenger_count</th>\n",
       "      <th>PULocationID</th>\n",
       "      <th>DOLocationID</th>\n",
       "    </tr>\n",
       "  </thead>\n",
       "  <tbody>\n",
       "    <tr>\n",
       "      <th>0</th>\n",
       "      <td>2023-07-01 00:29:59</td>\n",
       "      <td>2023-07-01 00:40:15</td>\n",
       "      <td>1.0</td>\n",
       "      <td>140</td>\n",
       "      <td>263</td>\n",
       "    </tr>\n",
       "    <tr>\n",
       "      <th>1</th>\n",
       "      <td>2023-07-01 00:03:25</td>\n",
       "      <td>2023-07-01 00:23:44</td>\n",
       "      <td>1.0</td>\n",
       "      <td>163</td>\n",
       "      <td>163</td>\n",
       "    </tr>\n",
       "    <tr>\n",
       "      <th>2</th>\n",
       "      <td>2023-07-01 00:38:29</td>\n",
       "      <td>2023-07-01 00:48:53</td>\n",
       "      <td>1.0</td>\n",
       "      <td>142</td>\n",
       "      <td>262</td>\n",
       "    </tr>\n",
       "    <tr>\n",
       "      <th>3</th>\n",
       "      <td>2023-07-01 00:14:16</td>\n",
       "      <td>2023-07-01 00:29:13</td>\n",
       "      <td>1.0</td>\n",
       "      <td>68</td>\n",
       "      <td>24</td>\n",
       "    </tr>\n",
       "    <tr>\n",
       "      <th>4</th>\n",
       "      <td>2023-07-01 00:29:32</td>\n",
       "      <td>2023-07-01 00:54:14</td>\n",
       "      <td>1.0</td>\n",
       "      <td>138</td>\n",
       "      <td>186</td>\n",
       "    </tr>\n",
       "  </tbody>\n",
       "</table>\n",
       "</div>"
      ],
      "text/plain": [
       "  tpep_pickup_datetime tpep_dropoff_datetime  passenger_count  PULocationID  \\\n",
       "0  2023-07-01 00:29:59   2023-07-01 00:40:15              1.0           140   \n",
       "1  2023-07-01 00:03:25   2023-07-01 00:23:44              1.0           163   \n",
       "2  2023-07-01 00:38:29   2023-07-01 00:48:53              1.0           142   \n",
       "3  2023-07-01 00:14:16   2023-07-01 00:29:13              1.0            68   \n",
       "4  2023-07-01 00:29:32   2023-07-01 00:54:14              1.0           138   \n",
       "\n",
       "   DOLocationID  \n",
       "0           263  \n",
       "1           163  \n",
       "2           262  \n",
       "3            24  \n",
       "4           186  "
      ]
     },
     "execution_count": 29,
     "metadata": {},
     "output_type": "execute_result"
    }
   ],
   "source": [
    "df.head()"
   ]
  },
  {
   "cell_type": "code",
   "execution_count": 30,
   "metadata": {},
   "outputs": [],
   "source": [
    "# Splitting the pickup and dropoff information into separate rows\n",
    "pickup_df = df[['tpep_pickup_datetime', 'PULocationID', 'passenger_count']].rename(columns={'tpep_pickup_datetime': 'datetime', 'PULocationID': 'LocationID'})\n",
    "dropoff_df = df[['tpep_dropoff_datetime', 'DOLocationID', 'passenger_count']].rename(columns={'tpep_dropoff_datetime': 'datetime', 'DOLocationID': 'LocationID'})\n",
    "\n",
    "# Combining the two dataframes\n",
    "combined_df = pd.concat([pickup_df, dropoff_df], ignore_index=True)"
   ]
  },
  {
   "cell_type": "code",
   "execution_count": 31,
   "metadata": {},
   "outputs": [
    {
     "name": "stdout",
     "output_type": "stream",
     "text": [
      "             datetime  LocationID  passenger_count\n",
      "0 2023-07-01 00:29:59         140              1.0\n",
      "1 2023-07-01 00:03:25         163              1.0\n",
      "2 2023-07-01 00:38:29         142              1.0\n",
      "3 2023-07-01 00:14:16          68              1.0\n",
      "4 2023-07-01 00:29:32         138              1.0\n",
      "33620292\n"
     ]
    }
   ],
   "source": [
    "print(combined_df.head())\n",
    "print(len(combined_df))"
   ]
  },
  {
   "cell_type": "code",
   "execution_count": 32,
   "metadata": {},
   "outputs": [
    {
     "name": "stderr",
     "output_type": "stream",
     "text": [
      "C:\\Users\\Kevin\\AppData\\Local\\Temp\\ipykernel_8796\\322377648.py:1: FutureWarning: 'H' is deprecated and will be removed in a future version, please use 'h' instead.\n",
      "  combined_df['datetime'] = combined_df['datetime'].dt.round('H')\n"
     ]
    },
    {
     "name": "stdout",
     "output_type": "stream",
     "text": [
      "<class 'pandas.core.frame.DataFrame'>\n",
      "RangeIndex: 33620292 entries, 0 to 33620291\n",
      "Data columns (total 3 columns):\n",
      " #   Column           Dtype         \n",
      "---  ------           -----         \n",
      " 0   datetime         datetime64[us]\n",
      " 1   LocationID       int32         \n",
      " 2   passenger_count  float64       \n",
      "dtypes: datetime64[us](1), float64(1), int32(1)\n",
      "memory usage: 641.3 MB\n"
     ]
    }
   ],
   "source": [
    "combined_df['datetime'] = combined_df['datetime'].dt.round('H')\n",
    "combined_df.info()"
   ]
  },
  {
   "cell_type": "code",
   "execution_count": 33,
   "metadata": {},
   "outputs": [
    {
     "data": {
      "text/html": [
       "<div>\n",
       "<style scoped>\n",
       "    .dataframe tbody tr th:only-of-type {\n",
       "        vertical-align: middle;\n",
       "    }\n",
       "\n",
       "    .dataframe tbody tr th {\n",
       "        vertical-align: top;\n",
       "    }\n",
       "\n",
       "    .dataframe thead th {\n",
       "        text-align: right;\n",
       "    }\n",
       "</style>\n",
       "<table border=\"1\" class=\"dataframe\">\n",
       "  <thead>\n",
       "    <tr style=\"text-align: right;\">\n",
       "      <th></th>\n",
       "      <th>datetime</th>\n",
       "      <th>LocationID</th>\n",
       "      <th>passenger_count</th>\n",
       "    </tr>\n",
       "  </thead>\n",
       "  <tbody>\n",
       "    <tr>\n",
       "      <th>0</th>\n",
       "      <td>2023-07-01 00:00:00</td>\n",
       "      <td>140</td>\n",
       "      <td>1.0</td>\n",
       "    </tr>\n",
       "    <tr>\n",
       "      <th>1</th>\n",
       "      <td>2023-07-01 00:00:00</td>\n",
       "      <td>163</td>\n",
       "      <td>1.0</td>\n",
       "    </tr>\n",
       "    <tr>\n",
       "      <th>2</th>\n",
       "      <td>2023-07-01 01:00:00</td>\n",
       "      <td>142</td>\n",
       "      <td>1.0</td>\n",
       "    </tr>\n",
       "    <tr>\n",
       "      <th>3</th>\n",
       "      <td>2023-07-01 00:00:00</td>\n",
       "      <td>68</td>\n",
       "      <td>1.0</td>\n",
       "    </tr>\n",
       "    <tr>\n",
       "      <th>4</th>\n",
       "      <td>2023-07-01 00:00:00</td>\n",
       "      <td>138</td>\n",
       "      <td>1.0</td>\n",
       "    </tr>\n",
       "  </tbody>\n",
       "</table>\n",
       "</div>"
      ],
      "text/plain": [
       "             datetime  LocationID  passenger_count\n",
       "0 2023-07-01 00:00:00         140              1.0\n",
       "1 2023-07-01 00:00:00         163              1.0\n",
       "2 2023-07-01 01:00:00         142              1.0\n",
       "3 2023-07-01 00:00:00          68              1.0\n",
       "4 2023-07-01 00:00:00         138              1.0"
      ]
     },
     "execution_count": 33,
     "metadata": {},
     "output_type": "execute_result"
    }
   ],
   "source": [
    "combined_df.head()"
   ]
  },
  {
   "cell_type": "code",
   "execution_count": 34,
   "metadata": {},
   "outputs": [],
   "source": [
    "combined_df.to_parquet('c:/fomo_data/taxi_2023_2.parquet')"
   ]
  },
  {
   "cell_type": "code",
   "execution_count": 35,
   "metadata": {},
   "outputs": [],
   "source": [
    "df = pd.read_parquet('c:/fomo_data/taxi_2023_1.parquet')"
   ]
  },
  {
   "cell_type": "code",
   "execution_count": 36,
   "metadata": {},
   "outputs": [],
   "source": [
    "df = pd.concat([combined_df, df], ignore_index=True)"
   ]
  },
  {
   "cell_type": "code",
   "execution_count": 37,
   "metadata": {},
   "outputs": [],
   "source": [
    "df.rename(columns={\n",
    "    'LocationID': 'locationid',\n",
    "    'datetime': 'transit_timestamp',\n",
    "    'passenger_count': 'ridership'\n",
    "}, inplace=True)"
   ]
  },
  {
   "cell_type": "code",
   "execution_count": 38,
   "metadata": {},
   "outputs": [],
   "source": [
    "combined = pd.read_parquet('c:/fomo_data/sub_taxi_combine.parquet')"
   ]
  },
  {
   "cell_type": "code",
   "execution_count": 39,
   "metadata": {},
   "outputs": [],
   "source": [
    "df = pd.concat([combined, df], ignore_index=True)"
   ]
  },
  {
   "cell_type": "code",
   "execution_count": 40,
   "metadata": {},
   "outputs": [],
   "source": [
    "df = df.groupby(['locationid', 'transit_timestamp']).agg({'ridership': 'sum'}).reset_index()"
   ]
  },
  {
   "cell_type": "code",
   "execution_count": 41,
   "metadata": {},
   "outputs": [
    {
     "name": "stdout",
     "output_type": "stream",
     "text": [
      "3857556\n"
     ]
    }
   ],
   "source": [
    "print(len(df))"
   ]
  },
  {
   "cell_type": "code",
   "execution_count": 42,
   "metadata": {},
   "outputs": [],
   "source": [
    "df.to_parquet('c:/fomo_data/fully_combined.parquet')"
   ]
  }
 ],
 "metadata": {
  "kernelspec": {
   "display_name": "softwareeng",
   "language": "python",
   "name": "python3"
  },
  "language_info": {
   "codemirror_mode": {
    "name": "ipython",
    "version": 3
   },
   "file_extension": ".py",
   "mimetype": "text/x-python",
   "name": "python",
   "nbconvert_exporter": "python",
   "pygments_lexer": "ipython3",
   "version": "3.11.8"
  }
 },
 "nbformat": 4,
 "nbformat_minor": 2
}
