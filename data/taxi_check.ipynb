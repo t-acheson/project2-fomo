{
 "cells": [
  {
   "cell_type": "code",
   "execution_count": 1,
   "metadata": {},
   "outputs": [
    {
     "name": "stdout",
     "output_type": "stream",
     "text": [
      "  tpep_pickup_datetime tpep_dropoff_datetime  passenger_count  PULocationID  \\\n",
      "0  2023-01-01 00:32:10   2023-01-01 00:40:36              1.0           161   \n",
      "1  2023-01-01 00:55:08   2023-01-01 01:01:27              1.0            43   \n",
      "2  2023-01-01 00:25:04   2023-01-01 00:37:49              1.0            48   \n",
      "3  2023-01-01 00:10:29   2023-01-01 00:21:19              1.0           107   \n",
      "4  2023-01-01 00:50:34   2023-01-01 01:02:52              1.0           161   \n",
      "\n",
      "   DOLocationID  \n",
      "0           141  \n",
      "1           237  \n",
      "2           238  \n",
      "3            79  \n",
      "4           137  \n",
      "2787249\n"
     ]
    }
   ],
   "source": [
    "import pandas as pd\n",
    "file_path = r'c:/A/cleaned_taxi1_2023.parquet'\n",
    "df = pd.read_parquet(file_path)\n",
    "\n",
    "print(df.head())\n",
    "print(len(df))"
   ]
  }
 ],
 "metadata": {
  "kernelspec": {
   "display_name": "softwareeng",
   "language": "python",
   "name": "python3"
  },
  "language_info": {
   "codemirror_mode": {
    "name": "ipython",
    "version": 3
   },
   "file_extension": ".py",
   "mimetype": "text/x-python",
   "name": "python",
   "nbconvert_exporter": "python",
   "pygments_lexer": "ipython3",
   "version": "3.11.8"
  }
 },
 "nbformat": 4,
 "nbformat_minor": 2
}
