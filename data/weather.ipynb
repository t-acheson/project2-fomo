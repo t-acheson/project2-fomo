{
 "cells": [
  {
   "cell_type": "code",
   "execution_count": 22,
   "metadata": {},
   "outputs": [],
   "source": [
    "import pandas as pd"
   ]
  },
  {
   "cell_type": "code",
   "execution_count": 23,
   "metadata": {},
   "outputs": [],
   "source": [
    "df = pd.read_csv('c:/A5/NYC_Weather_2016_2022.csv')"
   ]
  },
  {
   "cell_type": "code",
   "execution_count": 24,
   "metadata": {},
   "outputs": [
    {
     "data": {
      "text/html": [
       "<div>\n",
       "<style scoped>\n",
       "    .dataframe tbody tr th:only-of-type {\n",
       "        vertical-align: middle;\n",
       "    }\n",
       "\n",
       "    .dataframe tbody tr th {\n",
       "        vertical-align: top;\n",
       "    }\n",
       "\n",
       "    .dataframe thead th {\n",
       "        text-align: right;\n",
       "    }\n",
       "</style>\n",
       "<table border=\"1\" class=\"dataframe\">\n",
       "  <thead>\n",
       "    <tr style=\"text-align: right;\">\n",
       "      <th></th>\n",
       "      <th>time</th>\n",
       "      <th>temperature_2m (°C)</th>\n",
       "      <th>precipitation (mm)</th>\n",
       "      <th>rain (mm)</th>\n",
       "      <th>cloudcover (%)</th>\n",
       "      <th>cloudcover_low (%)</th>\n",
       "      <th>cloudcover_mid (%)</th>\n",
       "      <th>cloudcover_high (%)</th>\n",
       "      <th>windspeed_10m (km/h)</th>\n",
       "      <th>winddirection_10m (°)</th>\n",
       "    </tr>\n",
       "  </thead>\n",
       "  <tbody>\n",
       "    <tr>\n",
       "      <th>0</th>\n",
       "      <td>2016-01-01T00:00</td>\n",
       "      <td>7.6</td>\n",
       "      <td>0.0</td>\n",
       "      <td>0.0</td>\n",
       "      <td>69.0</td>\n",
       "      <td>53.0</td>\n",
       "      <td>0.0</td>\n",
       "      <td>72.0</td>\n",
       "      <td>10.0</td>\n",
       "      <td>296.0</td>\n",
       "    </tr>\n",
       "    <tr>\n",
       "      <th>1</th>\n",
       "      <td>2016-01-01T01:00</td>\n",
       "      <td>7.5</td>\n",
       "      <td>0.0</td>\n",
       "      <td>0.0</td>\n",
       "      <td>20.0</td>\n",
       "      <td>4.0</td>\n",
       "      <td>0.0</td>\n",
       "      <td>56.0</td>\n",
       "      <td>9.8</td>\n",
       "      <td>287.0</td>\n",
       "    </tr>\n",
       "    <tr>\n",
       "      <th>2</th>\n",
       "      <td>2016-01-01T02:00</td>\n",
       "      <td>7.1</td>\n",
       "      <td>0.0</td>\n",
       "      <td>0.0</td>\n",
       "      <td>32.0</td>\n",
       "      <td>3.0</td>\n",
       "      <td>0.0</td>\n",
       "      <td>99.0</td>\n",
       "      <td>9.7</td>\n",
       "      <td>285.0</td>\n",
       "    </tr>\n",
       "    <tr>\n",
       "      <th>3</th>\n",
       "      <td>2016-01-01T03:00</td>\n",
       "      <td>6.6</td>\n",
       "      <td>0.0</td>\n",
       "      <td>0.0</td>\n",
       "      <td>35.0</td>\n",
       "      <td>5.0</td>\n",
       "      <td>0.0</td>\n",
       "      <td>100.0</td>\n",
       "      <td>9.2</td>\n",
       "      <td>281.0</td>\n",
       "    </tr>\n",
       "    <tr>\n",
       "      <th>4</th>\n",
       "      <td>2016-01-01T04:00</td>\n",
       "      <td>6.3</td>\n",
       "      <td>0.0</td>\n",
       "      <td>0.0</td>\n",
       "      <td>34.0</td>\n",
       "      <td>4.0</td>\n",
       "      <td>0.0</td>\n",
       "      <td>100.0</td>\n",
       "      <td>9.1</td>\n",
       "      <td>279.0</td>\n",
       "    </tr>\n",
       "  </tbody>\n",
       "</table>\n",
       "</div>"
      ],
      "text/plain": [
       "               time  temperature_2m (°C)  precipitation (mm)  rain (mm)  \\\n",
       "0  2016-01-01T00:00                  7.6                 0.0        0.0   \n",
       "1  2016-01-01T01:00                  7.5                 0.0        0.0   \n",
       "2  2016-01-01T02:00                  7.1                 0.0        0.0   \n",
       "3  2016-01-01T03:00                  6.6                 0.0        0.0   \n",
       "4  2016-01-01T04:00                  6.3                 0.0        0.0   \n",
       "\n",
       "   cloudcover (%)  cloudcover_low (%)  cloudcover_mid (%)  \\\n",
       "0            69.0                53.0                 0.0   \n",
       "1            20.0                 4.0                 0.0   \n",
       "2            32.0                 3.0                 0.0   \n",
       "3            35.0                 5.0                 0.0   \n",
       "4            34.0                 4.0                 0.0   \n",
       "\n",
       "   cloudcover_high (%)  windspeed_10m (km/h)  winddirection_10m (°)  \n",
       "0                 72.0                  10.0                  296.0  \n",
       "1                 56.0                   9.8                  287.0  \n",
       "2                 99.0                   9.7                  285.0  \n",
       "3                100.0                   9.2                  281.0  \n",
       "4                100.0                   9.1                  279.0  "
      ]
     },
     "execution_count": 24,
     "metadata": {},
     "output_type": "execute_result"
    }
   ],
   "source": [
    "df.head()"
   ]
  },
  {
   "cell_type": "code",
   "execution_count": 25,
   "metadata": {},
   "outputs": [
    {
     "data": {
      "text/plain": [
       "time                     59760\n",
       "temperature_2m (°C)        512\n",
       "precipitation (mm)          92\n",
       "rain (mm)                   92\n",
       "cloudcover (%)             101\n",
       "cloudcover_low (%)         101\n",
       "cloudcover_mid (%)         101\n",
       "cloudcover_high (%)        101\n",
       "windspeed_10m (km/h)       398\n",
       "winddirection_10m (°)      360\n",
       "dtype: int64"
      ]
     },
     "execution_count": 25,
     "metadata": {},
     "output_type": "execute_result"
    }
   ],
   "source": [
    "df.nunique()"
   ]
  },
  {
   "cell_type": "code",
   "execution_count": 26,
   "metadata": {},
   "outputs": [
    {
     "name": "stdout",
     "output_type": "stream",
     "text": [
      "time                       0\n",
      "temperature_2m (°C)      168\n",
      "precipitation (mm)       168\n",
      "rain (mm)                168\n",
      "cloudcover (%)           168\n",
      "cloudcover_low (%)       168\n",
      "cloudcover_mid (%)       168\n",
      "cloudcover_high (%)      168\n",
      "windspeed_10m (km/h)     168\n",
      "winddirection_10m (°)    173\n",
      "dtype: int64\n"
     ]
    }
   ],
   "source": [
    "nan_count_per_column = df.isna().sum()\n",
    "\n",
    "print(nan_count_per_column)"
   ]
  },
  {
   "cell_type": "code",
   "execution_count": 27,
   "metadata": {},
   "outputs": [
    {
     "name": "stdout",
     "output_type": "stream",
     "text": [
      "<bound method NDFrame.tail of                    time  temperature_2m (°C)  precipitation (mm)  rain (mm)  \\\n",
      "0      2016-01-01T00:00                  7.6                 0.0        0.0   \n",
      "1      2016-01-01T01:00                  7.5                 0.0        0.0   \n",
      "2      2016-01-01T02:00                  7.1                 0.0        0.0   \n",
      "3      2016-01-01T03:00                  6.6                 0.0        0.0   \n",
      "4      2016-01-01T04:00                  6.3                 0.0        0.0   \n",
      "...                 ...                  ...                 ...        ...   \n",
      "59611  2022-10-19T19:00                 12.2                 0.0        0.0   \n",
      "59612  2022-10-19T20:00                 12.2                 0.0        0.0   \n",
      "59613  2022-10-19T21:00                 12.2                 0.0        0.0   \n",
      "59614  2022-10-19T22:00                 11.1                 0.0        0.0   \n",
      "59615  2022-10-19T23:00                 10.4                 0.0        0.0   \n",
      "\n",
      "       cloudcover (%)  cloudcover_low (%)  cloudcover_mid (%)  \\\n",
      "0                69.0                53.0                 0.0   \n",
      "1                20.0                 4.0                 0.0   \n",
      "2                32.0                 3.0                 0.0   \n",
      "3                35.0                 5.0                 0.0   \n",
      "4                34.0                 4.0                 0.0   \n",
      "...               ...                 ...                 ...   \n",
      "59611            68.0                 9.0               100.0   \n",
      "59612            61.0                 8.0                90.0   \n",
      "59613            62.0                21.0                72.0   \n",
      "59614             4.0                 0.0                 6.0   \n",
      "59615             0.0                 0.0                 0.0   \n",
      "\n",
      "       cloudcover_high (%)  windspeed_10m (km/h)  winddirection_10m (°)  \n",
      "0                     72.0                  10.0                  296.0  \n",
      "1                     56.0                   9.8                  287.0  \n",
      "2                     99.0                   9.7                  285.0  \n",
      "3                    100.0                   9.2                  281.0  \n",
      "4                    100.0                   9.1                  279.0  \n",
      "...                    ...                   ...                    ...  \n",
      "59611                  0.0                  21.2                  212.0  \n",
      "59612                  0.0                  20.3                  207.0  \n",
      "59613                  0.0                  16.6                  207.0  \n",
      "59614                  0.0                  10.8                  206.0  \n",
      "59615                  0.0                   7.7                  217.0  \n",
      "\n",
      "[59587 rows x 10 columns]>\n"
     ]
    }
   ],
   "source": [
    "df =  df.dropna()\n",
    "print(df.tail)"
   ]
  },
  {
   "cell_type": "code",
   "execution_count": 28,
   "metadata": {},
   "outputs": [
    {
     "name": "stdout",
     "output_type": "stream",
     "text": [
      "<class 'pandas.core.frame.DataFrame'>\n",
      "Index: 59587 entries, 0 to 59615\n",
      "Data columns (total 10 columns):\n",
      " #   Column                 Non-Null Count  Dtype  \n",
      "---  ------                 --------------  -----  \n",
      " 0   time                   59587 non-null  object \n",
      " 1   temperature_2m (°C)    59587 non-null  float64\n",
      " 2   precipitation (mm)     59587 non-null  float64\n",
      " 3   rain (mm)              59587 non-null  float64\n",
      " 4   cloudcover (%)         59587 non-null  float64\n",
      " 5   cloudcover_low (%)     59587 non-null  float64\n",
      " 6   cloudcover_mid (%)     59587 non-null  float64\n",
      " 7   cloudcover_high (%)    59587 non-null  float64\n",
      " 8   windspeed_10m (km/h)   59587 non-null  float64\n",
      " 9   winddirection_10m (°)  59587 non-null  float64\n",
      "dtypes: float64(9), object(1)\n",
      "memory usage: 5.0+ MB\n"
     ]
    }
   ],
   "source": [
    "df.info()"
   ]
  },
  {
   "cell_type": "code",
   "execution_count": 29,
   "metadata": {},
   "outputs": [],
   "source": [
    "df['time'] = pd.to_datetime(df['time'])"
   ]
  },
  {
   "cell_type": "code",
   "execution_count": 30,
   "metadata": {},
   "outputs": [],
   "source": [
    "float_columns = df.select_dtypes(include='float64').columns\n",
    "df[float_columns] = df[float_columns].astype('float32')"
   ]
  },
  {
   "cell_type": "code",
   "execution_count": 31,
   "metadata": {},
   "outputs": [],
   "source": [
    "df['year'] = df['time'].dt.year\n",
    "df['month'] = df['time'].dt.month"
   ]
  },
  {
   "cell_type": "code",
   "execution_count": 32,
   "metadata": {},
   "outputs": [],
   "source": [
    "condition = (\n",
    "    (df['year'] == 2022) | \n",
    "    (df['year'] == 2021) | \n",
    "    ((df['year'] == 2020) & (df['month'] >= 11))\n",
    ")\n",
    "\n",
    "# Apply the condition to filter rows\n",
    "df_filtered = df[condition].copy()"
   ]
  },
  {
   "cell_type": "code",
   "execution_count": 33,
   "metadata": {},
   "outputs": [],
   "source": [
    "df_filtered.loc[df_filtered['year'] == 2021, 'time'] = df_filtered.loc[df_filtered['year'] == 2021, 'time'].apply(lambda x: x.replace(year=2023))\n",
    "\n",
    "# Change the last two months of 2020 to 2022\n",
    "df_filtered.loc[(df_filtered['year'] == 2020) & (df_filtered['month'] >= 11), 'time'] = df_filtered.loc[(df_filtered['year'] == 2020) & (df_filtered['month'] >= 11), 'time'].apply(lambda x: x.replace(year=2022))\n",
    "\n",
    "# Drop the temporary 'year' and 'month' columns\n",
    "df_filtered.drop(columns=['year', 'month'], inplace=True)"
   ]
  },
  {
   "cell_type": "code",
   "execution_count": 13,
   "metadata": {},
   "outputs": [
    {
     "name": "stdout",
     "output_type": "stream",
     "text": [
      "17205\n",
      "                     time  temperature_2m (°C)  precipitation (mm)  rain (mm)  \\\n",
      "42384 2022-11-01 00:00:00                  6.5                 0.0        0.0   \n",
      "42385 2022-11-01 01:00:00                  6.4                 0.0        0.0   \n",
      "42386 2022-11-01 02:00:00                  6.1                 0.0        0.0   \n",
      "42387 2022-11-01 03:00:00                  5.5                 0.0        0.0   \n",
      "42388 2022-11-01 04:00:00                  5.1                 0.0        0.0   \n",
      "\n",
      "       cloudcover (%)  cloudcover_low (%)  cloudcover_mid (%)  \\\n",
      "42384            55.0                61.0                 0.0   \n",
      "42385            64.0                71.0                 0.0   \n",
      "42386            52.0                58.0                 0.0   \n",
      "42387            40.0                44.0                 0.0   \n",
      "42388            41.0                46.0                 0.0   \n",
      "\n",
      "       cloudcover_high (%)  windspeed_10m (km/h)  winddirection_10m (°)  \n",
      "42384                  0.0                   7.0                  159.0  \n",
      "42385                  0.0                   6.0                  163.0  \n",
      "42386                  0.0                   6.2                  173.0  \n",
      "42387                  0.0                   6.4                  196.0  \n",
      "42388                  0.0                   6.9                  223.0  \n"
     ]
    }
   ],
   "source": [
    "print(len(df_filtered))\n",
    "print(df_filtered.head())"
   ]
  },
  {
   "cell_type": "code",
   "execution_count": 15,
   "metadata": {},
   "outputs": [],
   "source": [
    "df_filtered.to_parquet('c:/fomo_data/hist_weather_parquet')"
   ]
  },
  {
   "cell_type": "code",
   "execution_count": 34,
   "metadata": {},
   "outputs": [],
   "source": [
    "\n",
    "index = pd.read_parquet('c:/fomo_data/fully_combined.parquet')"
   ]
  },
  {
   "cell_type": "code",
   "execution_count": 35,
   "metadata": {},
   "outputs": [],
   "source": [
    "index['year'] = index['transit_timestamp'].dt.year\n",
    "index['month'] = index['transit_timestamp'].dt.month"
   ]
  },
  {
   "cell_type": "code",
   "execution_count": 36,
   "metadata": {},
   "outputs": [
    {
     "data": {
      "text/plain": [
       "9"
      ]
     },
     "execution_count": 36,
     "metadata": {},
     "output_type": "execute_result"
    }
   ],
   "source": [
    "index['year'].nunique()"
   ]
  },
  {
   "cell_type": "code",
   "execution_count": 37,
   "metadata": {},
   "outputs": [
    {
     "name": "stdout",
     "output_type": "stream",
     "text": [
      "year\n",
      "2023    1713868\n",
      "2022    1570566\n",
      "2024     572494\n",
      "2002        457\n",
      "2009        101\n",
      "2008         28\n",
      "2003         23\n",
      "2001         17\n",
      "2014          2\n",
      "Name: count, dtype: int64\n"
     ]
    }
   ],
   "source": [
    "year_counts = index['year'].value_counts()\n",
    "\n",
    "# Display the counts\n",
    "print(year_counts)"
   ]
  },
  {
   "cell_type": "code",
   "execution_count": 38,
   "metadata": {},
   "outputs": [],
   "source": [
    "# Filter the DataFrame to keep only the rows where 'year' is 2024, 2022, or 2021\n",
    "index = index[index['year'].isin([2024, 2022, 2021])]"
   ]
  },
  {
   "cell_type": "code",
   "execution_count": 39,
   "metadata": {},
   "outputs": [],
   "source": [
    "index.drop(columns=['year', 'month'], inplace=True)"
   ]
  },
  {
   "cell_type": "code",
   "execution_count": 40,
   "metadata": {},
   "outputs": [
    {
     "data": {
      "text/plain": [
       "locationid             260\n",
       "transit_timestamp    11640\n",
       "ridership            24836\n",
       "dtype: int64"
      ]
     },
     "execution_count": 40,
     "metadata": {},
     "output_type": "execute_result"
    }
   ],
   "source": [
    "index.nunique()"
   ]
  },
  {
   "cell_type": "code",
   "execution_count": 41,
   "metadata": {},
   "outputs": [
    {
     "data": {
      "text/html": [
       "<div>\n",
       "<style scoped>\n",
       "    .dataframe tbody tr th:only-of-type {\n",
       "        vertical-align: middle;\n",
       "    }\n",
       "\n",
       "    .dataframe tbody tr th {\n",
       "        vertical-align: top;\n",
       "    }\n",
       "\n",
       "    .dataframe thead th {\n",
       "        text-align: right;\n",
       "    }\n",
       "</style>\n",
       "<table border=\"1\" class=\"dataframe\">\n",
       "  <thead>\n",
       "    <tr style=\"text-align: right;\">\n",
       "      <th></th>\n",
       "      <th>locationid</th>\n",
       "      <th>transit_timestamp</th>\n",
       "      <th>ridership</th>\n",
       "    </tr>\n",
       "  </thead>\n",
       "  <tbody>\n",
       "    <tr>\n",
       "      <th>0</th>\n",
       "      <td>2.0</td>\n",
       "      <td>2022-02-06 15:00:00</td>\n",
       "      <td>1.0</td>\n",
       "    </tr>\n",
       "    <tr>\n",
       "      <th>1</th>\n",
       "      <td>2.0</td>\n",
       "      <td>2022-02-16 23:00:00</td>\n",
       "      <td>1.0</td>\n",
       "    </tr>\n",
       "    <tr>\n",
       "      <th>2</th>\n",
       "      <td>2.0</td>\n",
       "      <td>2022-02-23 08:00:00</td>\n",
       "      <td>1.0</td>\n",
       "    </tr>\n",
       "    <tr>\n",
       "      <th>3</th>\n",
       "      <td>2.0</td>\n",
       "      <td>2022-02-23 19:00:00</td>\n",
       "      <td>4.0</td>\n",
       "    </tr>\n",
       "    <tr>\n",
       "      <th>4</th>\n",
       "      <td>2.0</td>\n",
       "      <td>2022-03-22 10:00:00</td>\n",
       "      <td>1.0</td>\n",
       "    </tr>\n",
       "  </tbody>\n",
       "</table>\n",
       "</div>"
      ],
      "text/plain": [
       "   locationid   transit_timestamp  ridership\n",
       "0         2.0 2022-02-06 15:00:00        1.0\n",
       "1         2.0 2022-02-16 23:00:00        1.0\n",
       "2         2.0 2022-02-23 08:00:00        1.0\n",
       "3         2.0 2022-02-23 19:00:00        4.0\n",
       "4         2.0 2022-03-22 10:00:00        1.0"
      ]
     },
     "execution_count": 41,
     "metadata": {},
     "output_type": "execute_result"
    }
   ],
   "source": [
    "index.head()"
   ]
  },
  {
   "cell_type": "code",
   "execution_count": 42,
   "metadata": {},
   "outputs": [
    {
     "name": "stdout",
     "output_type": "stream",
     "text": [
      "Ridership DataFrame with Split Time Columns:\n",
      "    locationid  ridership  year  month  day  hour\n",
      "0         2.0        1.0  2022      2    6    15\n",
      "1         2.0        1.0  2022      2   16    23\n",
      "2         2.0        1.0  2022      2   23     8\n",
      "3         2.0        4.0  2022      2   23    19\n",
      "4         2.0        1.0  2022      3   22    10\n",
      "Weather DataFrame with Split Time Columns:\n",
      "        temperature_2m (°C)  precipitation (mm)  rain (mm)  cloudcover (%)  \\\n",
      "42384                  6.5                 0.0        0.0            55.0   \n",
      "42385                  6.4                 0.0        0.0            64.0   \n",
      "42386                  6.1                 0.0        0.0            52.0   \n",
      "42387                  5.5                 0.0        0.0            40.0   \n",
      "42388                  5.1                 0.0        0.0            41.0   \n",
      "\n",
      "       cloudcover_low (%)  cloudcover_mid (%)  cloudcover_high (%)  \\\n",
      "42384                61.0                 0.0                  0.0   \n",
      "42385                71.0                 0.0                  0.0   \n",
      "42386                58.0                 0.0                  0.0   \n",
      "42387                44.0                 0.0                  0.0   \n",
      "42388                46.0                 0.0                  0.0   \n",
      "\n",
      "       windspeed_10m (km/h)  winddirection_10m (°)  year  month  day  hour  \n",
      "42384                   7.0                  159.0  2022     11    1     0  \n",
      "42385                   6.0                  163.0  2022     11    1     1  \n",
      "42386                   6.2                  173.0  2022     11    1     2  \n",
      "42387                   6.4                  196.0  2022     11    1     3  \n",
      "42388                   6.9                  223.0  2022     11    1     4  \n"
     ]
    }
   ],
   "source": [
    "index['transit_timestamp'] = pd.to_datetime(index['transit_timestamp'], errors='coerce')\n",
    "df_filtered['time'] = pd.to_datetime(df_filtered['time'], errors='coerce')\n",
    "\n",
    "# Split into year, month, day, and hour\n",
    "index['year'] = index['transit_timestamp'].dt.year\n",
    "index['month'] = index['transit_timestamp'].dt.month\n",
    "index['day'] = index['transit_timestamp'].dt.day\n",
    "index['hour'] = index['transit_timestamp'].dt.hour\n",
    "\n",
    "df_filtered['year'] = df_filtered['time'].dt.year\n",
    "df_filtered['month'] = df_filtered['time'].dt.month\n",
    "df_filtered['day'] = df_filtered['time'].dt.day\n",
    "df_filtered['hour'] = df_filtered['time'].dt.hour\n",
    "\n",
    "# Drop the original timestamp columns\n",
    "index.drop(columns=['transit_timestamp'], inplace=True)\n",
    "df_filtered.drop(columns=['time'], inplace=True)\n",
    "\n",
    "# Verify the conversion\n",
    "print(\"Ridership DataFrame with Split Time Columns:\\n\", index.head())\n",
    "print(\"Weather DataFrame with Split Time Columns:\\n\", df_filtered.head())"
   ]
  },
  {
   "cell_type": "code",
   "execution_count": 43,
   "metadata": {},
   "outputs": [
    {
     "data": {
      "text/html": [
       "<div>\n",
       "<style scoped>\n",
       "    .dataframe tbody tr th:only-of-type {\n",
       "        vertical-align: middle;\n",
       "    }\n",
       "\n",
       "    .dataframe tbody tr th {\n",
       "        vertical-align: top;\n",
       "    }\n",
       "\n",
       "    .dataframe thead th {\n",
       "        text-align: right;\n",
       "    }\n",
       "</style>\n",
       "<table border=\"1\" class=\"dataframe\">\n",
       "  <thead>\n",
       "    <tr style=\"text-align: right;\">\n",
       "      <th></th>\n",
       "      <th>locationid</th>\n",
       "      <th>ridership</th>\n",
       "      <th>year</th>\n",
       "      <th>month</th>\n",
       "      <th>day</th>\n",
       "      <th>hour</th>\n",
       "    </tr>\n",
       "  </thead>\n",
       "  <tbody>\n",
       "    <tr>\n",
       "      <th>3857551</th>\n",
       "      <td>263.0</td>\n",
       "      <td>985.0</td>\n",
       "      <td>2024</td>\n",
       "      <td>5</td>\n",
       "      <td>30</td>\n",
       "      <td>19</td>\n",
       "    </tr>\n",
       "    <tr>\n",
       "      <th>3857552</th>\n",
       "      <td>263.0</td>\n",
       "      <td>573.0</td>\n",
       "      <td>2024</td>\n",
       "      <td>5</td>\n",
       "      <td>30</td>\n",
       "      <td>20</td>\n",
       "    </tr>\n",
       "    <tr>\n",
       "      <th>3857553</th>\n",
       "      <td>263.0</td>\n",
       "      <td>452.0</td>\n",
       "      <td>2024</td>\n",
       "      <td>5</td>\n",
       "      <td>30</td>\n",
       "      <td>21</td>\n",
       "    </tr>\n",
       "    <tr>\n",
       "      <th>3857554</th>\n",
       "      <td>263.0</td>\n",
       "      <td>370.0</td>\n",
       "      <td>2024</td>\n",
       "      <td>5</td>\n",
       "      <td>30</td>\n",
       "      <td>22</td>\n",
       "    </tr>\n",
       "    <tr>\n",
       "      <th>3857555</th>\n",
       "      <td>263.0</td>\n",
       "      <td>226.0</td>\n",
       "      <td>2024</td>\n",
       "      <td>5</td>\n",
       "      <td>30</td>\n",
       "      <td>23</td>\n",
       "    </tr>\n",
       "  </tbody>\n",
       "</table>\n",
       "</div>"
      ],
      "text/plain": [
       "         locationid  ridership  year  month  day  hour\n",
       "3857551       263.0      985.0  2024      5   30    19\n",
       "3857552       263.0      573.0  2024      5   30    20\n",
       "3857553       263.0      452.0  2024      5   30    21\n",
       "3857554       263.0      370.0  2024      5   30    22\n",
       "3857555       263.0      226.0  2024      5   30    23"
      ]
     },
     "execution_count": 43,
     "metadata": {},
     "output_type": "execute_result"
    }
   ],
   "source": [
    "index.tail()"
   ]
  },
  {
   "cell_type": "code",
   "execution_count": 44,
   "metadata": {},
   "outputs": [
    {
     "name": "stdout",
     "output_type": "stream",
     "text": [
      "2143060\n"
     ]
    }
   ],
   "source": [
    "print(len(index))"
   ]
  },
  {
   "cell_type": "code",
   "execution_count": 45,
   "metadata": {},
   "outputs": [
    {
     "name": "stdout",
     "output_type": "stream",
     "text": [
      "Merged DataFrame shape: (2143060, 15)\n"
     ]
    },
    {
     "data": {
      "text/html": [
       "<div>\n",
       "<style scoped>\n",
       "    .dataframe tbody tr th:only-of-type {\n",
       "        vertical-align: middle;\n",
       "    }\n",
       "\n",
       "    .dataframe tbody tr th {\n",
       "        vertical-align: top;\n",
       "    }\n",
       "\n",
       "    .dataframe thead th {\n",
       "        text-align: right;\n",
       "    }\n",
       "</style>\n",
       "<table border=\"1\" class=\"dataframe\">\n",
       "  <thead>\n",
       "    <tr style=\"text-align: right;\">\n",
       "      <th></th>\n",
       "      <th>locationid</th>\n",
       "      <th>ridership</th>\n",
       "      <th>year</th>\n",
       "      <th>month</th>\n",
       "      <th>day</th>\n",
       "      <th>hour</th>\n",
       "      <th>temperature_2m (°C)</th>\n",
       "      <th>precipitation (mm)</th>\n",
       "      <th>rain (mm)</th>\n",
       "      <th>cloudcover (%)</th>\n",
       "      <th>cloudcover_low (%)</th>\n",
       "      <th>cloudcover_mid (%)</th>\n",
       "      <th>cloudcover_high (%)</th>\n",
       "      <th>windspeed_10m (km/h)</th>\n",
       "      <th>winddirection_10m (°)</th>\n",
       "    </tr>\n",
       "  </thead>\n",
       "  <tbody>\n",
       "    <tr>\n",
       "      <th>0</th>\n",
       "      <td>2.0</td>\n",
       "      <td>1.0</td>\n",
       "      <td>2022</td>\n",
       "      <td>2</td>\n",
       "      <td>6</td>\n",
       "      <td>15</td>\n",
       "      <td>-5.6</td>\n",
       "      <td>0.0</td>\n",
       "      <td>0.0</td>\n",
       "      <td>11.0</td>\n",
       "      <td>0.0</td>\n",
       "      <td>0.0</td>\n",
       "      <td>35.0</td>\n",
       "      <td>6.600000</td>\n",
       "      <td>331.0</td>\n",
       "    </tr>\n",
       "    <tr>\n",
       "      <th>1</th>\n",
       "      <td>2.0</td>\n",
       "      <td>1.0</td>\n",
       "      <td>2022</td>\n",
       "      <td>2</td>\n",
       "      <td>16</td>\n",
       "      <td>23</td>\n",
       "      <td>5.4</td>\n",
       "      <td>0.0</td>\n",
       "      <td>0.0</td>\n",
       "      <td>29.0</td>\n",
       "      <td>0.0</td>\n",
       "      <td>0.0</td>\n",
       "      <td>97.0</td>\n",
       "      <td>12.100000</td>\n",
       "      <td>280.0</td>\n",
       "    </tr>\n",
       "    <tr>\n",
       "      <th>2</th>\n",
       "      <td>2.0</td>\n",
       "      <td>1.0</td>\n",
       "      <td>2022</td>\n",
       "      <td>2</td>\n",
       "      <td>23</td>\n",
       "      <td>8</td>\n",
       "      <td>13.5</td>\n",
       "      <td>0.0</td>\n",
       "      <td>0.0</td>\n",
       "      <td>44.0</td>\n",
       "      <td>8.0</td>\n",
       "      <td>11.0</td>\n",
       "      <td>100.0</td>\n",
       "      <td>16.299999</td>\n",
       "      <td>227.0</td>\n",
       "    </tr>\n",
       "    <tr>\n",
       "      <th>3</th>\n",
       "      <td>2.0</td>\n",
       "      <td>4.0</td>\n",
       "      <td>2022</td>\n",
       "      <td>2</td>\n",
       "      <td>23</td>\n",
       "      <td>19</td>\n",
       "      <td>17.5</td>\n",
       "      <td>0.0</td>\n",
       "      <td>0.0</td>\n",
       "      <td>22.0</td>\n",
       "      <td>5.0</td>\n",
       "      <td>2.0</td>\n",
       "      <td>54.0</td>\n",
       "      <td>21.600000</td>\n",
       "      <td>184.0</td>\n",
       "    </tr>\n",
       "    <tr>\n",
       "      <th>4</th>\n",
       "      <td>2.0</td>\n",
       "      <td>1.0</td>\n",
       "      <td>2022</td>\n",
       "      <td>3</td>\n",
       "      <td>22</td>\n",
       "      <td>10</td>\n",
       "      <td>7.4</td>\n",
       "      <td>0.0</td>\n",
       "      <td>0.0</td>\n",
       "      <td>20.0</td>\n",
       "      <td>0.0</td>\n",
       "      <td>30.0</td>\n",
       "      <td>8.0</td>\n",
       "      <td>10.800000</td>\n",
       "      <td>127.0</td>\n",
       "    </tr>\n",
       "  </tbody>\n",
       "</table>\n",
       "</div>"
      ],
      "text/plain": [
       "   locationid  ridership  year  month  day  hour  temperature_2m (°C)  \\\n",
       "0         2.0        1.0  2022      2    6    15                 -5.6   \n",
       "1         2.0        1.0  2022      2   16    23                  5.4   \n",
       "2         2.0        1.0  2022      2   23     8                 13.5   \n",
       "3         2.0        4.0  2022      2   23    19                 17.5   \n",
       "4         2.0        1.0  2022      3   22    10                  7.4   \n",
       "\n",
       "   precipitation (mm)  rain (mm)  cloudcover (%)  cloudcover_low (%)  \\\n",
       "0                 0.0        0.0            11.0                 0.0   \n",
       "1                 0.0        0.0            29.0                 0.0   \n",
       "2                 0.0        0.0            44.0                 8.0   \n",
       "3                 0.0        0.0            22.0                 5.0   \n",
       "4                 0.0        0.0            20.0                 0.0   \n",
       "\n",
       "   cloudcover_mid (%)  cloudcover_high (%)  windspeed_10m (km/h)  \\\n",
       "0                 0.0                 35.0              6.600000   \n",
       "1                 0.0                 97.0             12.100000   \n",
       "2                11.0                100.0             16.299999   \n",
       "3                 2.0                 54.0             21.600000   \n",
       "4                30.0                  8.0             10.800000   \n",
       "\n",
       "   winddirection_10m (°)  \n",
       "0                  331.0  \n",
       "1                  280.0  \n",
       "2                  227.0  \n",
       "3                  184.0  \n",
       "4                  127.0  "
      ]
     },
     "execution_count": 45,
     "metadata": {},
     "output_type": "execute_result"
    }
   ],
   "source": [
    "df_merged = pd.merge(index, df_filtered, on=['year', 'month', 'day', 'hour'], how='left')\n",
    "\n",
    "# Verify the merged DataFrame\n",
    "print(\"Merged DataFrame shape:\", df_merged.shape)\n",
    "df_merged.head()"
   ]
  },
  {
   "cell_type": "code",
   "execution_count": 29,
   "metadata": {},
   "outputs": [
    {
     "data": {
      "text/html": [
       "<div>\n",
       "<style scoped>\n",
       "    .dataframe tbody tr th:only-of-type {\n",
       "        vertical-align: middle;\n",
       "    }\n",
       "\n",
       "    .dataframe tbody tr th {\n",
       "        vertical-align: top;\n",
       "    }\n",
       "\n",
       "    .dataframe thead th {\n",
       "        text-align: right;\n",
       "    }\n",
       "</style>\n",
       "<table border=\"1\" class=\"dataframe\">\n",
       "  <thead>\n",
       "    <tr style=\"text-align: right;\">\n",
       "      <th></th>\n",
       "      <th>locationid</th>\n",
       "      <th>transit_timestamp</th>\n",
       "      <th>ridership</th>\n",
       "      <th>time</th>\n",
       "      <th>temperature_2m (°C)</th>\n",
       "      <th>precipitation (mm)</th>\n",
       "      <th>rain (mm)</th>\n",
       "      <th>cloudcover (%)</th>\n",
       "      <th>cloudcover_low (%)</th>\n",
       "      <th>cloudcover_mid (%)</th>\n",
       "      <th>cloudcover_high (%)</th>\n",
       "      <th>windspeed_10m (km/h)</th>\n",
       "      <th>winddirection_10m (°)</th>\n",
       "    </tr>\n",
       "  </thead>\n",
       "  <tbody>\n",
       "    <tr>\n",
       "      <th>0</th>\n",
       "      <td>2.0</td>\n",
       "      <td>2022-02-06 15:00:00</td>\n",
       "      <td>1.0</td>\n",
       "      <td>2022-02-06 15:00:00</td>\n",
       "      <td>-5.6</td>\n",
       "      <td>0.0</td>\n",
       "      <td>0.0</td>\n",
       "      <td>11.0</td>\n",
       "      <td>0.0</td>\n",
       "      <td>0.0</td>\n",
       "      <td>35.0</td>\n",
       "      <td>6.600000</td>\n",
       "      <td>331.0</td>\n",
       "    </tr>\n",
       "    <tr>\n",
       "      <th>1</th>\n",
       "      <td>2.0</td>\n",
       "      <td>2022-02-16 23:00:00</td>\n",
       "      <td>1.0</td>\n",
       "      <td>2022-02-16 23:00:00</td>\n",
       "      <td>5.4</td>\n",
       "      <td>0.0</td>\n",
       "      <td>0.0</td>\n",
       "      <td>29.0</td>\n",
       "      <td>0.0</td>\n",
       "      <td>0.0</td>\n",
       "      <td>97.0</td>\n",
       "      <td>12.100000</td>\n",
       "      <td>280.0</td>\n",
       "    </tr>\n",
       "    <tr>\n",
       "      <th>2</th>\n",
       "      <td>2.0</td>\n",
       "      <td>2022-02-23 08:00:00</td>\n",
       "      <td>1.0</td>\n",
       "      <td>2022-02-23 08:00:00</td>\n",
       "      <td>13.5</td>\n",
       "      <td>0.0</td>\n",
       "      <td>0.0</td>\n",
       "      <td>44.0</td>\n",
       "      <td>8.0</td>\n",
       "      <td>11.0</td>\n",
       "      <td>100.0</td>\n",
       "      <td>16.299999</td>\n",
       "      <td>227.0</td>\n",
       "    </tr>\n",
       "    <tr>\n",
       "      <th>3</th>\n",
       "      <td>2.0</td>\n",
       "      <td>2022-02-23 19:00:00</td>\n",
       "      <td>4.0</td>\n",
       "      <td>2022-02-23 19:00:00</td>\n",
       "      <td>17.5</td>\n",
       "      <td>0.0</td>\n",
       "      <td>0.0</td>\n",
       "      <td>22.0</td>\n",
       "      <td>5.0</td>\n",
       "      <td>2.0</td>\n",
       "      <td>54.0</td>\n",
       "      <td>21.600000</td>\n",
       "      <td>184.0</td>\n",
       "    </tr>\n",
       "    <tr>\n",
       "      <th>4</th>\n",
       "      <td>2.0</td>\n",
       "      <td>2022-03-22 10:00:00</td>\n",
       "      <td>1.0</td>\n",
       "      <td>2022-03-22 10:00:00</td>\n",
       "      <td>7.4</td>\n",
       "      <td>0.0</td>\n",
       "      <td>0.0</td>\n",
       "      <td>20.0</td>\n",
       "      <td>0.0</td>\n",
       "      <td>30.0</td>\n",
       "      <td>8.0</td>\n",
       "      <td>10.800000</td>\n",
       "      <td>127.0</td>\n",
       "    </tr>\n",
       "  </tbody>\n",
       "</table>\n",
       "</div>"
      ],
      "text/plain": [
       "   locationid   transit_timestamp  ridership                time  \\\n",
       "0         2.0 2022-02-06 15:00:00        1.0 2022-02-06 15:00:00   \n",
       "1         2.0 2022-02-16 23:00:00        1.0 2022-02-16 23:00:00   \n",
       "2         2.0 2022-02-23 08:00:00        1.0 2022-02-23 08:00:00   \n",
       "3         2.0 2022-02-23 19:00:00        4.0 2022-02-23 19:00:00   \n",
       "4         2.0 2022-03-22 10:00:00        1.0 2022-03-22 10:00:00   \n",
       "\n",
       "   temperature_2m (°C)  precipitation (mm)  rain (mm)  cloudcover (%)  \\\n",
       "0                 -5.6                 0.0        0.0            11.0   \n",
       "1                  5.4                 0.0        0.0            29.0   \n",
       "2                 13.5                 0.0        0.0            44.0   \n",
       "3                 17.5                 0.0        0.0            22.0   \n",
       "4                  7.4                 0.0        0.0            20.0   \n",
       "\n",
       "   cloudcover_low (%)  cloudcover_mid (%)  cloudcover_high (%)  \\\n",
       "0                 0.0                 0.0                 35.0   \n",
       "1                 0.0                 0.0                 97.0   \n",
       "2                 8.0                11.0                100.0   \n",
       "3                 5.0                 2.0                 54.0   \n",
       "4                 0.0                30.0                  8.0   \n",
       "\n",
       "   windspeed_10m (km/h)  winddirection_10m (°)  \n",
       "0              6.600000                  331.0  \n",
       "1             12.100000                  280.0  \n",
       "2             16.299999                  227.0  \n",
       "3             21.600000                  184.0  \n",
       "4             10.800000                  127.0  "
      ]
     },
     "execution_count": 29,
     "metadata": {},
     "output_type": "execute_result"
    }
   ],
   "source": [
    "df_merged.head()"
   ]
  },
  {
   "cell_type": "code",
   "execution_count": 46,
   "metadata": {},
   "outputs": [],
   "source": [
    "df_merged.to_parquet('c:/fomo_data/model_data_weather.parquet')"
   ]
  }
 ],
 "metadata": {
  "kernelspec": {
   "display_name": "softwareeng",
   "language": "python",
   "name": "python3"
  },
  "language_info": {
   "codemirror_mode": {
    "name": "ipython",
    "version": 3
   },
   "file_extension": ".py",
   "mimetype": "text/x-python",
   "name": "python",
   "nbconvert_exporter": "python",
   "pygments_lexer": "ipython3",
   "version": "3.11.8"
  }
 },
 "nbformat": 4,
 "nbformat_minor": 2
}
